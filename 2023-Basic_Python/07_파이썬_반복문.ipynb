{
  "cells": [
    {
      "cell_type": "markdown",
      "metadata": {
        "id": "view-in-github",
        "colab_type": "text"
      },
      "source": [
        "<a href=\"https://colab.research.google.com/github/gimbabheaven/2023-Basic_Python/blob/master/07_%ED%8C%8C%EC%9D%B4%EC%8D%AC_%EB%B0%98%EB%B3%B5%EB%AC%B8.ipynb\" target=\"_parent\"><img src=\"https://colab.research.google.com/assets/colab-badge.svg\" alt=\"Open In Colab\"/></a>"
      ]
    },
    {
      "cell_type": "markdown",
      "metadata": {
        "id": "GGwhVABx8Ucj"
      },
      "source": [
        "# 반복문"
      ]
    },
    {
      "cell_type": "markdown",
      "metadata": {
        "id": "MPve6nk48nWY"
      },
      "source": [
        "- 1회 이상 반복해서 수행하는 일을 반복문으로 통해 쉽게 해결할 수 있습니다.\n",
        "- 반드시 list, tuple, dict, set 등 집합에 대한 순회를 돌며 일을 처리할 때 많이 쓰입니다.\n",
        "- list, tuple, dict, set, 문자열까지 모두 **순회가능한(iterable) 객체** 입니다.\n",
        "- 순회가능한(iterable) 객체는 반복문을 통해 순회할 수 있습니다."
      ]
    },
    {
      "cell_type": "code",
      "execution_count": null,
      "metadata": {
        "id": "r9jXJ8L49VLE"
      },
      "outputs": [],
      "source": [
        "mylist = [1, 2, 3, 4, 5, 6, 7, 8, 9, 10]"
      ]
    },
    {
      "cell_type": "markdown",
      "metadata": {
        "id": "1tqhcEyv9asJ"
      },
      "source": [
        "mylist에 들어 있는 모든 값들을 출력하려고 한다면?"
      ]
    },
    {
      "cell_type": "code",
      "execution_count": null,
      "metadata": {
        "colab": {
          "base_uri": "https://localhost:8080/"
        },
        "id": "JWqvzMQ-9gq_",
        "outputId": "5879425c-a780-4968-aa5f-8de0f383e565"
      },
      "outputs": [
        {
          "name": "stdout",
          "output_type": "stream",
          "text": [
            "1\n",
            "2\n",
            "3\n",
            "...\n",
            "9\n",
            "10\n"
          ]
        }
      ],
      "source": [
        "print(mylist[0])\n",
        "print(mylist[1])\n",
        "print(mylist[2])\n",
        "print('...')\n",
        "print(mylist[8])\n",
        "print(mylist[9])"
      ]
    },
    {
      "cell_type": "markdown",
      "metadata": {
        "id": "2eRNROEc9vaB"
      },
      "source": [
        "## for 와 in 구문 (반복문)"
      ]
    },
    {
      "cell_type": "markdown",
      "metadata": {
        "id": "EmihJIWJ9zSI"
      },
      "source": [
        "**[기본 문법]**<br>\n",
        "for 하나씩 꺼내올 때 변수 in [꺼내올 집합]:<br/>\n",
        "(indent)\n",
        "* list, tuple, set, dictionary, 문자열 형태 모두 가능\n",
        "* range와 결합하여 사용 가능"
      ]
    },
    {
      "cell_type": "markdown",
      "metadata": {
        "id": "_87dv7Z6Hwu6"
      },
      "source": [
        "### 리스트(list)"
      ]
    },
    {
      "cell_type": "code",
      "execution_count": null,
      "metadata": {
        "id": "rF2Yte9WYptX"
      },
      "outputs": [],
      "source": [
        "mylist = [1, 2, 3, 4, 5]"
      ]
    },
    {
      "cell_type": "code",
      "execution_count": null,
      "metadata": {
        "colab": {
          "base_uri": "https://localhost:8080/"
        },
        "id": "qk2ljaev93th",
        "outputId": "1eef77fb-fc31-4743-a5bf-5be94a2e103e"
      },
      "outputs": [
        {
          "name": "stdout",
          "output_type": "stream",
          "text": [
            "1\n",
            "2\n",
            "3\n",
            "4\n",
            "5\n"
          ]
        }
      ],
      "source": [
        "# 코드를 입력해 주세요\n",
        "for i in mylist:\n",
        "  print(i)"
      ]
    },
    {
      "cell_type": "markdown",
      "metadata": {
        "id": "jh3AwjZvYptY"
      },
      "source": [
        "<p><strong>[출력 결과]</strong></p><pre>1\n",
        "2\n",
        "3\n",
        "4\n",
        "5\n",
        "</pre>"
      ]
    },
    {
      "cell_type": "markdown",
      "metadata": {
        "id": "Cg8hcduuHx6l"
      },
      "source": [
        "### 튜플(tuple)"
      ]
    },
    {
      "cell_type": "code",
      "execution_count": null,
      "metadata": {
        "colab": {
          "base_uri": "https://localhost:8080/"
        },
        "id": "fA1ziFWjCt-t",
        "outputId": "6f2cddcd-2c24-4395-d14d-354e68616235"
      },
      "outputs": [
        {
          "name": "stdout",
          "output_type": "stream",
          "text": [
            "1\n",
            "2\n",
            "3\n",
            "4\n",
            "5\n"
          ]
        }
      ],
      "source": [
        "for i in (1, 2, 3, 4, 5):\n",
        "    print(i)"
      ]
    },
    {
      "cell_type": "markdown",
      "metadata": {
        "id": "Ldd76LTqYptZ"
      },
      "source": [
        "### tuple + list"
      ]
    },
    {
      "cell_type": "markdown",
      "metadata": {
        "id": "8M8S1JUNYptZ"
      },
      "source": [
        "tuple을 전체로 받아주는 경우"
      ]
    },
    {
      "cell_type": "code",
      "execution_count": null,
      "metadata": {
        "colab": {
          "base_uri": "https://localhost:8080/"
        },
        "id": "ANZLK3-qYptZ",
        "outputId": "7eb231b8-68f3-44ef-a48a-3d6cfa5f4f72"
      },
      "outputs": [
        {
          "name": "stdout",
          "output_type": "stream",
          "text": [
            "('제이콥스', 10)\n",
            "제이콥스\n",
            "10\n"
          ]
        }
      ],
      "source": [
        "person = ('제이콥스', 10)\n",
        "print(person)\n",
        "print(person[0])\n",
        "print(person[1])"
      ]
    },
    {
      "cell_type": "markdown",
      "metadata": {
        "id": "cIm1ZGnJYpta"
      },
      "source": [
        "tuple의 요소를 개별로 받아주는 경우"
      ]
    },
    {
      "cell_type": "code",
      "execution_count": null,
      "metadata": {
        "colab": {
          "base_uri": "https://localhost:8080/"
        },
        "id": "Fz7fW53DYpta",
        "outputId": "75f62ff9-1b1c-4e25-ee2c-18b91da72100"
      },
      "outputs": [
        {
          "name": "stdout",
          "output_type": "stream",
          "text": [
            "제이콥스\n",
            "10\n"
          ]
        }
      ],
      "source": [
        "name, age = ('제이콥스', 10)\n",
        "print(name)\n",
        "print(age)"
      ]
    },
    {
      "cell_type": "markdown",
      "metadata": {
        "id": "ao0NPuPxYpta"
      },
      "source": [
        "반복문에서의 응용"
      ]
    },
    {
      "cell_type": "code",
      "execution_count": null,
      "metadata": {
        "colab": {
          "base_uri": "https://localhost:8080/"
        },
        "id": "_TWmermWYpta",
        "outputId": "4b8a5641-87fd-49ec-9fc6-ea0874c61761"
      },
      "outputs": [
        {
          "name": "stdout",
          "output_type": "stream",
          "text": [
            "제이콥스 10\n",
            "피터 20\n",
            "타이거 30\n"
          ]
        }
      ],
      "source": [
        "mytuplelist = [('제이콥스', 10), ('피터', 20), ('타이거', 30)]\n",
        "\n",
        "for mytuple in mytuplelist:\n",
        "    print(mytuple[0], mytuple[1])"
      ]
    },
    {
      "cell_type": "code",
      "execution_count": null,
      "metadata": {
        "colab": {
          "base_uri": "https://localhost:8080/"
        },
        "id": "B7LuSDiBYpta",
        "outputId": "a15430e3-00fa-425e-ccc3-31ddf65d814b"
      },
      "outputs": [
        {
          "name": "stdout",
          "output_type": "stream",
          "text": [
            "제이콥스 10\n",
            "피터 20\n",
            "타이거 30\n"
          ]
        }
      ],
      "source": [
        "mytuplelist = [('제이콥스', 10), ('피터', 20), ('타이거', 30)]\n",
        "\n",
        "for name, age in mytuplelist:\n",
        "    print(name, age)"
      ]
    },
    {
      "cell_type": "markdown",
      "metadata": {
        "id": "vHORAjD5HucU"
      },
      "source": [
        "### 딕셔너리(dictionary)"
      ]
    },
    {
      "cell_type": "code",
      "execution_count": null,
      "metadata": {
        "id": "7c1eHVKyC6K7"
      },
      "outputs": [],
      "source": [
        "mydict = {'헐크': 50, '아이언맨': 60, '펭수': 70}"
      ]
    },
    {
      "cell_type": "code",
      "execution_count": null,
      "metadata": {
        "colab": {
          "base_uri": "https://localhost:8080/"
        },
        "id": "N0fsy5XD0Io1",
        "outputId": "2d49c9a9-2c68-450f-c4d6-c6fa8aa7dc25"
      },
      "outputs": [
        {
          "data": {
            "text/plain": [
              "dict_keys(['헐크', '아이언맨', '펭수'])"
            ]
          },
          "execution_count": 11,
          "metadata": {},
          "output_type": "execute_result"
        }
      ],
      "source": [
        "mydict.keys()"
      ]
    },
    {
      "cell_type": "code",
      "execution_count": 16,
      "metadata": {
        "id": "Dx5Hg4GQDK9X",
        "colab": {
          "base_uri": "https://localhost:8080/"
        },
        "outputId": "e4ca636a-e16d-40b5-ba24-47b73422dd80"
      },
      "outputs": [
        {
          "output_type": "stream",
          "name": "stdout",
          "text": [
            "헐크\n",
            "아이언맨\n",
            "펭수\n"
          ]
        }
      ],
      "source": [
        "for key in mydict.keys():\n",
        "    print(key)"
      ]
    },
    {
      "cell_type": "code",
      "execution_count": null,
      "metadata": {
        "colab": {
          "background_save": true
        },
        "id": "SUR6W29bDN5O",
        "outputId": "8bad2f17-49eb-4c7c-c278-3c424308cdbb"
      },
      "outputs": [
        {
          "name": "stdout",
          "output_type": "stream",
          "text": [
            "50\n",
            "60\n",
            "70\n"
          ]
        }
      ],
      "source": [
        "for value in mydict.values():\n",
        "    print(value)"
      ]
    },
    {
      "cell_type": "code",
      "execution_count": null,
      "metadata": {
        "colab": {
          "background_save": true
        },
        "id": "aPN-MYtw0POF",
        "outputId": "d0816106-e0d8-490a-9fd2-4391a96a23e6"
      },
      "outputs": [
        {
          "data": {
            "text/plain": [
              "dict_items([('헐크', 50), ('아이언맨', 60), ('펭수', 70)])"
            ]
          },
          "execution_count": 14,
          "metadata": {},
          "output_type": "execute_result"
        }
      ],
      "source": [
        "mydict.items()"
      ]
    },
    {
      "cell_type": "code",
      "execution_count": 17,
      "metadata": {
        "colab": {
          "base_uri": "https://localhost:8080/"
        },
        "id": "3TmHoAYSCzAC",
        "outputId": "907d6c8a-b59b-482e-edfc-24ddee6b0475"
      },
      "outputs": [
        {
          "output_type": "stream",
          "name": "stdout",
          "text": [
            "헐크 50\n",
            "아이언맨 60\n",
            "펭수 70\n"
          ]
        }
      ],
      "source": [
        "for name, age in mydict.items():\n",
        "    print(name, age)"
      ]
    },
    {
      "cell_type": "markdown",
      "metadata": {
        "id": "lPjQjwYtYptb"
      },
      "source": [
        "### 문자열(str)"
      ]
    },
    {
      "cell_type": "code",
      "execution_count": 18,
      "metadata": {
        "id": "6fEPZGg5Yptb",
        "colab": {
          "base_uri": "https://localhost:8080/"
        },
        "outputId": "e7b04f8f-423f-45f4-d2a9-72b4874e92b1"
      },
      "outputs": [
        {
          "output_type": "stream",
          "name": "stdout",
          "text": [
            "H\n",
            "e\n",
            "l\n",
            "l\n",
            "o\n"
          ]
        }
      ],
      "source": [
        "for c in \"Hello\":\n",
        "    print(c)"
      ]
    },
    {
      "cell_type": "markdown",
      "metadata": {
        "id": "JAR6lzjgH2G1"
      },
      "source": [
        "### range()\n",
        "\n",
        "- `range()` 함수는 별도의 list, tuple 생성 없이 range() 에서 정의한 범위를 반복는데 활용할 수 있습니다.\n",
        "- `range(start, stop, step)` 형식을 사용합니다."
      ]
    },
    {
      "cell_type": "markdown",
      "metadata": {
        "id": "478DUz4cYptc"
      },
      "source": [
        "`stop`: 단일 값을 지정하는 경우"
      ]
    },
    {
      "cell_type": "code",
      "execution_count": 19,
      "metadata": {
        "id": "trkoUuL9DJ2I",
        "colab": {
          "base_uri": "https://localhost:8080/"
        },
        "outputId": "56e98e68-1329-44a8-e539-98efbfd67c23"
      },
      "outputs": [
        {
          "output_type": "stream",
          "name": "stdout",
          "text": [
            "0\n",
            "1\n",
            "2\n",
            "3\n",
            "4\n",
            "5\n",
            "6\n",
            "7\n",
            "8\n",
            "9\n"
          ]
        }
      ],
      "source": [
        "for i in range(10):\n",
        "    print(i)"
      ]
    },
    {
      "cell_type": "markdown",
      "metadata": {
        "id": "oENzgAgfYptc"
      },
      "source": [
        "`start`, `stop`: 두 개의 값을 지정한 경우"
      ]
    },
    {
      "cell_type": "code",
      "execution_count": 20,
      "metadata": {
        "id": "XVgjb0KWEjkk",
        "colab": {
          "base_uri": "https://localhost:8080/"
        },
        "outputId": "c616fe9b-3a7c-4d57-a23b-e925225fc715"
      },
      "outputs": [
        {
          "output_type": "stream",
          "name": "stdout",
          "text": [
            "2\n",
            "3\n",
            "4\n",
            "5\n",
            "6\n",
            "7\n",
            "8\n"
          ]
        }
      ],
      "source": [
        "for i in range(2, 9):\n",
        "    print(i)"
      ]
    },
    {
      "cell_type": "markdown",
      "metadata": {
        "id": "HQrZBVPyYptc"
      },
      "source": [
        "`start`, `stop`, `step`: 세 개의 값을 지정한 경우"
      ]
    },
    {
      "cell_type": "code",
      "execution_count": 21,
      "metadata": {
        "id": "tSbyd-qCEpiH",
        "colab": {
          "base_uri": "https://localhost:8080/"
        },
        "outputId": "4c978197-de32-4c61-850e-7d8e008db42d"
      },
      "outputs": [
        {
          "output_type": "stream",
          "name": "stdout",
          "text": [
            "1\n",
            "3\n",
            "5\n",
            "7\n",
            "9\n"
          ]
        }
      ],
      "source": [
        "for i in range(1, 10, 2):\n",
        "    print(i)"
      ]
    },
    {
      "cell_type": "markdown",
      "metadata": {
        "id": "cs_RHDmcFnm1"
      },
      "source": [
        "## 반복문의 중첩"
      ]
    },
    {
      "cell_type": "code",
      "execution_count": 22,
      "metadata": {
        "id": "KguHXyJzFrDH",
        "colab": {
          "base_uri": "https://localhost:8080/"
        },
        "outputId": "b350cc27-7917-4e89-f6d4-1eb76610f248"
      },
      "outputs": [
        {
          "output_type": "stream",
          "name": "stdout",
          "text": [
            "(i=1) + (j=1) = 1\n",
            "(i=1) + (j=2) = 2\n",
            "(i=1) + (j=3) = 3\n",
            "===\n",
            "(i=2) + (j=1) = 2\n",
            "(i=2) + (j=2) = 4\n",
            "(i=2) + (j=3) = 6\n",
            "===\n",
            "(i=3) + (j=1) = 3\n",
            "(i=3) + (j=2) = 6\n",
            "(i=3) + (j=3) = 9\n",
            "===\n"
          ]
        }
      ],
      "source": [
        "for i in range(1, 4):\n",
        "    for j in range(1, 4):\n",
        "        print(f'(i={i}) + (j={j}) = {i * j}')\n",
        "    print('===')"
      ]
    },
    {
      "cell_type": "markdown",
      "metadata": {
        "id": "-dT8rGyO-MP4"
      },
      "source": [
        "## 제어문"
      ]
    },
    {
      "cell_type": "markdown",
      "metadata": {
        "id": "9WBQqfI1Yptd"
      },
      "source": [
        "### continue\n",
        "\n",
        "- 반복문 내부에서 `continue` 구문은 해당 루프(loop)를 건너뛰게 합니다.\n",
        "- `continue` 라는 구문을 만나면, 반복문에서 `continue` 아래 작성된 코드는 **실행되지 않고 건너뜁니다.**"
      ]
    },
    {
      "cell_type": "code",
      "execution_count": 23,
      "metadata": {
        "id": "AltNBV5C-Pqt"
      },
      "outputs": [],
      "source": [
        "mylist = [1, 2, 3, 4, 5, 6, 7, 8, 9, 10]"
      ]
    },
    {
      "cell_type": "markdown",
      "metadata": {
        "id": "zk-dZvfaD6H7"
      },
      "source": [
        "**반복문**과 **조건문** 그리고 `continue`를 활용하여 **짝수만 출력**해 주세요"
      ]
    },
    {
      "cell_type": "code",
      "execution_count": 24,
      "metadata": {
        "id": "RWgPVawJ-jRT"
      },
      "outputs": [],
      "source": [
        "# 코드를 입력해 주세요\n",
        "for i in mylist:\n",
        "  if i % 2 == 1:\n",
        "    continue\n",
        "    print(i)"
      ]
    },
    {
      "cell_type": "markdown",
      "metadata": {
        "id": "zyKG9aCcYpte"
      },
      "source": [
        "<p><strong>[출력 결과]</strong></p><pre>2\n",
        "4\n",
        "6\n",
        "8\n",
        "10\n",
        "</pre>"
      ]
    },
    {
      "cell_type": "markdown",
      "metadata": {
        "id": "xaDtUK2y-yRo"
      },
      "source": [
        "### break\n",
        "\n",
        "- **break** 구문을 만나면, **반복 루프(loop)는 즉시 종료**됩니다."
      ]
    },
    {
      "cell_type": "code",
      "execution_count": 25,
      "metadata": {
        "id": "g8rLTYZg-2R7"
      },
      "outputs": [],
      "source": [
        "mylist = [1, 2, 3, 4, 5, 6, 7, 8, 9, 10]"
      ]
    },
    {
      "cell_type": "markdown",
      "metadata": {
        "id": "tGdZ0d1S-59J"
      },
      "source": [
        "`break`를 사용하여 i가 6 이상이면 STOP"
      ]
    },
    {
      "cell_type": "code",
      "execution_count": 26,
      "metadata": {
        "id": "LyTOiLaC-4hd",
        "colab": {
          "base_uri": "https://localhost:8080/"
        },
        "outputId": "65f0e2db-212f-490d-8f3b-7518dcd03016"
      },
      "outputs": [
        {
          "output_type": "stream",
          "name": "stdout",
          "text": [
            "1\n",
            "2\n",
            "3\n",
            "4\n",
            "5\n"
          ]
        }
      ],
      "source": [
        "for i in mylist:\n",
        "    if i >= 6:\n",
        "        break\n",
        "    print(i)"
      ]
    },
    {
      "cell_type": "markdown",
      "metadata": {
        "id": "jlY_d4kFYpte"
      },
      "source": [
        "<p><strong>[출력 결과]</strong></p><pre>1\n",
        "2\n",
        "3\n",
        "4\n",
        "5\n",
        "</pre>"
      ]
    },
    {
      "cell_type": "markdown",
      "metadata": {
        "id": "_S11HBwkTwCz"
      },
      "source": [
        "### break, continue 차이"
      ]
    },
    {
      "cell_type": "code",
      "execution_count": 27,
      "metadata": {
        "id": "iCeDy3tYTwC0",
        "colab": {
          "base_uri": "https://localhost:8080/"
        },
        "outputId": "bc096cdf-5572-4d3d-e8fc-4e547cd5af96"
      },
      "outputs": [
        {
          "output_type": "stream",
          "name": "stdout",
          "text": [
            "0\n",
            "1\n",
            "2\n",
            "3\n",
            "4\n"
          ]
        }
      ],
      "source": [
        "for i in range(10):\n",
        "    if i == 5:\n",
        "        break\n",
        "    print(i)"
      ]
    },
    {
      "cell_type": "code",
      "execution_count": 28,
      "metadata": {
        "id": "2hryWurmTwC2",
        "colab": {
          "base_uri": "https://localhost:8080/"
        },
        "outputId": "5743983e-82fe-4f75-dbd0-1934a5d3186f"
      },
      "outputs": [
        {
          "output_type": "stream",
          "name": "stdout",
          "text": [
            "0\n",
            "1\n",
            "2\n",
            "3\n",
            "4\n",
            "6\n",
            "7\n",
            "8\n",
            "9\n"
          ]
        }
      ],
      "source": [
        "for i in range(10):\n",
        "    if i == 5:\n",
        "        continue\n",
        "    print(i)"
      ]
    },
    {
      "cell_type": "markdown",
      "metadata": {
        "id": "1_h_EkchFbU4"
      },
      "source": [
        "### 연습문제\n",
        "\n",
        "- 구구단을 반복문을 사용하여 만들어 보세요!\n",
        "- 구구단은 2단 부터 9단까지 있습니다."
      ]
    },
    {
      "cell_type": "code",
      "execution_count": 30,
      "metadata": {
        "id": "ENWT9y5RFgaJ",
        "colab": {
          "base_uri": "https://localhost:8080/"
        },
        "outputId": "20a9ca31-75e1-4736-c5a5-10b310c03733"
      },
      "outputs": [
        {
          "output_type": "stream",
          "name": "stdout",
          "text": [
            "2 X 1  =  2\n",
            "2 X 2  =  4\n",
            "2 X 3  =  6\n",
            "2 X 4  =  8\n",
            "2 X 5  =  10\n",
            "2 X 6  =  12\n",
            "2 X 7  =  14\n",
            "2 X 8  =  16\n",
            "2 X 9  =  18\n",
            "\n",
            "3 X 1  =  3\n",
            "3 X 2  =  6\n",
            "3 X 3  =  9\n",
            "3 X 4  =  12\n",
            "3 X 5  =  15\n",
            "3 X 6  =  18\n",
            "3 X 7  =  21\n",
            "3 X 8  =  24\n",
            "3 X 9  =  27\n",
            "\n",
            "4 X 1  =  4\n",
            "4 X 2  =  8\n",
            "4 X 3  =  12\n",
            "4 X 4  =  16\n",
            "4 X 5  =  20\n",
            "4 X 6  =  24\n",
            "4 X 7  =  28\n",
            "4 X 8  =  32\n",
            "4 X 9  =  36\n",
            "\n",
            "5 X 1  =  5\n",
            "5 X 2  =  10\n",
            "5 X 3  =  15\n",
            "5 X 4  =  20\n",
            "5 X 5  =  25\n",
            "5 X 6  =  30\n",
            "5 X 7  =  35\n",
            "5 X 8  =  40\n",
            "5 X 9  =  45\n",
            "\n",
            "6 X 1  =  6\n",
            "6 X 2  =  12\n",
            "6 X 3  =  18\n",
            "6 X 4  =  24\n",
            "6 X 5  =  30\n",
            "6 X 6  =  36\n",
            "6 X 7  =  42\n",
            "6 X 8  =  48\n",
            "6 X 9  =  54\n",
            "\n",
            "7 X 1  =  7\n",
            "7 X 2  =  14\n",
            "7 X 3  =  21\n",
            "7 X 4  =  28\n",
            "7 X 5  =  35\n",
            "7 X 6  =  42\n",
            "7 X 7  =  49\n",
            "7 X 8  =  56\n",
            "7 X 9  =  63\n",
            "\n",
            "8 X 1  =  8\n",
            "8 X 2  =  16\n",
            "8 X 3  =  24\n",
            "8 X 4  =  32\n",
            "8 X 5  =  40\n",
            "8 X 6  =  48\n",
            "8 X 7  =  56\n",
            "8 X 8  =  64\n",
            "8 X 9  =  72\n",
            "\n",
            "9 X 1  =  9\n",
            "9 X 2  =  18\n",
            "9 X 3  =  27\n",
            "9 X 4  =  36\n",
            "9 X 5  =  45\n",
            "9 X 6  =  54\n",
            "9 X 7  =  63\n",
            "9 X 8  =  72\n",
            "9 X 9  =  81\n",
            "\n"
          ]
        }
      ],
      "source": [
        "# 코드를 입력해 주세요\n",
        "for i in range(2, 10):\n",
        "  for j in range(1, 10):\n",
        "    print(i, \"X\", j, \" = \", i*j)\n",
        "  print()"
      ]
    },
    {
      "cell_type": "markdown",
      "metadata": {
        "id": "dS_aoZYCYptf"
      },
      "source": [
        "<p><strong>[출력 결과]</strong></p><pre>2 X 1 = 2\n",
        "2 X 2 = 4\n",
        "2 X 3 = 6\n",
        "2 X 4 = 8\n",
        "2 X 5 = 10\n",
        "2 X 6 = 12\n",
        "2 X 7 = 14\n",
        "2 X 8 = 16\n",
        "2 X 9 = 18\n",
        "\n",
        "3 X 1 = 3\n",
        "3 X 2 = 6\n",
        "3 X 3 = 9\n",
        "3 X 4 = 12\n",
        "3 X 5 = 15\n",
        "3 X 6 = 18\n",
        "3 X 7 = 21\n",
        "3 X 8 = 24\n",
        "3 X 9 = 27\n",
        "\n",
        "4 X 1 = 4\n",
        "4 X 2 = 8\n",
        "4 X 3 = 12\n",
        "4 X 4 = 16\n",
        "4 X 5 = 20\n",
        "4 X 6 = 24\n",
        "4 X 7 = 28\n",
        "4 X 8 = 32\n",
        "4 X 9 = 36\n",
        "\n",
        "5 X 1 = 5\n",
        "5 X 2 = 10\n",
        "5 X 3 = 15\n",
        "5 X 4 = 20\n",
        "5 X 5 = 25\n",
        "5 X 6 = 30\n",
        "5 X 7 = 35\n",
        "5 X 8 = 40\n",
        "5 X 9 = 45\n",
        "\n",
        "6 X 1 = 6\n",
        "6 X 2 = 12\n",
        "6 X 3 = 18\n",
        "6 X 4 = 24\n",
        "6 X 5 = 30\n",
        "6 X 6 = 36\n",
        "6 X 7 = 42\n",
        "6 X 8 = 48\n",
        "6 X 9 = 54\n",
        "\n",
        "7 X 1 = 7\n",
        "7 X 2 = 14\n",
        "7 X 3 = 21\n",
        "7 X 4 = 28\n",
        "7 X 5 = 35\n",
        "7 X 6 = 42\n",
        "7 X 7 = 49\n",
        "7 X 8 = 56\n",
        "7 X 9 = 63\n",
        "\n",
        "8 X 1 = 8\n",
        "8 X 2 = 16\n",
        "8 X 3 = 24\n",
        "8 X 4 = 32\n",
        "8 X 5 = 40\n",
        "8 X 6 = 48\n",
        "8 X 7 = 56\n",
        "8 X 8 = 64\n",
        "8 X 9 = 72\n",
        "\n",
        "9 X 1 = 9\n",
        "9 X 2 = 18\n",
        "9 X 3 = 27\n",
        "9 X 4 = 36\n",
        "9 X 5 = 45\n",
        "9 X 6 = 54\n",
        "9 X 7 = 63\n",
        "9 X 8 = 72\n",
        "9 X 9 = 81\n",
        "\n",
        "</pre>"
      ]
    },
    {
      "cell_type": "markdown",
      "metadata": {
        "id": "n5HUJMmWTwC6"
      },
      "source": [
        "## While\n",
        "\n",
        "- while 문은 while문과 함께 정의한 **조건이 참이 동안 반복 루프를 수행**합니다."
      ]
    },
    {
      "cell_type": "code",
      "execution_count": 31,
      "metadata": {
        "id": "A_X6tLkuYptg",
        "colab": {
          "base_uri": "https://localhost:8080/"
        },
        "outputId": "501ffa9d-d55a-45a9-ea70-131ab884bfa6"
      },
      "outputs": [
        {
          "output_type": "stream",
          "name": "stdout",
          "text": [
            "5\n",
            "4\n",
            "3\n",
            "2\n",
            "1\n"
          ]
        }
      ],
      "source": [
        "count = 5\n",
        "\n",
        "while count > 0:\n",
        "    print(count)\n",
        "    count -= 1"
      ]
    },
    {
      "cell_type": "markdown",
      "metadata": {
        "id": "fysBPpPEYptg"
      },
      "source": [
        "많은 사용하는 방법 중 하나는 `while True`로 지정하여 무한 루프를 생성 후, **탈출 구문 루프 내에서 설정**하는 것입니다."
      ]
    },
    {
      "cell_type": "code",
      "execution_count": null,
      "metadata": {
        "id": "b9nzwqYwTwC6"
      },
      "outputs": [],
      "source": [
        "count = 1\n",
        "\n",
        "while True:\n",
        "    print(count)\n",
        "    count += 1\n",
        "    # 탈출 구문(break)\n",
        "    if count > 5:\n",
        "        break"
      ]
    },
    {
      "cell_type": "markdown",
      "metadata": {
        "id": "fNVdLugiYpth"
      },
      "source": [
        "### 연습문제 1"
      ]
    },
    {
      "cell_type": "markdown",
      "metadata": {
        "id": "TLMBjEnDYpth"
      },
      "source": [
        "사용자의 입력이 'MALE', 'FEMALE'인 경우는 while 문을 종료하고, 그렇지 않으면 \"잘못된 입력 값입니다.\"를 출력하세요\n",
        "\n",
        "- input() 함수로 사용자로부터 입력을 받습니다."
      ]
    },
    {
      "cell_type": "code",
      "execution_count": 38,
      "metadata": {
        "id": "_dIvCf1wTwC8",
        "colab": {
          "base_uri": "https://localhost:8080/"
        },
        "outputId": "4e41bc40-fff1-4818-f811-d81a6b94bc42"
      },
      "outputs": [
        {
          "output_type": "stream",
          "name": "stdout",
          "text": [
            "animal\n",
            "잘못된 입력 값입니다.\n",
            "male\n",
            "잘못된 입력 값입니다.\n",
            "MALE\n",
            "====\n",
            "프로그램 종료\n"
          ]
        }
      ],
      "source": [
        "# 코드를 입력해 주세요\n",
        "gender = ''\n",
        "\n",
        "while(gender != 'MALE' and gender != 'FEMALE'):\n",
        "    gender = input()\n",
        "    if gender != 'MALE' and gender != 'FEMALE':\n",
        "        print('잘못된 입력 값입니다.')\n",
        "\n",
        "print('====\\n프로그램 종료')"
      ]
    },
    {
      "cell_type": "markdown",
      "metadata": {
        "id": "uToAs2nQYpth"
      },
      "source": [
        "<p><strong>[출력 결과]</strong></p><pre>animal\n",
        "잘못된 입력 값입니다.\n",
        "male\n",
        "잘못된 입력 값입니다.\n",
        "FEMALE\n",
        "</pre>"
      ]
    },
    {
      "cell_type": "markdown",
      "metadata": {
        "id": "-K427KJjTwC-"
      },
      "source": [
        "### 연습 문제 2"
      ]
    },
    {
      "cell_type": "markdown",
      "metadata": {
        "id": "ee-VmO97TwC-"
      },
      "source": [
        "1부터 50까지의 숫자 중에서 짝수의 합을 구하세요 (while 사용)"
      ]
    },
    {
      "cell_type": "code",
      "execution_count": 47,
      "metadata": {
        "id": "9Wtkpa8JTwC-",
        "colab": {
          "base_uri": "https://localhost:8080/"
        },
        "outputId": "88c89498-f6ae-4d68-c3fd-4533dc6d47df"
      },
      "outputs": [
        {
          "output_type": "stream",
          "name": "stdout",
          "text": [
            "count :  2 , total :  2\n",
            "count :  4 , total :  6\n",
            "count :  6 , total :  12\n",
            "count :  8 , total :  20\n",
            "count :  10 , total :  30\n",
            "count :  12 , total :  42\n",
            "count :  14 , total :  56\n",
            "count :  16 , total :  72\n",
            "count :  18 , total :  90\n",
            "count :  20 , total :  110\n",
            "count :  22 , total :  132\n",
            "count :  24 , total :  156\n",
            "count :  26 , total :  182\n",
            "count :  28 , total :  210\n",
            "count :  30 , total :  240\n",
            "count :  32 , total :  272\n",
            "count :  34 , total :  306\n",
            "count :  36 , total :  342\n",
            "count :  38 , total :  380\n",
            "count :  40 , total :  420\n",
            "count :  42 , total :  462\n",
            "count :  44 , total :  506\n",
            "count :  46 , total :  552\n",
            "count :  48 , total :  600\n",
            "count :  50 , total :  650\n"
          ]
        }
      ],
      "source": [
        "# 코드를 입력해 주세요\n",
        "count = 1\n",
        "total = 0\n",
        "\n",
        "while (count <= 50):\n",
        "  if (count % 2 == 0):\n",
        "    total += count\n",
        "    print('count : ', count, \", total : \", total)\n",
        "  count += 1"
      ]
    },
    {
      "cell_type": "markdown",
      "metadata": {
        "id": "rqJ5Odu3Ypti"
      },
      "source": [
        "<p><strong>[출력 결과]</strong></p><pre>count: 2, total: 2\n",
        "count: 4, total: 6\n",
        "count: 6, total: 12\n",
        "count: 8, total: 20\n",
        "count: 10, total: 30\n",
        "count: 12, total: 42\n",
        "count: 14, total: 56\n",
        "count: 16, total: 72\n",
        "count: 18, total: 90\n",
        "count: 20, total: 110\n",
        "count: 22, total: 132\n",
        "count: 24, total: 156\n",
        "count: 26, total: 182\n",
        "count: 28, total: 210\n",
        "count: 30, total: 240\n",
        "count: 32, total: 272\n",
        "count: 34, total: 306\n",
        "count: 36, total: 342\n",
        "count: 38, total: 380\n",
        "count: 40, total: 420\n",
        "count: 42, total: 462\n",
        "count: 44, total: 506\n",
        "count: 46, total: 552\n",
        "count: 48, total: 600\n",
        "count: 50, total: 650\n",
        "</pre>"
      ]
    },
    {
      "cell_type": "markdown",
      "metadata": {
        "id": "N__LNdqPTwDA"
      },
      "source": [
        "### 연습 문제 3"
      ]
    },
    {
      "cell_type": "markdown",
      "metadata": {
        "id": "ZyCbL-IxTwDB"
      },
      "source": [
        "**while**을 이용하여 다음과 같이 @ 찍기에 도전해 보세요!"
      ]
    },
    {
      "cell_type": "code",
      "execution_count": 48,
      "metadata": {
        "id": "qX1sgUIuTwDB",
        "colab": {
          "base_uri": "https://localhost:8080/"
        },
        "outputId": "42e2c399-8ce1-497c-a5c4-cbf492f93461"
      },
      "outputs": [
        {
          "output_type": "stream",
          "name": "stdout",
          "text": [
            "@\n",
            "@@\n",
            "@@@\n",
            "@@@@\n",
            "@@@@@\n"
          ]
        }
      ],
      "source": [
        "# 코드를 입력해 주세요\n",
        "num = 1\n",
        "while num <= 5:\n",
        "  print('@'*num)\n",
        "  num += 1"
      ]
    },
    {
      "cell_type": "markdown",
      "metadata": {
        "id": "aryhzgE3Yptj"
      },
      "source": [
        "<p><strong>[출력 결과]</strong></p><pre>@\n",
        "@@\n",
        "@@@\n",
        "@@@@\n",
        "@@@@@\n",
        "</pre>"
      ]
    },
    {
      "cell_type": "code",
      "execution_count": 52,
      "metadata": {
        "id": "1i2vHG0iVND2",
        "colab": {
          "base_uri": "https://localhost:8080/"
        },
        "outputId": "7c74bbfd-0b19-4e93-d84a-eeca1a5c6409"
      },
      "outputs": [
        {
          "output_type": "stream",
          "name": "stdout",
          "text": [
            "@\n",
            "@@\n",
            "@@@\n",
            "@@\n",
            "@\n"
          ]
        }
      ],
      "source": [
        "# 코드를 입력해 주세요\n",
        "num = 1\n",
        "while num<=5:\n",
        "    if num <=3:\n",
        "        print('@' * num)\n",
        "    else:\n",
        "        print('@' * (6-num))\n",
        "    num += 1"
      ]
    },
    {
      "cell_type": "markdown",
      "metadata": {
        "id": "4gd-ssp-Yptj"
      },
      "source": [
        "<p><strong>[출력 결과]</strong></p><pre>@\n",
        "@@\n",
        "@@@\n",
        "@@\n",
        "@\n",
        "</pre>"
      ]
    },
    {
      "cell_type": "code",
      "execution_count": null,
      "metadata": {
        "id": "cGZQNnCrYptj"
      },
      "outputs": [],
      "source": [
        "# 코드를 입력해 주세요\n"
      ]
    },
    {
      "cell_type": "markdown",
      "metadata": {
        "id": "MStUuMN0Yptk"
      },
      "source": [
        "<p><strong>[출력 결과]</strong></p><pre>  @\n",
        " @@@\n",
        "@@@@@\n",
        " @@@\n",
        "  @\n",
        "</pre>"
      ]
    }
  ],
  "metadata": {
    "colab": {
      "provenance": [],
      "include_colab_link": true
    },
    "kernelspec": {
      "display_name": "Python 3",
      "language": "python",
      "name": "python3"
    },
    "language_info": {
      "codemirror_mode": {
        "name": "ipython",
        "version": 3
      },
      "file_extension": ".py",
      "mimetype": "text/x-python",
      "name": "python",
      "nbconvert_exporter": "python",
      "pygments_lexer": "ipython3",
      "version": "3.7.10"
    }
  },
  "nbformat": 4,
  "nbformat_minor": 0
}