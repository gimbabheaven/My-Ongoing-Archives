{
  "nbformat": 4,
  "nbformat_minor": 0,
  "metadata": {
    "colab": {
      "provenance": [],
      "include_colab_link": true
    },
    "kernelspec": {
      "display_name": "Python 3",
      "language": "python",
      "name": "python3"
    },
    "language_info": {
      "codemirror_mode": {
        "name": "ipython",
        "version": 3
      },
      "file_extension": ".py",
      "mimetype": "text/x-python",
      "name": "python",
      "nbconvert_exporter": "python",
      "pygments_lexer": "ipython3",
      "version": "3.7.10"
    }
  },
  "cells": [
    {
      "cell_type": "markdown",
      "metadata": {
        "id": "view-in-github",
        "colab_type": "text"
      },
      "source": [
        "<a href=\"https://colab.research.google.com/github/gimbabheaven/2023-Basic_Python/blob/master/10_%ED%8C%8C%EC%9D%B4%EC%8D%AC_%EB%82%B4%EC%9E%A5%ED%95%A8%EC%88%98.ipynb\" target=\"_parent\"><img src=\"https://colab.research.google.com/assets/colab-badge.svg\" alt=\"Open In Colab\"/></a>"
      ]
    },
    {
      "cell_type": "markdown",
      "metadata": {
        "id": "B6nbae6qplQ2"
      },
      "source": [
        "# 내장함수(built-in function)\n",
        "\n",
        "- 파이썬에는 이미 만들어진 내장함수가 존재합니다.\n",
        "- 이미 사용하고 있는 `print()`, `type()`이 파이썬의 대표적인 내장함수입니다.\n",
        "- 이 밖에도 유용한 몇 가지 내장함수를 알아 보겠습니다."
      ]
    },
    {
      "cell_type": "markdown",
      "metadata": {
        "id": "V8gRF35efbQQ"
      },
      "source": [
        "## map\n",
        "\n",
        "- 문법: **map(function, iterable)**\n",
        "- map은 함수(f)와 순회 가능한(iterable) 자료형을 입력으로 받습니다.\n",
        "- map은 입력받은 자료형의 각 요소를 함수(function)가 수행한 결과를 묶어서 돌려줍니다."
      ]
    },
    {
      "cell_type": "code",
      "metadata": {
        "id": "d9CAT6gOfMSR"
      },
      "source": [
        "sample_data = [1, 2, 3, 4, 5, 6, 7, 8, 9, 10]"
      ],
      "execution_count": 1,
      "outputs": []
    },
    {
      "cell_type": "markdown",
      "metadata": {
        "id": "IvXhz-AeplQ6"
      },
      "source": [
        "map만 실행시 요소의 내용이 바로 출력되지 않습니다."
      ]
    },
    {
      "cell_type": "code",
      "metadata": {
        "id": "fAOcpluff7fc",
        "colab": {
          "base_uri": "https://localhost:8080/"
        },
        "outputId": "924eea43-7c7b-4bfa-ba05-b468903c4476"
      },
      "source": [
        "map(str, sample_data)"
      ],
      "execution_count": 2,
      "outputs": [
        {
          "output_type": "execute_result",
          "data": {
            "text/plain": [
              "<map at 0x791584ed2ce0>"
            ]
          },
          "metadata": {},
          "execution_count": 2
        }
      ]
    },
    {
      "cell_type": "markdown",
      "metadata": {
        "id": "XOKJUTuYplQ7"
      },
      "source": [
        "list()로 타입 변환하여 요소를 출력합니다."
      ]
    },
    {
      "cell_type": "code",
      "metadata": {
        "id": "hjWqV7bnf-si",
        "colab": {
          "base_uri": "https://localhost:8080/"
        },
        "outputId": "a986602e-47c2-4073-e27c-e78741fc1613"
      },
      "source": [
        "list(map(str, sample_data))"
      ],
      "execution_count": 3,
      "outputs": [
        {
          "output_type": "execute_result",
          "data": {
            "text/plain": [
              "['1', '2', '3', '4', '5', '6', '7', '8', '9', '10']"
            ]
          },
          "metadata": {},
          "execution_count": 3
        }
      ]
    },
    {
      "cell_type": "markdown",
      "metadata": {
        "id": "jyozggwtgBj9"
      },
      "source": [
        "### map에 lambda 함수 적용"
      ]
    },
    {
      "cell_type": "code",
      "metadata": {
        "id": "Ds7WoQ6nfYqH",
        "colab": {
          "base_uri": "https://localhost:8080/"
        },
        "outputId": "a22d5ca6-fc9f-4bfa-97b7-36f0087486bf"
      },
      "source": [
        "result = map(lambda x: x*2, sample_data)\n",
        "list(result)"
      ],
      "execution_count": 4,
      "outputs": [
        {
          "output_type": "execute_result",
          "data": {
            "text/plain": [
              "[2, 4, 6, 8, 10, 12, 14, 16, 18, 20]"
            ]
          },
          "metadata": {},
          "execution_count": 4
        }
      ]
    },
    {
      "cell_type": "markdown",
      "metadata": {
        "id": "6vqs1yfgfmk4"
      },
      "source": [
        "### map에 다중 인수를 지정"
      ]
    },
    {
      "cell_type": "code",
      "metadata": {
        "id": "jvoaFy-3fpsO",
        "colab": {
          "base_uri": "https://localhost:8080/"
        },
        "outputId": "472cc888-b818-488f-b156-bab3afac01a2"
      },
      "source": [
        "sample_data = [1, 2, 3, 4, 5, 6, 7, 8, 9, 10]\n",
        "sample_data_2 = [0, 1, 2, 3, 5, 8, 13, 21, 34, 55]\n",
        "list(map(lambda x, y: x+y, sample_data, sample_data_2))"
      ],
      "execution_count": 5,
      "outputs": [
        {
          "output_type": "execute_result",
          "data": {
            "text/plain": [
              "[1, 3, 5, 7, 10, 14, 20, 29, 43, 65]"
            ]
          },
          "metadata": {},
          "execution_count": 5
        }
      ]
    },
    {
      "cell_type": "markdown",
      "metadata": {
        "id": "ZU4lsAO4fybe"
      },
      "source": [
        "### list의 size가 다른 경우, 작은 size에 맞춰 생성"
      ]
    },
    {
      "cell_type": "code",
      "metadata": {
        "id": "iIklwPoCftq0"
      },
      "source": [
        "sample_data = [1, 2, 3, 4, 5, 6, 7, 8, 9, 10]\n",
        "sample_data_2 = [1, 1, 1, 10, 100]"
      ],
      "execution_count": 6,
      "outputs": []
    },
    {
      "cell_type": "code",
      "metadata": {
        "id": "QNKqdxGff2yT",
        "colab": {
          "base_uri": "https://localhost:8080/"
        },
        "outputId": "e3da68be-7267-4bd5-feac-0f270c579c71"
      },
      "source": [
        "list(map(lambda x, y: x+y, sample_data, sample_data_2))"
      ],
      "execution_count": 7,
      "outputs": [
        {
          "output_type": "execute_result",
          "data": {
            "text/plain": [
              "[2, 3, 4, 14, 105]"
            ]
          },
          "metadata": {},
          "execution_count": 7
        }
      ]
    },
    {
      "cell_type": "markdown",
      "metadata": {
        "id": "023hrUeghC3l"
      },
      "source": [
        "## fIlter\n",
        "\n",
        "- 문법: **fIlter(function, iterable)**\n",
        "- `filter` 내장함수는 값을 filter 할 때 사용합니다.\n",
        "- True인 값을 가지는 요소만 filter 합니다."
      ]
    },
    {
      "cell_type": "code",
      "metadata": {
        "id": "TQoP3joWhfPA"
      },
      "source": [
        "sample_data = [1, 2, 3, 4, 5, 6, 7, 8, 9, 10]"
      ],
      "execution_count": 8,
      "outputs": []
    },
    {
      "cell_type": "markdown",
      "metadata": {
        "id": "qgcIHDhSplRA"
      },
      "source": [
        "lambda 함수를 지정한 경우"
      ]
    },
    {
      "cell_type": "code",
      "metadata": {
        "id": "oCC58ElWplRA",
        "colab": {
          "base_uri": "https://localhost:8080/"
        },
        "outputId": "30d69d07-247c-4dbb-d59f-a47329328523"
      },
      "source": [
        "result = filter(lambda x: True if (x % 2 == 1) else False, sample_data)\n",
        "list(result)"
      ],
      "execution_count": 9,
      "outputs": [
        {
          "output_type": "execute_result",
          "data": {
            "text/plain": [
              "[1, 3, 5, 7, 9]"
            ]
          },
          "metadata": {},
          "execution_count": 9
        }
      ]
    },
    {
      "cell_type": "markdown",
      "metadata": {
        "id": "K4iEwtEXplRA"
      },
      "source": [
        "함수를 선언하여 함수명으로 지정한 경우"
      ]
    },
    {
      "cell_type": "code",
      "metadata": {
        "id": "lSY1Q1G9plRB"
      },
      "source": [
        "def three_multiple(x):\n",
        "    if x % 3 == 0:\n",
        "        return True\n",
        "    else:\n",
        "        return False"
      ],
      "execution_count": 10,
      "outputs": []
    },
    {
      "cell_type": "code",
      "metadata": {
        "id": "OS9C4CDyplRB",
        "colab": {
          "base_uri": "https://localhost:8080/"
        },
        "outputId": "f278edf4-7d70-4836-873c-c3439550007e"
      },
      "source": [
        "# 함수의 이름만 입력\n",
        "result = filter(three_multiple, sample_data)\n",
        "list(result)"
      ],
      "execution_count": 11,
      "outputs": [
        {
          "output_type": "execute_result",
          "data": {
            "text/plain": [
              "[3, 6, 9]"
            ]
          },
          "metadata": {},
          "execution_count": 11
        }
      ]
    },
    {
      "cell_type": "markdown",
      "metadata": {
        "id": "rm8OpLI5fzx2"
      },
      "source": [
        "## zip\n",
        "\n",
        "- 문법: **zip(*iterable)**\n",
        "- 동일한 개수로 이루어진 자료형을 묶어 주는 역할을 합니다."
      ]
    },
    {
      "cell_type": "code",
      "metadata": {
        "id": "sRZqzUSpgSCJ"
      },
      "source": [
        "sample_data1 = [1, 2, 3, 4, 5, 6, 7, 8, 9, 10]\n",
        "sample_data2 = [0, 1, 2, 3, 5, 8, 13, 21, 34, 55]\n",
        "sample_data3 = [5, 6, 7]"
      ],
      "execution_count": 12,
      "outputs": []
    },
    {
      "cell_type": "markdown",
      "metadata": {
        "id": "Jj7m811YplRB"
      },
      "source": [
        "`sample_data1`, `sample_data2`을 zip으로 묶어준 경우"
      ]
    },
    {
      "cell_type": "code",
      "metadata": {
        "id": "n558ZjfOgU0Z",
        "colab": {
          "base_uri": "https://localhost:8080/"
        },
        "outputId": "02e3f637-742c-44a8-d687-2c8c525bc339"
      },
      "source": [
        "result = zip(sample_data1, sample_data2)\n",
        "list(result)"
      ],
      "execution_count": 13,
      "outputs": [
        {
          "output_type": "execute_result",
          "data": {
            "text/plain": [
              "[(1, 0),\n",
              " (2, 1),\n",
              " (3, 2),\n",
              " (4, 3),\n",
              " (5, 5),\n",
              " (6, 8),\n",
              " (7, 13),\n",
              " (8, 21),\n",
              " (9, 34),\n",
              " (10, 55)]"
            ]
          },
          "metadata": {},
          "execution_count": 13
        }
      ]
    },
    {
      "cell_type": "markdown",
      "metadata": {
        "id": "r66k16YrplRC"
      },
      "source": [
        "`sample_data1`, `sample_data2`, `sample_data3`을 zip으로 묶어준 경우\n",
        "\n",
        "- 작은 size를 가지는 리스트(list)에 맞춰 생성합니다."
      ]
    },
    {
      "cell_type": "code",
      "metadata": {
        "id": "Gj_I34ANgcTi",
        "colab": {
          "base_uri": "https://localhost:8080/"
        },
        "outputId": "dc0aa7c6-9b2b-40c7-9902-5a0819ce1525"
      },
      "source": [
        "list(zip(sample_data1, sample_data2, sample_data3))"
      ],
      "execution_count": 14,
      "outputs": [
        {
          "output_type": "execute_result",
          "data": {
            "text/plain": [
              "[(1, 0, 5), (2, 1, 6), (3, 2, 7)]"
            ]
          },
          "metadata": {},
          "execution_count": 14
        }
      ]
    },
    {
      "cell_type": "markdown",
      "metadata": {
        "id": "qLqH10tTplRC"
      },
      "source": [
        "### zip의 응용"
      ]
    },
    {
      "cell_type": "code",
      "metadata": {
        "id": "_nU-m4O5gmpV"
      },
      "source": [
        "number = [1, 2, 3, 4]\n",
        "name = ['홍길동','김철수','John','Paul']"
      ],
      "execution_count": 15,
      "outputs": []
    },
    {
      "cell_type": "code",
      "metadata": {
        "id": "Eb6HDJL-g37P",
        "colab": {
          "base_uri": "https://localhost:8080/"
        },
        "outputId": "80526ba4-55a9-40fe-cf2b-673343a4d5e1"
      },
      "source": [
        "number_name = list(zip(number,name))\n",
        "number_name"
      ],
      "execution_count": 16,
      "outputs": [
        {
          "output_type": "execute_result",
          "data": {
            "text/plain": [
              "[(1, '홍길동'), (2, '김철수'), (3, 'John'), (4, 'Paul')]"
            ]
          },
          "metadata": {},
          "execution_count": 16
        }
      ]
    },
    {
      "cell_type": "markdown",
      "metadata": {
        "id": "cPwXYLB5hG2A"
      },
      "source": [
        "### zip을 활용한 dict 만들기"
      ]
    },
    {
      "cell_type": "code",
      "metadata": {
        "id": "mXIf5zE-hDkD"
      },
      "source": [
        "number = [1, 2, 3, 4]\n",
        "name = ['홍길동','김철수','John','Paul']\n",
        "dic = {}\n",
        "\n",
        "for number, name in zip(number,name):\n",
        "    dic[number] = name"
      ],
      "execution_count": 17,
      "outputs": []
    },
    {
      "cell_type": "code",
      "metadata": {
        "id": "61z39FoHhCL8",
        "colab": {
          "base_uri": "https://localhost:8080/"
        },
        "outputId": "672b04cf-3861-48dd-e553-bc0d5103cd40"
      },
      "source": [
        "dic"
      ],
      "execution_count": 18,
      "outputs": [
        {
          "output_type": "execute_result",
          "data": {
            "text/plain": [
              "{1: '홍길동', 2: '김철수', 3: 'John', 4: 'Paul'}"
            ]
          },
          "metadata": {},
          "execution_count": 18
        }
      ]
    },
    {
      "cell_type": "markdown",
      "metadata": {
        "id": "stGh0tcHplRD"
      },
      "source": [
        "## enumerate\n",
        "\n",
        "- [문법]: **enumerate(iterable, start=0)**\n",
        "- 순서가 있는 자료형을 입력 받아 index를 포함하는 객체로 return 합니다."
      ]
    },
    {
      "cell_type": "markdown",
      "metadata": {
        "id": "b_e4erUsplRD"
      },
      "source": [
        "일반 `range()` 함수를 사용한 경우"
      ]
    },
    {
      "cell_type": "code",
      "metadata": {
        "id": "6OwQP-8mplRD",
        "colab": {
          "base_uri": "https://localhost:8080/"
        },
        "outputId": "c135b1ff-7d70-44d6-fc8a-9c3d01edfdee"
      },
      "source": [
        "for value in range(1, 10, 2):\n",
        "    print(value)"
      ],
      "execution_count": 19,
      "outputs": [
        {
          "output_type": "stream",
          "name": "stdout",
          "text": [
            "1\n",
            "3\n",
            "5\n",
            "7\n",
            "9\n"
          ]
        }
      ]
    },
    {
      "cell_type": "markdown",
      "metadata": {
        "id": "kRfEIuNDplRD"
      },
      "source": [
        "`enumerate()` 함수를 사용하여 index를 return 받은 경우"
      ]
    },
    {
      "cell_type": "code",
      "metadata": {
        "id": "ohIyL5C-plRD",
        "colab": {
          "base_uri": "https://localhost:8080/"
        },
        "outputId": "ad09c51d-a7bc-4ab0-c7ba-924e2fd3a64e"
      },
      "source": [
        "for idx, value in enumerate(range(1, 10, 2)):\n",
        "    print(f'index: {idx}, value: {value}')"
      ],
      "execution_count": 20,
      "outputs": [
        {
          "output_type": "stream",
          "name": "stdout",
          "text": [
            "index: 0, value: 1\n",
            "index: 1, value: 3\n",
            "index: 2, value: 5\n",
            "index: 3, value: 7\n",
            "index: 4, value: 9\n"
          ]
        }
      ]
    },
    {
      "cell_type": "code",
      "metadata": {
        "colab": {
          "base_uri": "https://localhost:8080/"
        },
        "outputId": "bfc89081-e4d0-44c3-cb3b-0898c894ec1b",
        "id": "icdDmN7JrWtA"
      },
      "source": [
        "#start index 지정\n",
        "for idx, value in enumerate(range(1, 10, 2), start=100):\n",
        "    print(f'index: {idx}, value: {value}')"
      ],
      "execution_count": 21,
      "outputs": [
        {
          "output_type": "stream",
          "name": "stdout",
          "text": [
            "index: 100, value: 1\n",
            "index: 101, value: 3\n",
            "index: 102, value: 5\n",
            "index: 103, value: 7\n",
            "index: 104, value: 9\n"
          ]
        }
      ]
    }
  ]
}