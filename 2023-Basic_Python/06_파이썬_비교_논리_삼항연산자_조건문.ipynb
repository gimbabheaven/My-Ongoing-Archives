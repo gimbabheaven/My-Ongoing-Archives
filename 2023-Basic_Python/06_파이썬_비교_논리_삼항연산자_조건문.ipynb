{
  "nbformat": 4,
  "nbformat_minor": 0,
  "metadata": {
    "colab": {
      "provenance": [],
      "include_colab_link": true
    },
    "kernelspec": {
      "display_name": "Python 3",
      "language": "python",
      "name": "python3"
    },
    "language_info": {
      "codemirror_mode": {
        "name": "ipython",
        "version": 3
      },
      "file_extension": ".py",
      "mimetype": "text/x-python",
      "name": "python",
      "nbconvert_exporter": "python",
      "pygments_lexer": "ipython3",
      "version": "3.6.9"
    }
  },
  "cells": [
    {
      "cell_type": "markdown",
      "metadata": {
        "id": "view-in-github",
        "colab_type": "text"
      },
      "source": [
        "<a href=\"https://colab.research.google.com/github/gimbabheaven/2023-Basic_Python/blob/master/06_%ED%8C%8C%EC%9D%B4%EC%8D%AC_%EB%B9%84%EA%B5%90_%EB%85%BC%EB%A6%AC_%EC%82%BC%ED%95%AD%EC%97%B0%EC%82%B0%EC%9E%90_%EC%A1%B0%EA%B1%B4%EB%AC%B8.ipynb\" target=\"_parent\"><img src=\"https://colab.research.google.com/assets/colab-badge.svg\" alt=\"Open In Colab\"/></a>"
      ]
    },
    {
      "cell_type": "markdown",
      "metadata": {
        "id": "mkSnBW98EIs-"
      },
      "source": [
        "# 비교연산자\n",
        "\n",
        "비교 연산자는 주로 대소비교를 할 때 사용합니다."
      ]
    },
    {
      "cell_type": "markdown",
      "metadata": {
        "id": "HEG6iuONEswX"
      },
      "source": [
        "## 대소비교\n",
        "\n",
        "- `>`: 크다\n",
        "- `>=`: 크거나 같다\n",
        "- `<`: 작다\n",
        "- `<=`: 작거나 같다"
      ]
    },
    {
      "cell_type": "code",
      "metadata": {
        "id": "wiLgE47fEs1S",
        "colab": {
          "base_uri": "https://localhost:8080/"
        },
        "outputId": "c9ee23f8-3aa1-4ec9-c884-8176817f5435"
      },
      "source": [
        "1 > 2"
      ],
      "execution_count": null,
      "outputs": [
        {
          "output_type": "execute_result",
          "data": {
            "text/plain": [
              "False"
            ]
          },
          "metadata": {},
          "execution_count": 1
        }
      ]
    },
    {
      "cell_type": "code",
      "metadata": {
        "id": "0b6l023CEs5o",
        "colab": {
          "base_uri": "https://localhost:8080/"
        },
        "outputId": "3f1b6d35-9643-4e0f-e72e-9331ca27a301"
      },
      "source": [
        "10 >= 10"
      ],
      "execution_count": null,
      "outputs": [
        {
          "output_type": "execute_result",
          "data": {
            "text/plain": [
              "True"
            ]
          },
          "metadata": {},
          "execution_count": 2
        }
      ]
    },
    {
      "cell_type": "code",
      "metadata": {
        "id": "BLOj4nAgTN6f",
        "colab": {
          "base_uri": "https://localhost:8080/"
        },
        "outputId": "31fadbf2-3911-4278-ea14-471059d024e6"
      },
      "source": [
        "10 >= 10"
      ],
      "execution_count": null,
      "outputs": [
        {
          "output_type": "execute_result",
          "data": {
            "text/plain": [
              "True"
            ]
          },
          "metadata": {},
          "execution_count": 3
        }
      ]
    },
    {
      "cell_type": "code",
      "metadata": {
        "id": "3TTqQvmJEs91",
        "colab": {
          "base_uri": "https://localhost:8080/"
        },
        "outputId": "d0c96e7d-70b9-48b4-b5c0-32964f2984c8"
      },
      "source": [
        "9 < 10"
      ],
      "execution_count": null,
      "outputs": [
        {
          "output_type": "execute_result",
          "data": {
            "text/plain": [
              "True"
            ]
          },
          "metadata": {},
          "execution_count": 4
        }
      ]
    },
    {
      "cell_type": "code",
      "metadata": {
        "id": "llirdNcSEtE5",
        "colab": {
          "base_uri": "https://localhost:8080/"
        },
        "outputId": "4703b67d-5a54-4dec-9211-07e10abb21f9"
      },
      "source": [
        "8 <= 7"
      ],
      "execution_count": null,
      "outputs": [
        {
          "output_type": "execute_result",
          "data": {
            "text/plain": [
              "False"
            ]
          },
          "metadata": {},
          "execution_count": 5
        }
      ]
    },
    {
      "cell_type": "markdown",
      "metadata": {
        "id": "YnFEo5W4FBQV"
      },
      "source": [
        "## 같다와 같지 않다"
      ]
    },
    {
      "cell_type": "markdown",
      "metadata": {
        "id": "K4DCWsZm514r"
      },
      "source": [
        "### == : 같음을 비교"
      ]
    },
    {
      "cell_type": "markdown",
      "metadata": {
        "id": "c9JH4zBNFBGf"
      },
      "source": [
        "- `=`는 대입 연산자 입니다.\n",
        "- 코딩에서는 `=` 이 대입 연산자로 사용되기 때문에 `==`을 사용하고 있습니다."
      ]
    },
    {
      "cell_type": "code",
      "metadata": {
        "id": "g0FqYbH0FPsZ",
        "colab": {
          "base_uri": "https://localhost:8080/",
          "height": 141
        },
        "outputId": "bb2b618a-944f-4e05-8c51-bd054cba5973"
      },
      "source": [
        "2 = 2"
      ],
      "execution_count": null,
      "outputs": [
        {
          "output_type": "error",
          "ename": "SyntaxError",
          "evalue": "ignored",
          "traceback": [
            "\u001b[0;36m  File \u001b[0;32m\"<ipython-input-6-a8e553549e25>\"\u001b[0;36m, line \u001b[0;32m1\u001b[0m\n\u001b[0;31m    2 = 2\u001b[0m\n\u001b[0m    ^\u001b[0m\n\u001b[0;31mSyntaxError\u001b[0m\u001b[0;31m:\u001b[0m cannot assign to literal here. Maybe you meant '==' instead of '='?\n"
          ]
        }
      ]
    },
    {
      "cell_type": "code",
      "metadata": {
        "id": "lCnEQx-KFA_R",
        "colab": {
          "base_uri": "https://localhost:8080/"
        },
        "outputId": "15057206-b1aa-4425-eb35-5491c1199f9f"
      },
      "source": [
        "2 == 2"
      ],
      "execution_count": null,
      "outputs": [
        {
          "output_type": "execute_result",
          "data": {
            "text/plain": [
              "True"
            ]
          },
          "metadata": {},
          "execution_count": 7
        }
      ]
    },
    {
      "cell_type": "code",
      "metadata": {
        "id": "uu38fqhwOv_t",
        "colab": {
          "base_uri": "https://localhost:8080/"
        },
        "outputId": "22afb819-7c79-4ef3-e4c1-85cc444a4a40"
      },
      "source": [
        "2 == 3"
      ],
      "execution_count": null,
      "outputs": [
        {
          "output_type": "execute_result",
          "data": {
            "text/plain": [
              "False"
            ]
          },
          "metadata": {},
          "execution_count": 8
        }
      ]
    },
    {
      "cell_type": "markdown",
      "metadata": {
        "id": "J8S0jzfGFKLz"
      },
      "source": [
        "### != 같지 않음을 비교"
      ]
    },
    {
      "cell_type": "code",
      "metadata": {
        "id": "FN2gAfWMFKRy",
        "colab": {
          "base_uri": "https://localhost:8080/"
        },
        "outputId": "34d6f184-981a-4dd2-8887-afd8f70d3dcf"
      },
      "source": [
        "2 != 2"
      ],
      "execution_count": null,
      "outputs": [
        {
          "output_type": "execute_result",
          "data": {
            "text/plain": [
              "False"
            ]
          },
          "metadata": {},
          "execution_count": 9
        }
      ]
    },
    {
      "cell_type": "code",
      "metadata": {
        "id": "FVrNPEq7FKZk",
        "colab": {
          "base_uri": "https://localhost:8080/"
        },
        "outputId": "bab4922f-e956-4868-c638-f891d7839a3c"
      },
      "source": [
        "1 != 2"
      ],
      "execution_count": null,
      "outputs": [
        {
          "output_type": "execute_result",
          "data": {
            "text/plain": [
              "True"
            ]
          },
          "metadata": {},
          "execution_count": 10
        }
      ]
    },
    {
      "cell_type": "code",
      "metadata": {
        "id": "cjB7v1JiFc78",
        "colab": {
          "base_uri": "https://localhost:8080/"
        },
        "outputId": "4de5f5c5-29ad-4e12-a302-c720c14c4eaf"
      },
      "source": [
        "'나' != '너'"
      ],
      "execution_count": null,
      "outputs": [
        {
          "output_type": "execute_result",
          "data": {
            "text/plain": [
              "True"
            ]
          },
          "metadata": {},
          "execution_count": 11
        }
      ]
    },
    {
      "cell_type": "code",
      "metadata": {
        "id": "7b47rVKRFcuZ",
        "colab": {
          "base_uri": "https://localhost:8080/"
        },
        "outputId": "5faca7aa-b983-4885-fd82-114edbf40c63"
      },
      "source": [
        "'나' != '나'"
      ],
      "execution_count": null,
      "outputs": [
        {
          "output_type": "execute_result",
          "data": {
            "text/plain": [
              "False"
            ]
          },
          "metadata": {},
          "execution_count": 12
        }
      ]
    },
    {
      "cell_type": "markdown",
      "metadata": {
        "id": "nVJ1deTbACiP"
      },
      "source": [
        "## 조건문"
      ]
    },
    {
      "cell_type": "markdown",
      "metadata": {
        "id": "DUrQsRomElox"
      },
      "source": [
        "조건문이란 무엇일까요?\n",
        "\n",
        "주어진 조건이 **참**인 경우 그 다음 내가 정한 규칙(로직)을 실행하는 개념입니다."
      ]
    },
    {
      "cell_type": "markdown",
      "metadata": {
        "id": "eyntgHbrAJW2"
      },
      "source": [
        "### if"
      ]
    },
    {
      "cell_type": "markdown",
      "metadata": {
        "id": "Nq6CmuoYALrr"
      },
      "source": [
        "- if는 어떤 조건이 성립한다면~ 이라는 뜻입니다.\n",
        "- if 구문 끝에는 반드시 콜론(:)을 잊지 말아 주세요"
      ]
    },
    {
      "cell_type": "code",
      "metadata": {
        "id": "tNkI-ROGAPPz",
        "colab": {
          "base_uri": "https://localhost:8080/"
        },
        "outputId": "faa1770f-cb57-4178-cbe1-7aa5c20dcb18"
      },
      "source": [
        "if 5 > 3:\n",
        "    print('참')"
      ],
      "execution_count": null,
      "outputs": [
        {
          "output_type": "stream",
          "name": "stdout",
          "text": [
            "참\n"
          ]
        }
      ]
    },
    {
      "cell_type": "code",
      "metadata": {
        "id": "udUZJO19Ngk3",
        "colab": {
          "base_uri": "https://localhost:8080/"
        },
        "outputId": "b9e1616b-2d99-43fa-aea7-4d3a65d67590"
      },
      "source": [
        "if 5 > 3:\n",
        "    print('참')\n",
        "    print('참')\n",
        "    print('참')\n",
        "    print('참')\n",
        "\n",
        "print('끝') #오와 열 맞춰서 띄어쓰기"
      ],
      "execution_count": null,
      "outputs": [
        {
          "output_type": "stream",
          "name": "stdout",
          "text": [
            "참\n",
            "참\n",
            "참\n",
            "참\n",
            "끝\n"
          ]
        }
      ]
    },
    {
      "cell_type": "code",
      "metadata": {
        "id": "BIBsVKLRAUus",
        "colab": {
          "base_uri": "https://localhost:8080/"
        },
        "outputId": "71511a02-c887-4578-bba4-cd38612f12e6"
      },
      "source": [
        "if 5 > 3:\n",
        "    print('참')"
      ],
      "execution_count": null,
      "outputs": [
        {
          "output_type": "stream",
          "name": "stdout",
          "text": [
            "참\n"
          ]
        }
      ]
    },
    {
      "cell_type": "markdown",
      "metadata": {
        "id": "vTqQGfv5Ac4a"
      },
      "source": [
        "### else"
      ]
    },
    {
      "cell_type": "markdown",
      "metadata": {
        "id": "EzJHdesGAjTQ"
      },
      "source": [
        "else는 if 조건 후에 따라오며, if 가 아닌 경우에 실행 됩니다."
      ]
    },
    {
      "cell_type": "code",
      "metadata": {
        "id": "DsGowvtQAq6B",
        "colab": {
          "base_uri": "https://localhost:8080/"
        },
        "outputId": "7c9603b4-3dbe-44bd-d8fd-d9f479aae8dd"
      },
      "source": [
        "if 5 > 3:\n",
        "    print('if 구문 실행')\n",
        "else:\n",
        "    print('else 구문 실행')"
      ],
      "execution_count": null,
      "outputs": [
        {
          "output_type": "stream",
          "name": "stdout",
          "text": [
            "if 구문 실행\n"
          ]
        }
      ]
    },
    {
      "cell_type": "markdown",
      "metadata": {
        "id": "RIHTuYU7DJm2"
      },
      "source": [
        "하지만, else 만 단독으로 실행한다면?"
      ]
    },
    {
      "cell_type": "code",
      "metadata": {
        "id": "9I834w_8DOBx",
        "colab": {
          "base_uri": "https://localhost:8080/",
          "height": 141
        },
        "outputId": "3e8c44f0-e926-4354-9544-3dedc75404dd"
      },
      "source": [
        "else:\n",
        "    print('else 구문 실행')"
      ],
      "execution_count": null,
      "outputs": [
        {
          "output_type": "error",
          "ename": "SyntaxError",
          "evalue": "ignored",
          "traceback": [
            "\u001b[0;36m  File \u001b[0;32m\"<ipython-input-19-5018a7ac68d5>\"\u001b[0;36m, line \u001b[0;32m1\u001b[0m\n\u001b[0;31m    else:\u001b[0m\n\u001b[0m    ^\u001b[0m\n\u001b[0;31mSyntaxError\u001b[0m\u001b[0;31m:\u001b[0m invalid syntax\n"
          ]
        }
      ]
    },
    {
      "cell_type": "markdown",
      "metadata": {
        "id": "YRckrfc3DSsM"
      },
      "source": [
        "### elif"
      ]
    },
    {
      "cell_type": "markdown",
      "metadata": {
        "id": "LS8DofkNDWUS"
      },
      "source": [
        "elif 구문은 3가지 이상 분기 (조건)의 동작을 수행할 때 사용합니다.\n"
      ]
    },
    {
      "cell_type": "code",
      "metadata": {
        "id": "j6-32b6TDeNM",
        "colab": {
          "base_uri": "https://localhost:8080/"
        },
        "outputId": "0f67b470-9323-4655-d497-f63f26d29dfc"
      },
      "source": [
        "if 3 > 5:\n",
        "    print('if 구문')\n",
        "elif 3 > 4:\n",
        "    print('elif 구문')\n",
        "else:\n",
        "    print('이것도 저것도 아니다')"
      ],
      "execution_count": null,
      "outputs": [
        {
          "output_type": "stream",
          "name": "stdout",
          "text": [
            "이것도 저것도 아니다\n"
          ]
        }
      ]
    },
    {
      "cell_type": "markdown",
      "metadata": {
        "id": "kj9j--pEDzum"
      },
      "source": [
        "그럼, **elif 구문이 참인 여러 구문**을 나열 했을 때는 어떻게 될까요?\n",
        "\n",
        "한 번 고민해보고 실행하세요"
      ]
    },
    {
      "cell_type": "code",
      "metadata": {
        "id": "CoA1nNx4DttN",
        "colab": {
          "base_uri": "https://localhost:8080/"
        },
        "outputId": "67365684-26e7-42cc-dd53-b8a38840ba42"
      },
      "source": [
        "if 3 > 5:\n",
        "    print('if 구문')\n",
        "elif 3 < 4:\n",
        "    print('elif 1 구문') #elif가 참인 경우가 여럿일 때, 첫 번째 만나는 참인 구문만 실행\n",
        "elif 3 < 5:\n",
        "    print('elif 2 구문')\n",
        "elif 3 < 6:\n",
        "    print('elif 3 구문')\n",
        "else:\n",
        "    print('이것도 저것도 아니다')"
      ],
      "execution_count": null,
      "outputs": [
        {
          "output_type": "stream",
          "name": "stdout",
          "text": [
            "elif 1 구문\n"
          ]
        }
      ]
    },
    {
      "cell_type": "markdown",
      "metadata": {
        "id": "IH3OU9JEGL2C"
      },
      "source": [
        "### 1 이나 0은 참 이나 거짓을 표현하기도 합니다."
      ]
    },
    {
      "cell_type": "code",
      "metadata": {
        "id": "QvLPbzLSGLqz",
        "colab": {
          "base_uri": "https://localhost:8080/"
        },
        "outputId": "413545b7-1cbd-456c-a586-d11e8e91c3cd"
      },
      "source": [
        "if 1:\n",
        "    print('참')\n",
        "else:\n",
        "    print('거짓')"
      ],
      "execution_count": null,
      "outputs": [
        {
          "output_type": "stream",
          "name": "stdout",
          "text": [
            "참\n"
          ]
        }
      ]
    },
    {
      "cell_type": "code",
      "metadata": {
        "id": "nZaec2FMGV36"
      },
      "source": [
        "if 0:\n",
        "    print('참')\n",
        "else:\n",
        "    print('거짓')"
      ],
      "execution_count": null,
      "outputs": []
    },
    {
      "cell_type": "markdown",
      "metadata": {
        "id": "scp2Xpwo514w"
      },
      "source": [
        "## 삼항연산자\n",
        "\n",
        "(문법) **(참인 값) if 조건 else (거짓인경우 값)**\n",
        "\n",
        "삼항연산자는 파이썬 문법에서 흔히 볼 수 있는 연산자 이며, 조건에 대한 참인 경우의 값 그렇지 않은 경우의 값을 뒤에 지정합니다."
      ]
    },
    {
      "cell_type": "code",
      "metadata": {
        "id": "fHGV_xO0514x",
        "colab": {
          "base_uri": "https://localhost:8080/",
          "height": 35
        },
        "outputId": "bcc4b95a-2d37-4253-c434-ad1728edb1b8"
      },
      "source": [
        "age = 35\n",
        "\n",
        "\"30세 이상입니다.\" if age >= 30 else \"30세 이하입니다.\""
      ],
      "execution_count": null,
      "outputs": [
        {
          "output_type": "execute_result",
          "data": {
            "text/plain": [
              "'30세 이상입니다.'"
            ],
            "application/vnd.google.colaboratory.intrinsic+json": {
              "type": "string"
            }
          },
          "metadata": {},
          "execution_count": 23
        }
      ]
    },
    {
      "cell_type": "code",
      "metadata": {
        "id": "hc9QQXDZ514x",
        "colab": {
          "base_uri": "https://localhost:8080/",
          "height": 35
        },
        "outputId": "36ddaf3f-0f82-471b-fff1-de89d2570ebc"
      },
      "source": [
        "age = 20\n",
        "\n",
        "\"30세 이상입니다.\" if age >= 30 else \"30세 이하입니다.\""
      ],
      "execution_count": null,
      "outputs": [
        {
          "output_type": "execute_result",
          "data": {
            "text/plain": [
              "'30세 이하입니다.'"
            ],
            "application/vnd.google.colaboratory.intrinsic+json": {
              "type": "string"
            }
          },
          "metadata": {},
          "execution_count": 24
        }
      ]
    },
    {
      "cell_type": "markdown",
      "metadata": {
        "id": "i4RhdAWg514x"
      },
      "source": [
        "### 연습문제"
      ]
    },
    {
      "cell_type": "markdown",
      "metadata": {
        "id": "az8B-9au514x"
      },
      "source": [
        "사용자에게 몸무게를 입력 받아 과체중인지 정상 체중인지 출력하는 프로그램을 만드세요.\n",
        "\n",
        "- 몸무게가 100kg 초과이면 '귀하는 과체중 입니다.' 메시지를 출력하세요\n",
        "- 몸무게가 100kg 이하이면 '귀하는 정상체중 입니다.' 메시지를 출력하세요\n",
        "- 몸무게 입력은 input() 함수를 사용하여 입력 받습니다.\n",
        "- 반드시 **삼항연산자를 활용**하세요"
      ]
    },
    {
      "cell_type": "code",
      "metadata": {
        "id": "Ss9IXMbW514x",
        "colab": {
          "base_uri": "https://localhost:8080/"
        },
        "outputId": "8b02bee6-f24c-491a-94ad-850858195693"
      },
      "source": [
        "# 입력 예시 (105로 입력한 경우)\n",
        "weight = input()"
      ],
      "execution_count": null,
      "outputs": [
        {
          "name": "stdout",
          "output_type": "stream",
          "text": [
            "105\n"
          ]
        }
      ]
    },
    {
      "cell_type": "code",
      "metadata": {
        "id": "m2BDDI9P514y",
        "colab": {
          "base_uri": "https://localhost:8080/",
          "height": 35
        },
        "outputId": "eb48ae6a-f49b-4e3f-e7b0-2db4242cd61a"
      },
      "source": [
        "# 코드를 입력해 주세요\n",
        "\"귀하는 과체중입니다.\" if int(weight) > 100 else \"귀하는 정상체중입니다.\""
      ],
      "execution_count": null,
      "outputs": [
        {
          "output_type": "execute_result",
          "data": {
            "text/plain": [
              "'귀하는 과체중입니다.'"
            ],
            "application/vnd.google.colaboratory.intrinsic+json": {
              "type": "string"
            }
          },
          "metadata": {},
          "execution_count": 27
        }
      ]
    },
    {
      "cell_type": "markdown",
      "metadata": {
        "id": "LulhRjh_514y"
      },
      "source": [
        "<p><strong>[출력 결과]</strong></p><pre>'귀하는 과체중 입니다.'</pre>"
      ]
    },
    {
      "cell_type": "markdown",
      "metadata": {
        "id": "UkBFrQ99EIlN"
      },
      "source": [
        "## 논리 연산자 (and, or, not)"
      ]
    },
    {
      "cell_type": "markdown",
      "metadata": {
        "id": "JArIvFX7F4xv"
      },
      "source": [
        "**and**나 **or** 조건은 두 가지 이상 조건을 다룰 때 활용합니다."
      ]
    },
    {
      "cell_type": "markdown",
      "metadata": {
        "id": "1r39VMGsF_e4"
      },
      "source": [
        "### and\n",
        "\n",
        "- and 조건은 **모두 만족**할 때 참으로 인식합니다."
      ]
    },
    {
      "cell_type": "code",
      "metadata": {
        "id": "BMup-Y9VGGts",
        "colab": {
          "base_uri": "https://localhost:8080/"
        },
        "outputId": "1ffb9714-2be2-49d3-c595-775d884f0d4b"
      },
      "source": [
        "True and True and True"
      ],
      "execution_count": 1,
      "outputs": [
        {
          "output_type": "execute_result",
          "data": {
            "text/plain": [
              "True"
            ]
          },
          "metadata": {},
          "execution_count": 1
        }
      ]
    },
    {
      "cell_type": "code",
      "metadata": {
        "id": "SVDUfdmLGIXm",
        "colab": {
          "base_uri": "https://localhost:8080/"
        },
        "outputId": "d76a2850-18c7-46c5-bf13-0116691c2935"
      },
      "source": [
        "True and False and True"
      ],
      "execution_count": 2,
      "outputs": [
        {
          "output_type": "execute_result",
          "data": {
            "text/plain": [
              "False"
            ]
          },
          "metadata": {},
          "execution_count": 2
        }
      ]
    },
    {
      "cell_type": "code",
      "metadata": {
        "id": "1ZjfDRh3GJwz",
        "colab": {
          "base_uri": "https://localhost:8080/"
        },
        "outputId": "b64fd021-69fc-4169-db12-7603bfcf646a"
      },
      "source": [
        "if (0 < 1) and (0 < 2):\n",
        "    print('모두 참')\n",
        "else:\n",
        "    print('거짓')"
      ],
      "execution_count": 3,
      "outputs": [
        {
          "output_type": "stream",
          "name": "stdout",
          "text": [
            "모두 참\n"
          ]
        }
      ]
    },
    {
      "cell_type": "code",
      "metadata": {
        "id": "cuHoVgi5GvVy",
        "colab": {
          "base_uri": "https://localhost:8080/"
        },
        "outputId": "47fd563f-0396-4671-d8d0-d2a4e5a7fbc5"
      },
      "source": [
        "if (0 < 1) and (0 > 2):\n",
        "    print('모두 참')\n",
        "else:\n",
        "    print('허참')"
      ],
      "execution_count": 4,
      "outputs": [
        {
          "output_type": "stream",
          "name": "stdout",
          "text": [
            "허참\n"
          ]
        }
      ]
    },
    {
      "cell_type": "markdown",
      "metadata": {
        "id": "LpFTEajiGxRN"
      },
      "source": [
        "### or\n",
        "\n",
        "- or 조건은 조건 중 **하나라도 만족**할 때 참으로 인식합니다."
      ]
    },
    {
      "cell_type": "code",
      "metadata": {
        "id": "kQnJHHiHG7MI",
        "colab": {
          "base_uri": "https://localhost:8080/"
        },
        "outputId": "6cde9a3f-497f-4063-a6cc-9a2fe8fd58bd"
      },
      "source": [
        "True or False or False"
      ],
      "execution_count": 5,
      "outputs": [
        {
          "output_type": "execute_result",
          "data": {
            "text/plain": [
              "True"
            ]
          },
          "metadata": {},
          "execution_count": 5
        }
      ]
    },
    {
      "cell_type": "code",
      "metadata": {
        "id": "jEH3pQIDG9ls",
        "colab": {
          "base_uri": "https://localhost:8080/"
        },
        "outputId": "554eb3b2-568f-4223-9a8f-98575afd16de"
      },
      "source": [
        "False or False or False"
      ],
      "execution_count": 6,
      "outputs": [
        {
          "output_type": "execute_result",
          "data": {
            "text/plain": [
              "False"
            ]
          },
          "metadata": {},
          "execution_count": 6
        }
      ]
    },
    {
      "cell_type": "code",
      "metadata": {
        "id": "pCiPRf0FHBhx",
        "colab": {
          "base_uri": "https://localhost:8080/"
        },
        "outputId": "dc2ba88a-b2e8-40d0-d32d-566005693f2a"
      },
      "source": [
        "if (0 < 1) or ( 1 < 0):\n",
        "    print('하나라도 참')\n",
        "else:\n",
        "    print('허참')"
      ],
      "execution_count": 7,
      "outputs": [
        {
          "output_type": "stream",
          "name": "stdout",
          "text": [
            "하나라도 참\n"
          ]
        }
      ]
    },
    {
      "cell_type": "code",
      "metadata": {
        "id": "IXQSEQYjHKRz",
        "colab": {
          "base_uri": "https://localhost:8080/"
        },
        "outputId": "4cc9331b-dfdc-40c3-bf84-8063283c8f80"
      },
      "source": [
        "if (10 < 1) or ( 1 < 0):\n",
        "    print('하나라도 참')\n",
        "else:\n",
        "    print('허참')"
      ],
      "execution_count": 8,
      "outputs": [
        {
          "output_type": "stream",
          "name": "stdout",
          "text": [
            "허참\n"
          ]
        }
      ]
    },
    {
      "cell_type": "markdown",
      "metadata": {
        "id": "1_JYhWEy5140"
      },
      "source": [
        "### not\n",
        "\n",
        "- bool 값을 반전시킵니다."
      ]
    },
    {
      "cell_type": "code",
      "metadata": {
        "id": "v14ZnNvl5140",
        "colab": {
          "base_uri": "https://localhost:8080/"
        },
        "outputId": "380124d0-dac3-4c0f-a868-9c62b090cdec"
      },
      "source": [
        "not True"
      ],
      "execution_count": 9,
      "outputs": [
        {
          "output_type": "execute_result",
          "data": {
            "text/plain": [
              "False"
            ]
          },
          "metadata": {},
          "execution_count": 9
        }
      ]
    },
    {
      "cell_type": "code",
      "metadata": {
        "id": "f4y-phUd5140",
        "colab": {
          "base_uri": "https://localhost:8080/"
        },
        "outputId": "23b11245-7d25-45a7-a566-fb0bd1bb2d66"
      },
      "source": [
        "not False"
      ],
      "execution_count": 10,
      "outputs": [
        {
          "output_type": "execute_result",
          "data": {
            "text/plain": [
              "True"
            ]
          },
          "metadata": {},
          "execution_count": 10
        }
      ]
    },
    {
      "cell_type": "code",
      "metadata": {
        "id": "_nbGLKen5140"
      },
      "source": [
        "if not True:\n",
        "    print('not True')"
      ],
      "execution_count": 13,
      "outputs": []
    },
    {
      "cell_type": "code",
      "metadata": {
        "id": "urbyttGG5140",
        "colab": {
          "base_uri": "https://localhost:8080/"
        },
        "outputId": "94d20b55-cdf1-4e5a-8218-256d693d70b8"
      },
      "source": [
        "if not False:\n",
        "    print('not False')"
      ],
      "execution_count": 12,
      "outputs": [
        {
          "output_type": "stream",
          "name": "stdout",
          "text": [
            "not False\n"
          ]
        }
      ]
    },
    {
      "cell_type": "markdown",
      "metadata": {
        "id": "M0wegNrX5140"
      },
      "source": [
        "## 연습문제"
      ]
    },
    {
      "cell_type": "markdown",
      "metadata": {
        "id": "Qr5n87QH5141"
      },
      "source": [
        "### 문제 1"
      ]
    },
    {
      "cell_type": "markdown",
      "metadata": {
        "id": "j5wJNvqq5141"
      },
      "source": [
        "- (몸무게 + 100 - 키)를 비만 수치 공식이라고 가정합니다.\n",
        "- 키와 몸무게를 입력받아 첫 번째 줄에 비만 수치를 출력합니다.\n",
        "- 비만 수치가 0보다 크면 비만이라는 메시지를 출력하세요.\n",
        "\n",
        "```\n",
        "입력 예) info =[155, 60] (키, 몸무게 순)\n",
        "출력[1]: 비만수치는 5 입니다.\n",
        "출력[2]: 당신은 비만입니다.\n",
        "```"
      ]
    },
    {
      "cell_type": "code",
      "metadata": {
        "id": "Gpe4jWMa5141"
      },
      "source": [
        "info = [155, 60]"
      ],
      "execution_count": 15,
      "outputs": []
    },
    {
      "cell_type": "code",
      "metadata": {
        "id": "t-d3hhoI5141",
        "colab": {
          "base_uri": "https://localhost:8080/"
        },
        "outputId": "2c305b56-f733-48a7-a57d-77b4a96ea9fd"
      },
      "source": [
        "# 코드를 입력해 주세요\n",
        "level = (info[1]+100) - info[0]\n",
        "print(\"비만 수치는 \" + str(level) +\"입니다.\")\n",
        "if (level > 0):\n",
        "  print(\"당신은 비만입니다.\")"
      ],
      "execution_count": 21,
      "outputs": [
        {
          "output_type": "stream",
          "name": "stdout",
          "text": [
            "비만 수치는 5입니다.\n",
            "당신은 비만입니다.\n"
          ]
        }
      ]
    },
    {
      "cell_type": "markdown",
      "metadata": {
        "id": "p1Uv4QX05141"
      },
      "source": [
        "<p><strong>[출력 결과]</strong></p><pre>비만수치는 5입니다\n",
        "당신은 비만입니다.\n",
        "</pre>"
      ]
    },
    {
      "cell_type": "markdown",
      "metadata": {
        "id": "ZSuLeVJg5142"
      },
      "source": [
        "### 문제 2"
      ]
    },
    {
      "cell_type": "markdown",
      "metadata": {
        "id": "EVkK9WAv5142"
      },
      "source": [
        "성적을 입력받아 90점 이상이면 A, 80점이상이면 B, 70점 이상이면 C, 70점 미만이면 D를 출력하세요\n",
        "- 단, 점수가 음수이거나 100점을 초과하는 경우에는 '에러'를 출력하세요\n",
        "\n",
        "힌트) input() 함수를 사용합니다.\n",
        "- input() 함수는 사용자로부터 입력 값을 받을 수 있습니다."
      ]
    },
    {
      "cell_type": "code",
      "metadata": {
        "id": "BqpPJlTJ5142",
        "colab": {
          "base_uri": "https://localhost:8080/"
        },
        "outputId": "e62cb987-ccba-44bf-c705-7569c79563c2"
      },
      "source": [
        "# 코드를 입력해 주세요\n",
        "score = input()\n",
        "print('점수를 입력해 주세요 : ' + score)\n",
        "if(int(score) < 0 or int(score) > 100) :\n",
        "  print(\"ERROR\")\n",
        "elif(int(score)>= 90) :\n",
        "  print(\"A\")\n",
        "elif(int(score)>=80) :\n",
        "  print(\"B\")\n",
        "elif(int(score)>=70) :\n",
        "  print(\"C\")\n",
        "elif(int(score)<70) :\n",
        "  print(\"D\")"
      ],
      "execution_count": 35,
      "outputs": [
        {
          "output_type": "stream",
          "name": "stdout",
          "text": [
            "95\n",
            "점수를 입력해 주세요 : 95\n",
            "A\n"
          ]
        }
      ]
    },
    {
      "cell_type": "markdown",
      "metadata": {
        "id": "suzljiWQ5142"
      },
      "source": [
        "<p><strong>[출력 결과]</strong></p><pre>점수를 입력해 주세요: 95\n",
        "A\n",
        "</pre>"
      ]
    }
  ]
}