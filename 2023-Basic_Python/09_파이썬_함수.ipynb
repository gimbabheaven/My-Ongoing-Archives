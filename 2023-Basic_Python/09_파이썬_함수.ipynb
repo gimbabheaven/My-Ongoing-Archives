{
  "nbformat": 4,
  "nbformat_minor": 0,
  "metadata": {
    "colab": {
      "provenance": [],
      "include_colab_link": true
    },
    "kernelspec": {
      "display_name": "Python 3",
      "language": "python",
      "name": "python3"
    },
    "language_info": {
      "codemirror_mode": {
        "name": "ipython",
        "version": 3
      },
      "file_extension": ".py",
      "mimetype": "text/x-python",
      "name": "python",
      "nbconvert_exporter": "python",
      "pygments_lexer": "ipython3",
      "version": "3.6.9"
    }
  },
  "cells": [
    {
      "cell_type": "markdown",
      "metadata": {
        "id": "view-in-github",
        "colab_type": "text"
      },
      "source": [
        "<a href=\"https://colab.research.google.com/github/gimbabheaven/2023-Basic_Python/blob/master/09_%ED%8C%8C%EC%9D%B4%EC%8D%AC_%ED%95%A8%EC%88%98.ipynb\" target=\"_parent\"><img src=\"https://colab.research.google.com/assets/colab-badge.svg\" alt=\"Open In Colab\"/></a>"
      ]
    },
    {
      "cell_type": "markdown",
      "metadata": {
        "id": "ousE0gs_UjXH"
      },
      "source": [
        "# 함수(function)\n",
        "\n",
        "- 자주 사용되는 코드 및 **반복되는 코드를 모아 하나의 기능**으로 만들고 이름을 붙인 것입니다.\n",
        "- 즉, 함수의 가장 중요한 기능은 바로 **코드의 재사용성**입니다."
      ]
    },
    {
      "cell_type": "markdown",
      "metadata": {
        "id": "3KMlhcnj9BqQ"
      },
      "source": [
        "## 함수의 기본 구조\n",
        "\n",
        "- `def` 키워드로 시작합니다.\n",
        "- 함수명을 기입합니다.\n",
        "- () 안에 매개변수를 지정할 수 있고, 생략도 가능합니다.\n",
        "- 끝에는 `:`으로 끝납니다.\n",
        "- 함수의 범위 안에서는 **들여쓰기**를 합니다. 들여쓰기가 끝난 지점이 함수의 범위가 끝나는 지점입니다."
      ]
    },
    {
      "cell_type": "markdown",
      "metadata": {
        "id": "8kiBR9d89BqR"
      },
      "source": [
        "**(예시)**"
      ]
    },
    {
      "cell_type": "code",
      "metadata": {
        "id": "1ZFZSb1M9BqS"
      },
      "source": [
        "def add_function(a, b):\n",
        "    result = a + b\n",
        "    return result"
      ],
      "execution_count": null,
      "outputs": []
    },
    {
      "cell_type": "markdown",
      "metadata": {
        "id": "QjZaSY299BqS"
      },
      "source": [
        "## 함수의 다양한 형태"
      ]
    },
    {
      "cell_type": "markdown",
      "metadata": {
        "id": "1eK24Db_9BqT"
      },
      "source": [
        "### 1 일반 형태\n",
        "\n",
        "- 입력 매개변수: O\n",
        "- return: O"
      ]
    },
    {
      "cell_type": "code",
      "metadata": {
        "id": "kt12-eg4UkQF"
      },
      "source": [
        "def sample_function(a, b):\n",
        "    result = a + b\n",
        "    return result"
      ],
      "execution_count": null,
      "outputs": []
    },
    {
      "cell_type": "markdown",
      "metadata": {
        "id": "BUpBA7LQ9BqU"
      },
      "source": [
        "### 2 입력 매개변수가 없는 형태"
      ]
    },
    {
      "cell_type": "code",
      "metadata": {
        "id": "RXXbV7V49BqV"
      },
      "source": [
        "def sample_function():\n",
        "    a = 1\n",
        "    b = 2\n",
        "    result = a + b\n",
        "    return result"
      ],
      "execution_count": null,
      "outputs": []
    },
    {
      "cell_type": "markdown",
      "metadata": {
        "id": "Sb9CUn4y9BqW"
      },
      "source": [
        "### 3 return 이 없는 형태"
      ]
    },
    {
      "cell_type": "code",
      "metadata": {
        "id": "SbwEJR6F9BqX"
      },
      "source": [
        "def sample_function(a, b):\n",
        "    result = a + b\n",
        "    print(f'result: {result}')"
      ],
      "execution_count": null,
      "outputs": []
    },
    {
      "cell_type": "markdown",
      "metadata": {
        "id": "xiuLDCGL9BqX"
      },
      "source": [
        "### 4 입력 매개변수, return 모두 없는 형태"
      ]
    },
    {
      "cell_type": "code",
      "metadata": {
        "id": "x1P4w5jP9BqX"
      },
      "source": [
        "def sample_function():\n",
        "    print('Hello, World!')"
      ],
      "execution_count": null,
      "outputs": []
    },
    {
      "cell_type": "markdown",
      "metadata": {
        "id": "r9D5W7tK9BqX"
      },
      "source": [
        "## 함수의 이름 및 호출\n",
        "\n",
        "- 함수의 이름은 알파벳이나 `_`로 시작해야 합니다.\n",
        "- 함수의 지정된 이름과 () 로 **호출** 할 수 있습니다."
      ]
    },
    {
      "cell_type": "code",
      "metadata": {
        "id": "JvNLG9689BqY"
      },
      "source": [
        "def sample_function():\n",
        "    print('함수가 호출 되었습니다!')"
      ],
      "execution_count": null,
      "outputs": []
    },
    {
      "cell_type": "markdown",
      "metadata": {
        "id": "OCjmT3s99BqY"
      },
      "source": [
        "함수의 이름만 출력시"
      ]
    },
    {
      "cell_type": "code",
      "metadata": {
        "id": "L-dny7wE9BqY",
        "colab": {
          "base_uri": "https://localhost:8080/"
        },
        "outputId": "371b3e23-5086-4aad-fc1d-5efab1020fa0"
      },
      "source": [
        "sample_function"
      ],
      "execution_count": null,
      "outputs": [
        {
          "output_type": "execute_result",
          "data": {
            "text/plain": [
              "<function __main__.sample_function()>"
            ]
          },
          "metadata": {},
          "execution_count": 3
        }
      ]
    },
    {
      "cell_type": "markdown",
      "metadata": {
        "id": "hatXCTIA9BqY"
      },
      "source": [
        "**호출(call)**: 함수의 이름과 함께 `()`를 같이 실행"
      ]
    },
    {
      "cell_type": "code",
      "metadata": {
        "id": "-zhU5RcyVAQM",
        "colab": {
          "base_uri": "https://localhost:8080/"
        },
        "outputId": "76fe359a-e4f4-4f9a-d93a-429215d9c4c3"
      },
      "source": [
        "sample_function()"
      ],
      "execution_count": null,
      "outputs": [
        {
          "output_type": "stream",
          "name": "stdout",
          "text": [
            "함수가 호출 되었습니다!\n"
          ]
        }
      ]
    },
    {
      "cell_type": "markdown",
      "metadata": {
        "id": "buIKxs_Z9BqZ"
      },
      "source": [
        "함수의 이름을 별도의 변수에 대입한 후 변수에 `()`를 같이 실행한 경우"
      ]
    },
    {
      "cell_type": "code",
      "metadata": {
        "id": "OgYBNzPFU-6n",
        "colab": {
          "base_uri": "https://localhost:8080/"
        },
        "outputId": "ba09d361-5d0b-4107-e8ba-35eecbee934a"
      },
      "source": [
        "a = sample_function\n",
        "a()"
      ],
      "execution_count": null,
      "outputs": [
        {
          "output_type": "stream",
          "name": "stdout",
          "text": [
            "함수가 호출 되었습니다!\n"
          ]
        }
      ]
    },
    {
      "cell_type": "code",
      "metadata": {
        "id": "m_8mtY9M9BqZ"
      },
      "source": [
        "# return 이 존재하는 경우\n",
        "def sample_function():\n",
        "    print('함수가 호출 되었습니다!')\n",
        "    return 123"
      ],
      "execution_count": null,
      "outputs": []
    },
    {
      "cell_type": "markdown",
      "metadata": {
        "id": "i9APU4YT9BqZ"
      },
      "source": [
        "**return 값이 존재**하는 경우 함수는 결과 값을 **반환** 하며 반환된 결과를 변수에 대입할 수 있습니다."
      ]
    },
    {
      "cell_type": "code",
      "metadata": {
        "id": "QtpfPJh_9BqZ",
        "colab": {
          "base_uri": "https://localhost:8080/"
        },
        "outputId": "5aa0b0b0-0b98-4ef7-a089-4f229ffdcbdc"
      },
      "source": [
        "result = sample_function()"
      ],
      "execution_count": null,
      "outputs": [
        {
          "output_type": "stream",
          "name": "stdout",
          "text": [
            "함수가 호출 되었습니다!\n"
          ]
        }
      ]
    },
    {
      "cell_type": "code",
      "metadata": {
        "id": "J3mvQHCu9Bqa",
        "colab": {
          "base_uri": "https://localhost:8080/"
        },
        "outputId": "90339620-17b8-4abf-acf2-359231bb57fd"
      },
      "source": [
        "result"
      ],
      "execution_count": null,
      "outputs": [
        {
          "output_type": "execute_result",
          "data": {
            "text/plain": [
              "123"
            ]
          },
          "metadata": {},
          "execution_count": 8
        }
      ]
    },
    {
      "cell_type": "markdown",
      "metadata": {
        "id": "dpoRs3pK9Bqa"
      },
      "source": [
        "하지만, 함수가 아무런 결과 값을 반환하지 않는다면 함수로부터 반환된 결과는 `None`입니다."
      ]
    },
    {
      "cell_type": "code",
      "metadata": {
        "id": "g2TF7ZAF9Bqa"
      },
      "source": [
        "# return 이 없는 경우\n",
        "def sample_function():\n",
        "    print('함수가 호출 되었습니다!')"
      ],
      "execution_count": null,
      "outputs": []
    },
    {
      "cell_type": "code",
      "metadata": {
        "id": "ToO_Kt449Bqa",
        "colab": {
          "base_uri": "https://localhost:8080/"
        },
        "outputId": "7dfc100d-ecba-4687-86a7-4b33f480b8d0"
      },
      "source": [
        "result = sample_function()"
      ],
      "execution_count": null,
      "outputs": [
        {
          "output_type": "stream",
          "name": "stdout",
          "text": [
            "함수가 호출 되었습니다!\n"
          ]
        }
      ]
    },
    {
      "cell_type": "code",
      "metadata": {
        "id": "xxn9qpLt9Bqa",
        "colab": {
          "base_uri": "https://localhost:8080/"
        },
        "outputId": "8f609cf9-2a6c-404f-ad38-9b6db16042c5"
      },
      "source": [
        "print(result)"
      ],
      "execution_count": null,
      "outputs": [
        {
          "output_type": "stream",
          "name": "stdout",
          "text": [
            "None\n"
          ]
        }
      ]
    },
    {
      "cell_type": "markdown",
      "metadata": {
        "id": "SOnceFroVEeb"
      },
      "source": [
        "## docstring\n",
        "\n",
        "- 함수에 대한 설명을 기록"
      ]
    },
    {
      "cell_type": "code",
      "metadata": {
        "id": "ZaipBaBjVI2C"
      },
      "source": [
        "def sample_function():\n",
        "    \"\"\"\n",
        "    함수에 대한 설명을 기록합니다.\n",
        "    sample_function은 함수를 설명하기 위한 예제 함수 입니다.\n",
        "\n",
        "    (예시)\n",
        "    호출의 예.\n",
        "    sample_function()\n",
        "    \"\"\"\n",
        "    print('함수가 호출 되었습니다.')"
      ],
      "execution_count": null,
      "outputs": []
    },
    {
      "cell_type": "code",
      "metadata": {
        "id": "X08SKrF3VUU-",
        "colab": {
          "base_uri": "https://localhost:8080/"
        },
        "outputId": "561d7137-c987-47fd-aa9b-790e8609d142"
      },
      "source": [
        "sample_function()"
      ],
      "execution_count": null,
      "outputs": [
        {
          "output_type": "stream",
          "name": "stdout",
          "text": [
            "함수가 호출 되었습니다.\n"
          ]
        }
      ]
    },
    {
      "cell_type": "markdown",
      "metadata": {
        "id": "2nKmj-Iw9Bqb"
      },
      "source": [
        "`함수명.__doc__`로 docstring을 출력할 수 있습니다."
      ]
    },
    {
      "cell_type": "code",
      "metadata": {
        "id": "DehGzSrqEwG3",
        "colab": {
          "base_uri": "https://localhost:8080/"
        },
        "outputId": "29c6b82e-029f-453e-f8ec-35ac4d9a9080"
      },
      "source": [
        "print(sample_function.__doc__)"
      ],
      "execution_count": null,
      "outputs": [
        {
          "output_type": "stream",
          "name": "stdout",
          "text": [
            "\n",
            "    함수에 대한 설명을 기록합니다.\n",
            "    sample_function은 함수를 설명하기 위한 예제 함수 입니다.\n",
            "    \n",
            "    (예시)\n",
            "    호출의 예.\n",
            "    sample_function()\n",
            "    \n"
          ]
        }
      ]
    },
    {
      "cell_type": "code",
      "source": [
        "# colab에서 지원하는 기능\n",
        "sample_function?"
      ],
      "metadata": {
        "id": "IW3UJyDIQ7U0"
      },
      "execution_count": null,
      "outputs": []
    },
    {
      "cell_type": "markdown",
      "metadata": {
        "id": "Mt6edivd9Bqb"
      },
      "source": [
        "## 함수의 인수(매개변수)\n",
        "\n",
        "**[참고]**\n",
        "- **인수(argument)**: 값, 변수, 참조 등 전달되는 값\n",
        "- **매개변수(parameter)**: 함수 등에서 사용되는 전달된 값을 받는 변수"
      ]
    },
    {
      "cell_type": "markdown",
      "metadata": {
        "id": "TnkHeRPH9Bqb"
      },
      "source": [
        "- `10`, `20` 이라는 값은 인수(argument)\n",
        "- `a`, `b`는 매개변수(parameter)"
      ]
    },
    {
      "cell_type": "code",
      "metadata": {
        "id": "J_nJv7LE9Bqb",
        "colab": {
          "base_uri": "https://localhost:8080/"
        },
        "outputId": "4cf9d0ba-5c1a-498e-8a0e-807de61dac7e"
      },
      "source": [
        "def some_function(a, b):\n",
        "    result = a + b\n",
        "    return result\n",
        "\n",
        "some_function(10, 20)"
      ],
      "execution_count": null,
      "outputs": [
        {
          "output_type": "execute_result",
          "data": {
            "text/plain": [
              "30"
            ]
          },
          "metadata": {},
          "execution_count": 20
        }
      ]
    },
    {
      "cell_type": "markdown",
      "metadata": {
        "id": "Xn92psrqVV1v"
      },
      "source": [
        "### 위치 인수(positional arguments)\n",
        "\n",
        "- 가장 보편적인 인수입니다.\n",
        "- 변수명을 인수로 지정합니다.\n",
        "- 위치가 중요합니다."
      ]
    },
    {
      "cell_type": "markdown",
      "metadata": {
        "id": "Gyb3B0b09Bqc"
      },
      "source": [
        "`a`, `b`, `c`를 위치인수로 지정한 경우"
      ]
    },
    {
      "cell_type": "code",
      "metadata": {
        "id": "VU278M2FVZ7Y"
      },
      "source": [
        "def add_function(a, b, c):\n",
        "    result = a + b + c\n",
        "    print(f'a: {a}, b: {b}, c: {c}')\n",
        "    print(f'sum: {result}')\n",
        "    return result"
      ],
      "execution_count": null,
      "outputs": []
    },
    {
      "cell_type": "code",
      "metadata": {
        "id": "cDE-a91RVirK",
        "colab": {
          "base_uri": "https://localhost:8080/"
        },
        "outputId": "da448aa9-5fd9-4a0c-add6-295ae5f429ea"
      },
      "source": [
        "add_function(1, 3, 5)"
      ],
      "execution_count": null,
      "outputs": [
        {
          "output_type": "stream",
          "name": "stdout",
          "text": [
            "a: 1, b: 3, c: 5\n",
            "sum: 9\n"
          ]
        },
        {
          "output_type": "execute_result",
          "data": {
            "text/plain": [
              "9"
            ]
          },
          "metadata": {},
          "execution_count": 22
        }
      ]
    },
    {
      "cell_type": "markdown",
      "metadata": {
        "id": "r5vLxKcGVpLb"
      },
      "source": [
        "### 키워드 인수(keyword arguments)\n",
        "\n",
        "- 위치 인수의 위치를 정확히 기억 하지 못하고 혼란을 야기할 수 있기 때문에 **인수명에 값을 직접 지정**합니다."
      ]
    },
    {
      "cell_type": "code",
      "metadata": {
        "id": "F-ot2_nK9Bqc"
      },
      "source": [
        "def add_function(a, b, c):\n",
        "    result = a + b + c\n",
        "    print(f'a: {a}, b: {b}, c: {c}')\n",
        "    print(f'sum: {result}')\n",
        "    return result"
      ],
      "execution_count": null,
      "outputs": []
    },
    {
      "cell_type": "markdown",
      "metadata": {
        "id": "aMbuJb4p9Bqc"
      },
      "source": [
        "아래의 예제는 키워드로 매개변수에 대한 값을 지정하는 예시입니다."
      ]
    },
    {
      "cell_type": "code",
      "metadata": {
        "id": "ZdYWjhW89Bqc",
        "colab": {
          "base_uri": "https://localhost:8080/"
        },
        "outputId": "05ddd7c6-ac73-4211-f106-e7cf9307ad5a"
      },
      "source": [
        "add_function(b=3, c=1, a=5)"
      ],
      "execution_count": null,
      "outputs": [
        {
          "output_type": "stream",
          "name": "stdout",
          "text": [
            "a: 5, b: 3, c: 1\n",
            "sum: 9\n"
          ]
        },
        {
          "output_type": "execute_result",
          "data": {
            "text/plain": [
              "9"
            ]
          },
          "metadata": {},
          "execution_count": 23
        }
      ]
    },
    {
      "cell_type": "markdown",
      "metadata": {
        "id": "H0VarkaP9Bqc"
      },
      "source": [
        "### 기본 매개변수(default parameter)\n",
        "\n",
        "- 매개변수에 **기본 값을 지정**할 수 있습니다.\n",
        "- 기본 값을 지정시 인수에 값을 **생략 가능**합니다.\n",
        "- 단, 기본 값이 지정된 인수는 위치 인수보다 다음에 위치해야 합니다."
      ]
    },
    {
      "cell_type": "code",
      "metadata": {
        "id": "jH-Knkhv9Bqd"
      },
      "source": [
        "def add_function(a, b=0, c=0):\n",
        "    result = a + b + c\n",
        "    print(f'a: {a}, b: {b}, c: {c}')\n",
        "    print(f'sum: {result}')\n",
        "    return result"
      ],
      "execution_count": null,
      "outputs": []
    },
    {
      "cell_type": "code",
      "metadata": {
        "id": "gERaj4k59Bqd",
        "colab": {
          "base_uri": "https://localhost:8080/"
        },
        "outputId": "0740774d-92c8-4dd6-864c-c6a4597458f3"
      },
      "source": [
        "add_function(1)"
      ],
      "execution_count": null,
      "outputs": [
        {
          "output_type": "stream",
          "name": "stdout",
          "text": [
            "a: 1, b: 0, c: 0\n",
            "sum: 1\n"
          ]
        },
        {
          "output_type": "execute_result",
          "data": {
            "text/plain": [
              "1"
            ]
          },
          "metadata": {},
          "execution_count": 25
        }
      ]
    },
    {
      "cell_type": "code",
      "metadata": {
        "id": "yrB5sFNB9Bqd",
        "colab": {
          "base_uri": "https://localhost:8080/"
        },
        "outputId": "2958bb31-64fc-4ed8-c3e2-73bcfd2c4be3"
      },
      "source": [
        "add_function(1, 3)"
      ],
      "execution_count": null,
      "outputs": [
        {
          "output_type": "stream",
          "name": "stdout",
          "text": [
            "a: 1, b: 3, c: 0\n",
            "sum: 4\n"
          ]
        },
        {
          "output_type": "execute_result",
          "data": {
            "text/plain": [
              "4"
            ]
          },
          "metadata": {},
          "execution_count": 26
        }
      ]
    },
    {
      "cell_type": "code",
      "metadata": {
        "id": "eOr3h9i59Bqd",
        "colab": {
          "base_uri": "https://localhost:8080/"
        },
        "outputId": "f9296596-ebef-4cd2-e845-24397c56b0a7"
      },
      "source": [
        "add_function(1, 3, 5)"
      ],
      "execution_count": null,
      "outputs": [
        {
          "output_type": "stream",
          "name": "stdout",
          "text": [
            "a: 1, b: 3, c: 5\n",
            "sum: 9\n"
          ]
        },
        {
          "output_type": "execute_result",
          "data": {
            "text/plain": [
              "9"
            ]
          },
          "metadata": {},
          "execution_count": 27
        }
      ]
    },
    {
      "cell_type": "code",
      "metadata": {
        "id": "oMPzzFNz9Bqd",
        "colab": {
          "base_uri": "https://localhost:8080/"
        },
        "outputId": "702bf9e4-dc6e-48d3-b328-9e2677cdce56"
      },
      "source": [
        "add_function(c=5, b=3, a=1)"
      ],
      "execution_count": null,
      "outputs": [
        {
          "output_type": "stream",
          "name": "stdout",
          "text": [
            "a: 1, b: 3, c: 5\n",
            "sum: 9\n"
          ]
        },
        {
          "output_type": "execute_result",
          "data": {
            "text/plain": [
              "9"
            ]
          },
          "metadata": {},
          "execution_count": 28
        }
      ]
    },
    {
      "cell_type": "markdown",
      "metadata": {
        "id": "JCeiBtjc9Bqd"
      },
      "source": [
        "기본 매개변수가 **위치 인수보다 앞 쪽에 위치한 경우 Error**가 발생합니다."
      ]
    },
    {
      "cell_type": "code",
      "metadata": {
        "id": "W2iqg7TH9Bqd"
      },
      "source": [
        "def add_function(a=0, b, c):\n",
        "    result = a + b + c\n",
        "    print(f'a: {a}, b: {b}, c: {c}')\n",
        "    print(f'sum: {result}')\n",
        "    return result"
      ],
      "execution_count": null,
      "outputs": []
    },
    {
      "cell_type": "markdown",
      "metadata": {
        "id": "tYD7efFfLEiR"
      },
      "source": [
        "### *tuple 인수\n",
        "\n",
        "- 여러 개의 인수를 전달 받을 수 있습니다.\n",
        "- 여러 개의 인수를 전달 받은 `*args`에는 튜플(tuple) 형식으로 데이터가 저장됩니다.\n",
        "- `*args`로 받은 인수는 반복문으로 처리하는 것이 일반 적입니다.\n",
        "- 대체적으로 `*args` 변수가 많이 사용됩니다."
      ]
    },
    {
      "cell_type": "code",
      "metadata": {
        "id": "4UBVgi0eeyBd"
      },
      "source": [
        "def add_function(*args):\n",
        "    result = 0\n",
        "    print(f'args의 타입: {type(args)}')\n",
        "    for arg in args:\n",
        "        print(arg)\n",
        "        result += arg\n",
        "    print('==='* 5)\n",
        "    print(f'sum: {result}')"
      ],
      "execution_count": 2,
      "outputs": []
    },
    {
      "cell_type": "markdown",
      "metadata": {
        "id": "OWnmm4RX9Bqe"
      },
      "source": [
        "아무런 값을 전달하지 않은 경우(생략 가능)"
      ]
    },
    {
      "cell_type": "code",
      "metadata": {
        "id": "mIdNplh-RdbP",
        "colab": {
          "base_uri": "https://localhost:8080/"
        },
        "outputId": "ba8ad3bf-a98c-402c-9456-7c941c091e2f"
      },
      "source": [
        "add_function()"
      ],
      "execution_count": 3,
      "outputs": [
        {
          "output_type": "stream",
          "name": "stdout",
          "text": [
            "args의 타입: <class 'tuple'>\n",
            "===============\n",
            "sum: 0\n"
          ]
        }
      ]
    },
    {
      "cell_type": "markdown",
      "metadata": {
        "id": "5aR-N0259Bqe"
      },
      "source": [
        "1개의 값을 전달한 경우"
      ]
    },
    {
      "cell_type": "code",
      "metadata": {
        "id": "sYxJOYjhRbbs",
        "colab": {
          "base_uri": "https://localhost:8080/"
        },
        "outputId": "a6a46e0c-97e5-4e8d-be79-c3389a94fb4b"
      },
      "source": [
        "add_function(1)"
      ],
      "execution_count": 4,
      "outputs": [
        {
          "output_type": "stream",
          "name": "stdout",
          "text": [
            "args의 타입: <class 'tuple'>\n",
            "1\n",
            "===============\n",
            "sum: 1\n"
          ]
        }
      ]
    },
    {
      "cell_type": "markdown",
      "metadata": {
        "id": "KTjTA_bv9Bqe"
      },
      "source": [
        "복수의 값을 전달한 경우"
      ]
    },
    {
      "cell_type": "code",
      "metadata": {
        "id": "e_G-8OunI-Zk"
      },
      "source": [
        "add_function(1, 2, 3, 4, 5)"
      ],
      "execution_count": null,
      "outputs": []
    },
    {
      "cell_type": "markdown",
      "metadata": {
        "id": "Usuq0_Va9Bqe"
      },
      "source": [
        "### 위치 매개변수와 *tuple 매개변수의 혼용\n",
        "\n",
        "- *tuple 매개변수는 위치 매개변수의 뒤에 위치해야 합니다."
      ]
    },
    {
      "cell_type": "code",
      "metadata": {
        "id": "V6u0JYYgfdVF"
      },
      "source": [
        "def add_function(a, *args):\n",
        "    print(f'a: {a}')\n",
        "    print('==='* 5)\n",
        "    result = 0\n",
        "    for arg in args:\n",
        "        print(arg)\n",
        "        result += arg\n",
        "    print('==='* 5)\n",
        "    print(f'sum: {result}')"
      ],
      "execution_count": 6,
      "outputs": []
    },
    {
      "cell_type": "markdown",
      "metadata": {
        "id": "lj_VjPps9Bqe"
      },
      "source": [
        "아무런 값을 지정하지 않은 경우\n",
        "- 위치 매개변수 미지정으로 인한 Error 발생"
      ]
    },
    {
      "cell_type": "code",
      "metadata": {
        "id": "AV5qXl2DJBya",
        "colab": {
          "base_uri": "https://localhost:8080/",
          "height": 176
        },
        "outputId": "b9b2b0df-7125-4132-e7a3-de1c175a7b49"
      },
      "source": [
        "add_function()"
      ],
      "execution_count": 7,
      "outputs": [
        {
          "output_type": "error",
          "ename": "TypeError",
          "evalue": "ignored",
          "traceback": [
            "\u001b[0;31m---------------------------------------------------------------------------\u001b[0m",
            "\u001b[0;31mTypeError\u001b[0m                                 Traceback (most recent call last)",
            "\u001b[0;32m<ipython-input-7-1553848aed78>\u001b[0m in \u001b[0;36m<cell line: 1>\u001b[0;34m()\u001b[0m\n\u001b[0;32m----> 1\u001b[0;31m \u001b[0madd_function\u001b[0m\u001b[0;34m(\u001b[0m\u001b[0;34m)\u001b[0m\u001b[0;34m\u001b[0m\u001b[0;34m\u001b[0m\u001b[0m\n\u001b[0m",
            "\u001b[0;31mTypeError\u001b[0m: add_function() missing 1 required positional argument: 'a'"
          ]
        }
      ]
    },
    {
      "cell_type": "markdown",
      "metadata": {
        "id": "yt4U4wd49Bqf"
      },
      "source": [
        "단일 값을 지정한 경우"
      ]
    },
    {
      "cell_type": "code",
      "metadata": {
        "id": "_lAtMVhB9Bqf",
        "colab": {
          "base_uri": "https://localhost:8080/"
        },
        "outputId": "33456e5d-e33f-48b1-d31e-54158f84cdfb"
      },
      "source": [
        "add_function(1)"
      ],
      "execution_count": 8,
      "outputs": [
        {
          "output_type": "stream",
          "name": "stdout",
          "text": [
            "a: 1\n",
            "===============\n",
            "===============\n",
            "sum: 0\n"
          ]
        }
      ]
    },
    {
      "cell_type": "markdown",
      "metadata": {
        "id": "7cn3V0U-9Bqf"
      },
      "source": [
        "복수의 값을 지정한 경우"
      ]
    },
    {
      "cell_type": "code",
      "metadata": {
        "id": "UXFisHQF9Bqf",
        "colab": {
          "base_uri": "https://localhost:8080/"
        },
        "outputId": "c12854d0-047f-4adc-8b59-8cb40ac9853e"
      },
      "source": [
        "add_function(1, 2, 3, 4, 5)"
      ],
      "execution_count": 9,
      "outputs": [
        {
          "output_type": "stream",
          "name": "stdout",
          "text": [
            "a: 1\n",
            "===============\n",
            "2\n",
            "3\n",
            "4\n",
            "5\n",
            "===============\n",
            "sum: 14\n"
          ]
        }
      ]
    },
    {
      "cell_type": "markdown",
      "metadata": {
        "id": "pLBkuQse9Bqf"
      },
      "source": [
        "### **dict 인수\n",
        "\n",
        "- 여러 개의 인수를 전달 받을 수 있습니다.\n",
        "- 여러 개의 인수를 전달 받은 `**kwargs`에는 딕셔너리(dict) 형식으로 데이터가 저장됩니다.\n",
        "- `**kwargs`로 받은 인수 역시 반복문으로 처리하는 것이 일반 적입니다.\n",
        "- 대체적으로 `**kwargs` 변수가 많이 사용됩니다."
      ]
    },
    {
      "cell_type": "code",
      "metadata": {
        "id": "1a9dRSMESY-i"
      },
      "source": [
        "def add_function(**kwargs):\n",
        "    total_age = 0\n",
        "    for name, age in kwargs.items():\n",
        "        print(f'이름: {name}, 나이: {age}')\n",
        "        total_age += age\n",
        "    print('==='* 5)\n",
        "    print(f'전체 나이의 합계: {total_age}')"
      ],
      "execution_count": 10,
      "outputs": []
    },
    {
      "cell_type": "markdown",
      "metadata": {
        "id": "uYwiTtzc9Bqf"
      },
      "source": [
        "아무런 값을 지정하지 않은 경우"
      ]
    },
    {
      "cell_type": "code",
      "metadata": {
        "id": "6esidjOr9Bqg",
        "colab": {
          "base_uri": "https://localhost:8080/"
        },
        "outputId": "18ecdcc3-b58d-4255-9f53-48f65574f452"
      },
      "source": [
        "add_function()"
      ],
      "execution_count": 11,
      "outputs": [
        {
          "output_type": "stream",
          "name": "stdout",
          "text": [
            "===============\n",
            "전체 나이의 합계: 0\n"
          ]
        }
      ]
    },
    {
      "cell_type": "markdown",
      "metadata": {
        "id": "VGzhdbNO9Bqg"
      },
      "source": [
        "단일 값을 지정한 경우"
      ]
    },
    {
      "cell_type": "code",
      "metadata": {
        "id": "0E2S5de39Bqg",
        "colab": {
          "base_uri": "https://localhost:8080/"
        },
        "outputId": "f300d41e-27b3-4943-c82b-ff99d16eb5b7"
      },
      "source": [
        "#변수 전달 시 key = value 형태로 전달\n",
        "add_function(lee=5)"
      ],
      "execution_count": 12,
      "outputs": [
        {
          "output_type": "stream",
          "name": "stdout",
          "text": [
            "이름: lee, 나이: 5\n",
            "===============\n",
            "전체 나이의 합계: 5\n"
          ]
        }
      ]
    },
    {
      "cell_type": "code",
      "metadata": {
        "id": "eDEmhwkR9Bqg",
        "colab": {
          "base_uri": "https://localhost:8080/"
        },
        "outputId": "71d5cfca-45e2-4129-df1a-c03062024372"
      },
      "source": [
        "add_function(john=10, peter=12, lee=5)"
      ],
      "execution_count": 13,
      "outputs": [
        {
          "output_type": "stream",
          "name": "stdout",
          "text": [
            "이름: john, 나이: 10\n",
            "이름: peter, 나이: 12\n",
            "이름: lee, 나이: 5\n",
            "===============\n",
            "전체 나이의 합계: 27\n"
          ]
        }
      ]
    },
    {
      "cell_type": "markdown",
      "metadata": {
        "id": "DXcPuCrK9Bqg"
      },
      "source": [
        "딕셔너리(dictionary)를 인수로 지정하는 경우 `**`를 앞에 붙혀 줍니다."
      ]
    },
    {
      "cell_type": "code",
      "metadata": {
        "id": "LDyK9sH89Bqg",
        "colab": {
          "base_uri": "https://localhost:8080/"
        },
        "outputId": "d87a73d1-9b06-43c1-d0a4-9d3e986208eb"
      },
      "source": [
        "person = {'john': 10, 'peter': 12, 'lee': 5}\n",
        "person"
      ],
      "execution_count": 14,
      "outputs": [
        {
          "output_type": "execute_result",
          "data": {
            "text/plain": [
              "{'john': 10, 'peter': 12, 'lee': 5}"
            ]
          },
          "metadata": {},
          "execution_count": 14
        }
      ]
    },
    {
      "cell_type": "code",
      "metadata": {
        "id": "ginHakzq9Bqg",
        "colab": {
          "base_uri": "https://localhost:8080/"
        },
        "outputId": "d6f03fb9-11a3-49c6-d37e-5cf5e64a4202"
      },
      "source": [
        "add_function(**person)"
      ],
      "execution_count": 15,
      "outputs": [
        {
          "output_type": "stream",
          "name": "stdout",
          "text": [
            "이름: john, 나이: 10\n",
            "이름: peter, 나이: 12\n",
            "이름: lee, 나이: 5\n",
            "===============\n",
            "전체 나이의 합계: 27\n"
          ]
        }
      ]
    },
    {
      "cell_type": "markdown",
      "metadata": {
        "id": "iAyzxgojPi4g"
      },
      "source": [
        "## lambda : 익명 함수(annonymous function)\n",
        "\n",
        "- 이름 없이 정의된 함수 입니다.\n",
        "- **단일 문장(1줄)**의 코드로 작성되어야 합니다.\n",
        "- 함수 내부에서는 return문이 포함하지 않지만 값을 반환합니다."
      ]
    },
    {
      "cell_type": "markdown",
      "metadata": {
        "id": "bK_d7gtD9Bqg"
      },
      "source": [
        "**단일 인수**를 가지는 lambda 함수"
      ]
    },
    {
      "cell_type": "code",
      "metadata": {
        "id": "hqz54WRFPm7F"
      },
      "source": [
        "a = lambda x: x * 2"
      ],
      "execution_count": 16,
      "outputs": []
    },
    {
      "cell_type": "code",
      "metadata": {
        "id": "SMJsWxlGPptb",
        "colab": {
          "base_uri": "https://localhost:8080/"
        },
        "outputId": "e7167443-9771-4928-c691-77eeed198b5b"
      },
      "source": [
        "a(4)"
      ],
      "execution_count": 17,
      "outputs": [
        {
          "output_type": "execute_result",
          "data": {
            "text/plain": [
              "8"
            ]
          },
          "metadata": {},
          "execution_count": 17
        }
      ]
    },
    {
      "cell_type": "markdown",
      "metadata": {
        "id": "MPzoMBEp9Bqh"
      },
      "source": [
        "**2개의 인수**를 가지는 lambda 함수"
      ]
    },
    {
      "cell_type": "code",
      "metadata": {
        "id": "sJh36B1UPqsB"
      },
      "source": [
        "a = lambda x, y: x * y"
      ],
      "execution_count": 18,
      "outputs": []
    },
    {
      "cell_type": "code",
      "metadata": {
        "id": "9wgSa1zRPzJ3",
        "colab": {
          "base_uri": "https://localhost:8080/"
        },
        "outputId": "1d6e1da2-3f78-4af1-e9d3-55759dfc8ffe"
      },
      "source": [
        "a(4, 8)"
      ],
      "execution_count": 19,
      "outputs": [
        {
          "output_type": "execute_result",
          "data": {
            "text/plain": [
              "32"
            ]
          },
          "metadata": {},
          "execution_count": 19
        }
      ]
    },
    {
      "cell_type": "markdown",
      "metadata": {
        "id": "C-cBtA8K9Bqh"
      },
      "source": [
        "**기본 값이 지정된 인수**를 가지는 lambda 함수"
      ]
    },
    {
      "cell_type": "code",
      "metadata": {
        "id": "JdJ5FgRr9Bqh"
      },
      "source": [
        "a = lambda x, y=10: x * y"
      ],
      "execution_count": 20,
      "outputs": []
    },
    {
      "cell_type": "code",
      "metadata": {
        "id": "pBw029gNP0bT",
        "colab": {
          "base_uri": "https://localhost:8080/"
        },
        "outputId": "c7427a06-6743-4768-fb66-3bde52180601"
      },
      "source": [
        "a(3)"
      ],
      "execution_count": 21,
      "outputs": [
        {
          "output_type": "execute_result",
          "data": {
            "text/plain": [
              "30"
            ]
          },
          "metadata": {},
          "execution_count": 21
        }
      ]
    },
    {
      "cell_type": "markdown",
      "metadata": {
        "id": "UVlqNTV19Bqh"
      },
      "source": [
        "**키워드 인수**를 지정하는 lambda 함수"
      ]
    },
    {
      "cell_type": "code",
      "metadata": {
        "id": "fzu4rEeaQx_d",
        "colab": {
          "base_uri": "https://localhost:8080/"
        },
        "outputId": "f74617cf-86c9-4282-8c31-38e9145c874b"
      },
      "source": [
        "a(y=5, x=3)"
      ],
      "execution_count": 22,
      "outputs": [
        {
          "output_type": "execute_result",
          "data": {
            "text/plain": [
              "15"
            ]
          },
          "metadata": {},
          "execution_count": 22
        }
      ]
    },
    {
      "cell_type": "markdown",
      "metadata": {
        "id": "_4CNenE-9Bqi"
      },
      "source": [
        "lambda 함수 내부에서 **조건문** 사용"
      ]
    },
    {
      "cell_type": "code",
      "metadata": {
        "id": "Mk8Hom1HP6J0"
      },
      "source": [
        "a = lambda x, y: x * y if x > 0 else y"
      ],
      "execution_count": 26,
      "outputs": []
    },
    {
      "cell_type": "code",
      "metadata": {
        "id": "0f7feBkGP-sM",
        "colab": {
          "base_uri": "https://localhost:8080/"
        },
        "outputId": "d74b6a64-1918-482a-b08e-54223425e0c0"
      },
      "source": [
        "a(4, 8)"
      ],
      "execution_count": 27,
      "outputs": [
        {
          "output_type": "execute_result",
          "data": {
            "text/plain": [
              "32"
            ]
          },
          "metadata": {},
          "execution_count": 27
        }
      ]
    },
    {
      "cell_type": "code",
      "metadata": {
        "id": "rBFEFRBFQAqX",
        "colab": {
          "base_uri": "https://localhost:8080/"
        },
        "outputId": "d79e5f77-0b52-4c04-dca1-e63b04627cd2"
      },
      "source": [
        "a(-1, 8)"
      ],
      "execution_count": 28,
      "outputs": [
        {
          "output_type": "execute_result",
          "data": {
            "text/plain": [
              "8"
            ]
          },
          "metadata": {},
          "execution_count": 28
        }
      ]
    },
    {
      "cell_type": "markdown",
      "metadata": {
        "id": "RFVNlA319Bqi"
      },
      "source": [
        "다음과 같이 `elif` 구문을 억지로 생성할 수 있습니다.\n",
        "\n",
        "하지만, 복잡한 조건문을 사용하기 위해서는 일반적인 함수 사용을 권장합니다. (코드의 가독성이 떨어집니다.)"
      ]
    },
    {
      "cell_type": "code",
      "metadata": {
        "id": "D-DxNifnQBsZ"
      },
      "source": [
        "a = lambda x: x * 10 if x < 2 else (x**2 if x < 4 else x + 10)"
      ],
      "execution_count": 29,
      "outputs": []
    },
    {
      "cell_type": "code",
      "metadata": {
        "id": "xsNSgeR2QX-p",
        "colab": {
          "base_uri": "https://localhost:8080/"
        },
        "outputId": "caabb1cf-1f2f-420b-e0b1-af2c1fa485df"
      },
      "source": [
        "a(1)"
      ],
      "execution_count": 30,
      "outputs": [
        {
          "output_type": "execute_result",
          "data": {
            "text/plain": [
              "10"
            ]
          },
          "metadata": {},
          "execution_count": 30
        }
      ]
    },
    {
      "cell_type": "code",
      "metadata": {
        "id": "HqsPOYZmQqW2",
        "colab": {
          "base_uri": "https://localhost:8080/"
        },
        "outputId": "0826fdd0-824b-4f63-8e3d-9f315968df01"
      },
      "source": [
        "a(3)"
      ],
      "execution_count": 31,
      "outputs": [
        {
          "output_type": "execute_result",
          "data": {
            "text/plain": [
              "9"
            ]
          },
          "metadata": {},
          "execution_count": 31
        }
      ]
    },
    {
      "cell_type": "code",
      "metadata": {
        "id": "SHyovS1kQYz9",
        "colab": {
          "base_uri": "https://localhost:8080/"
        },
        "outputId": "baa24c41-46f6-47dd-9ef4-c126e97f754b"
      },
      "source": [
        "a(4)"
      ],
      "execution_count": 32,
      "outputs": [
        {
          "output_type": "execute_result",
          "data": {
            "text/plain": [
              "14"
            ]
          },
          "metadata": {},
          "execution_count": 32
        }
      ]
    },
    {
      "cell_type": "markdown",
      "metadata": {
        "id": "vOqYetPY9Bqi"
      },
      "source": [
        "### 연습문제 1"
      ]
    },
    {
      "cell_type": "markdown",
      "metadata": {
        "id": "upZazzK_9Bqj"
      },
      "source": [
        "알파벳 문자열을 인수로 넣으면  함수를 구현하세요\n",
        "\n",
        "- 함수의 이름은 `capital_letter` 로 선언합니다.\n",
        "- 함수는 **letter**라는 위치인수를 가집니다.\n",
        "- 함수는 **letter**인수에 받은 문자열을 모두 대문자로 바꾸고, 바꾼 값을 `return` 합니다."
      ]
    },
    {
      "cell_type": "code",
      "metadata": {
        "id": "HzVkv-QM9Bqj",
        "colab": {
          "base_uri": "https://localhost:8080/"
        },
        "outputId": "ad9f830b-2e23-40db-a43a-0e5d7c50d215"
      },
      "source": [
        "# 코드를 입력해 주세요\n",
        "\n",
        "def capital_letter(letter):\n",
        "  letter = letter.upper()\n",
        "\n",
        "  print(f'MY NAME IS {letter}')\n",
        "\n",
        "\n",
        "capital_letter(\"elsa\")"
      ],
      "execution_count": 45,
      "outputs": [
        {
          "output_type": "stream",
          "name": "stdout",
          "text": [
            "MY NAME IS ELSA\n"
          ]
        }
      ]
    },
    {
      "cell_type": "markdown",
      "metadata": {
        "id": "vhTWmBG89Bqj"
      },
      "source": [
        "<p><strong>[출력 결과]</strong></p><pre>'MY NAME IS ELSA'</pre>"
      ]
    },
    {
      "cell_type": "markdown",
      "metadata": {
        "id": "9Uv7MmFl9Bqj"
      },
      "source": [
        "### 연습문제 2"
      ]
    },
    {
      "cell_type": "markdown",
      "metadata": {
        "id": "3rI6fBly9Bqj"
      },
      "source": [
        "def calc_many(choice, *args) 함수에서\n",
        "- choice가 `sum` 이면 **합**을 구해서 return 합니다.\n",
        "- choice 가 `mul` 이면 **곱**한 결과를 return 합니다.\n",
        "\n",
        "함수를 구현하세요"
      ]
    },
    {
      "cell_type": "code",
      "metadata": {
        "id": "7F-NiXd39Bqj"
      },
      "source": [
        "# 코드를 입력해 주세요\n",
        "def calc_many(choice, *args):\n",
        "  ret = 0\n",
        "\n",
        "  if choice == 'mul' :\n",
        "    ret = 1\n",
        "\n",
        "  for i in args:\n",
        "    if choice == 'sum':\n",
        "      ret += i\n",
        "    elif choice == 'mul':\n",
        "      ret *= i\n",
        "\n",
        "  return ret\n"
      ],
      "execution_count": 61,
      "outputs": []
    },
    {
      "cell_type": "code",
      "metadata": {
        "id": "xdj07W2J9Bqj",
        "colab": {
          "base_uri": "https://localhost:8080/"
        },
        "outputId": "3b2e04aa-cc4c-4e92-d5a2-e41ad39de902"
      },
      "source": [
        "# 결과: 10\n",
        "print(calc_many('sum', 0, 1, 2, 3, 4))\n",
        "# 결과: 120\n",
        "print(calc_many('mul', 1, 2, 3, 4, 5))"
      ],
      "execution_count": 62,
      "outputs": [
        {
          "output_type": "stream",
          "name": "stdout",
          "text": [
            "10\n",
            "120\n"
          ]
        }
      ]
    }
  ]
}