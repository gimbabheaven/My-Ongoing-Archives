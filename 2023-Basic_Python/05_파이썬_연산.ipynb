{
  "nbformat": 4,
  "nbformat_minor": 0,
  "metadata": {
    "colab": {
      "provenance": [],
      "include_colab_link": true
    },
    "kernelspec": {
      "display_name": "Python 3",
      "language": "python",
      "name": "python3"
    },
    "language_info": {
      "codemirror_mode": {
        "name": "ipython",
        "version": 3
      },
      "file_extension": ".py",
      "mimetype": "text/x-python",
      "name": "python",
      "nbconvert_exporter": "python",
      "pygments_lexer": "ipython3",
      "version": "3.7.10"
    }
  },
  "cells": [
    {
      "cell_type": "markdown",
      "metadata": {
        "id": "view-in-github",
        "colab_type": "text"
      },
      "source": [
        "<a href=\"https://colab.research.google.com/github/gimbabheaven/2023-Basic_Python/blob/master/05_%ED%8C%8C%EC%9D%B4%EC%8D%AC_%EC%97%B0%EC%82%B0.ipynb\" target=\"_parent\"><img src=\"https://colab.research.google.com/assets/colab-badge.svg\" alt=\"Open In Colab\"/></a>"
      ]
    },
    {
      "cell_type": "markdown",
      "metadata": {
        "id": "jqa_7SA3jzYX"
      },
      "source": [
        "# 연산"
      ]
    },
    {
      "cell_type": "markdown",
      "metadata": {
        "id": "LltjCE7kj5kA"
      },
      "source": [
        "Excel에서도 **sum이나 +, -** 기호로 셀과 셀 단위, 열과 열단위, 행과 행단위 연산이 가능합니다.\n",
        "\n",
        "python에서도 마찬가지로 사칙 연산외 다양한 연산 기능을 기본으로 제공해 줍니다.\n",
        "(**사용법도 물론 매우 쉽습니다^^**)"
      ]
    },
    {
      "cell_type": "markdown",
      "metadata": {
        "id": "xRX1SSoskTdo"
      },
      "source": [
        "## 사칙연산 (+, -, /, *)"
      ]
    },
    {
      "cell_type": "markdown",
      "metadata": {
        "id": "EFebGxnjkXwr"
      },
      "source": [
        "* 더하기 (+)\n",
        "* 빼기 (-)\n",
        "* 나누기 (/)\n",
        "* 곱하기 (*)"
      ]
    },
    {
      "cell_type": "code",
      "metadata": {
        "id": "Ks6gjRfkkt9I"
      },
      "source": [
        "a = 10\n",
        "b = 3"
      ],
      "execution_count": 1,
      "outputs": []
    },
    {
      "cell_type": "markdown",
      "metadata": {
        "id": "8DshdUKZkoeX"
      },
      "source": [
        "### + : 덧셈"
      ]
    },
    {
      "cell_type": "code",
      "metadata": {
        "id": "GRJdclDnkl0v",
        "colab": {
          "base_uri": "https://localhost:8080/"
        },
        "outputId": "06911059-611f-47c5-de32-40b2ece9e9fa"
      },
      "source": [
        "a + b"
      ],
      "execution_count": 3,
      "outputs": [
        {
          "output_type": "execute_result",
          "data": {
            "text/plain": [
              "13"
            ]
          },
          "metadata": {},
          "execution_count": 3
        }
      ]
    },
    {
      "cell_type": "code",
      "metadata": {
        "id": "M3NXutOf2k9O",
        "colab": {
          "base_uri": "https://localhost:8080/"
        },
        "outputId": "24d17c95-45a3-4097-942b-a2f668bb9c15"
      },
      "source": [
        "10 + 234"
      ],
      "execution_count": 4,
      "outputs": [
        {
          "output_type": "execute_result",
          "data": {
            "text/plain": [
              "244"
            ]
          },
          "metadata": {},
          "execution_count": 4
        }
      ]
    },
    {
      "cell_type": "markdown",
      "metadata": {
        "id": "slDLupTo39N9"
      },
      "source": [
        "**+=** 기호는 + (덧셈) 한 뒤 자기 자신의 변수에 재 할당합니다.\n",
        "\n",
        "(예시) `a += 3` 은 `a = a + 3`과 같습니다."
      ]
    },
    {
      "cell_type": "code",
      "metadata": {
        "id": "W1z5yPZX328d",
        "colab": {
          "base_uri": "https://localhost:8080/"
        },
        "outputId": "083a45e0-695a-4924-9671-cb8c2273cd9f"
      },
      "source": [
        "s = 10\n",
        "s += 5\n",
        "print(s)"
      ],
      "execution_count": 5,
      "outputs": [
        {
          "output_type": "stream",
          "name": "stdout",
          "text": [
            "15\n"
          ]
        }
      ]
    },
    {
      "cell_type": "markdown",
      "metadata": {
        "id": "iZVY_FHJknXf"
      },
      "source": [
        "### - : 뺄셈"
      ]
    },
    {
      "cell_type": "code",
      "metadata": {
        "id": "fZtYiLERkrr0",
        "colab": {
          "base_uri": "https://localhost:8080/"
        },
        "outputId": "4ba705a0-3927-4ef4-b45a-e720804b184c"
      },
      "source": [
        "a - b"
      ],
      "execution_count": 6,
      "outputs": [
        {
          "output_type": "execute_result",
          "data": {
            "text/plain": [
              "7"
            ]
          },
          "metadata": {},
          "execution_count": 6
        }
      ]
    },
    {
      "cell_type": "code",
      "metadata": {
        "id": "7fX0CkXK3Sto",
        "colab": {
          "base_uri": "https://localhost:8080/"
        },
        "outputId": "69b7cf2b-441a-49ca-c986-258f4811e933"
      },
      "source": [
        "10 - 9"
      ],
      "execution_count": 7,
      "outputs": [
        {
          "output_type": "execute_result",
          "data": {
            "text/plain": [
              "1"
            ]
          },
          "metadata": {},
          "execution_count": 7
        }
      ]
    },
    {
      "cell_type": "code",
      "metadata": {
        "id": "PsHv93O_4C7L",
        "colab": {
          "base_uri": "https://localhost:8080/"
        },
        "outputId": "86f58e1f-e225-4438-ec25-8f35a1093967"
      },
      "source": [
        "s = 10\n",
        "s -= 3\n",
        "print(s)"
      ],
      "execution_count": 8,
      "outputs": [
        {
          "output_type": "stream",
          "name": "stdout",
          "text": [
            "7\n"
          ]
        }
      ]
    },
    {
      "cell_type": "markdown",
      "metadata": {
        "id": "Ofd8aJrXk0c5"
      },
      "source": [
        "### / : 나눗셈"
      ]
    },
    {
      "cell_type": "code",
      "metadata": {
        "id": "4wy7Uqik4FZS",
        "colab": {
          "base_uri": "https://localhost:8080/"
        },
        "outputId": "d79f9f27-492e-4ba6-c950-b38cdd137d8f"
      },
      "source": [
        "a, b"
      ],
      "execution_count": 9,
      "outputs": [
        {
          "output_type": "execute_result",
          "data": {
            "text/plain": [
              "(10, 3)"
            ]
          },
          "metadata": {},
          "execution_count": 9
        }
      ]
    },
    {
      "cell_type": "code",
      "metadata": {
        "id": "2a24yJmtk2Ha",
        "colab": {
          "base_uri": "https://localhost:8080/"
        },
        "outputId": "541e6763-e588-4ee4-eba2-a0ff14e2e0e9"
      },
      "source": [
        "a / b"
      ],
      "execution_count": 10,
      "outputs": [
        {
          "output_type": "execute_result",
          "data": {
            "text/plain": [
              "3.3333333333333335"
            ]
          },
          "metadata": {},
          "execution_count": 10
        }
      ]
    },
    {
      "cell_type": "code",
      "metadata": {
        "id": "bwVUkNmK3VWh",
        "colab": {
          "base_uri": "https://localhost:8080/"
        },
        "outputId": "d4b43d8f-2343-4ca5-9f4e-0d496a848a15"
      },
      "source": [
        "10.7 / 7"
      ],
      "execution_count": 11,
      "outputs": [
        {
          "output_type": "execute_result",
          "data": {
            "text/plain": [
              "1.5285714285714285"
            ]
          },
          "metadata": {},
          "execution_count": 11
        }
      ]
    },
    {
      "cell_type": "code",
      "metadata": {
        "id": "11xPTy8B4Ouk",
        "colab": {
          "base_uri": "https://localhost:8080/"
        },
        "outputId": "c80179aa-42bd-48a8-f1e7-47373eadbffc"
      },
      "source": [
        "s = 10\n",
        "s /= 2\n",
        "print(s)"
      ],
      "execution_count": 12,
      "outputs": [
        {
          "output_type": "stream",
          "name": "stdout",
          "text": [
            "5.0\n"
          ]
        }
      ]
    },
    {
      "cell_type": "markdown",
      "metadata": {
        "id": "EZP9onY-k2vf"
      },
      "source": [
        "### * : 곱셈"
      ]
    },
    {
      "cell_type": "code",
      "metadata": {
        "id": "n_2JEGaF4NV5",
        "colab": {
          "base_uri": "https://localhost:8080/"
        },
        "outputId": "91fb6ea4-a3a5-4f4a-e481-f8fb82327ace"
      },
      "source": [
        "a, b"
      ],
      "execution_count": 13,
      "outputs": [
        {
          "output_type": "execute_result",
          "data": {
            "text/plain": [
              "(10, 3)"
            ]
          },
          "metadata": {},
          "execution_count": 13
        }
      ]
    },
    {
      "cell_type": "code",
      "metadata": {
        "id": "MhOHnVNVk4iu",
        "colab": {
          "base_uri": "https://localhost:8080/"
        },
        "outputId": "15cd3f71-cc66-47ec-d82c-e71fd54c7e89"
      },
      "source": [
        "a * b"
      ],
      "execution_count": 14,
      "outputs": [
        {
          "output_type": "execute_result",
          "data": {
            "text/plain": [
              "30"
            ]
          },
          "metadata": {},
          "execution_count": 14
        }
      ]
    },
    {
      "cell_type": "code",
      "metadata": {
        "id": "Z1-z1y533YEe",
        "colab": {
          "base_uri": "https://localhost:8080/"
        },
        "outputId": "8d856021-4ee9-4d17-ab8c-4b2ccb84683c"
      },
      "source": [
        "a * 10"
      ],
      "execution_count": 15,
      "outputs": [
        {
          "output_type": "execute_result",
          "data": {
            "text/plain": [
              "100"
            ]
          },
          "metadata": {},
          "execution_count": 15
        }
      ]
    },
    {
      "cell_type": "code",
      "metadata": {
        "id": "bsv0u-m24Wk9",
        "colab": {
          "base_uri": "https://localhost:8080/"
        },
        "outputId": "b1370666-5ada-4aed-830e-44ff173a762e"
      },
      "source": [
        "s = 20\n",
        "s *= 3\n",
        "print(s)"
      ],
      "execution_count": 16,
      "outputs": [
        {
          "output_type": "stream",
          "name": "stdout",
          "text": [
            "60\n"
          ]
        }
      ]
    },
    {
      "cell_type": "markdown",
      "metadata": {
        "id": "6lkBwXXRk8Rn"
      },
      "source": [
        "# 조금 생소할 수 있는 연산자 (%, //, **)"
      ]
    },
    {
      "cell_type": "markdown",
      "metadata": {
        "id": "cAmmwPb0lPD8"
      },
      "source": [
        "- `//`: **floor division** 연산자입니다. 나눗셈에 대한 **몫**을 정수형으로 구함\n",
        "- `%`: **modulus** 연산자입니다. 몫을 나눈 **나머지**를 구함\n",
        "- `**`: 제곱 연산"
      ]
    },
    {
      "cell_type": "markdown",
      "metadata": {
        "id": "ltM2fZ5SyHhd"
      },
      "source": [
        "### // : Floor Division\n",
        "\n",
        "- 나눗셈에 대한 **몫**을 정수형으로 구함"
      ]
    },
    {
      "cell_type": "code",
      "metadata": {
        "id": "yjR5tEc7yHhd"
      },
      "source": [
        "a = 10\n",
        "b = 3"
      ],
      "execution_count": 17,
      "outputs": []
    },
    {
      "cell_type": "markdown",
      "metadata": {
        "id": "l-J1IMLOyHhd"
      },
      "source": [
        "일반 나눗셈 연산 결과"
      ]
    },
    {
      "cell_type": "code",
      "metadata": {
        "id": "dk9Y2AL_yHhd",
        "colab": {
          "base_uri": "https://localhost:8080/"
        },
        "outputId": "adb1e87d-b785-4dfc-bbc3-608fe35d5766"
      },
      "source": [
        "a / b"
      ],
      "execution_count": 18,
      "outputs": [
        {
          "output_type": "execute_result",
          "data": {
            "text/plain": [
              "3.3333333333333335"
            ]
          },
          "metadata": {},
          "execution_count": 18
        }
      ]
    },
    {
      "cell_type": "markdown",
      "metadata": {
        "id": "beB1E967yHhe"
      },
      "source": [
        "// 연산 결과"
      ]
    },
    {
      "cell_type": "code",
      "metadata": {
        "id": "mIZJQXAVyHhe",
        "colab": {
          "base_uri": "https://localhost:8080/"
        },
        "outputId": "a28e8093-a16b-4ca3-f237-14533d78084d"
      },
      "source": [
        "a // b"
      ],
      "execution_count": 19,
      "outputs": [
        {
          "output_type": "execute_result",
          "data": {
            "text/plain": [
              "3"
            ]
          },
          "metadata": {},
          "execution_count": 19
        }
      ]
    },
    {
      "cell_type": "markdown",
      "metadata": {
        "id": "0XTyKP1Vl50Q"
      },
      "source": [
        "### % : modulus\n",
        "\n",
        "- 몫을 나눈 **나머지**를 구합니다."
      ]
    },
    {
      "cell_type": "code",
      "metadata": {
        "id": "iC8PVhovyHhe"
      },
      "source": [
        "a = 10\n",
        "b = 3"
      ],
      "execution_count": 20,
      "outputs": []
    },
    {
      "cell_type": "code",
      "metadata": {
        "id": "woV-i1v5lrcP",
        "colab": {
          "base_uri": "https://localhost:8080/"
        },
        "outputId": "07a33236-a9ba-489f-bf6a-ca27d3d847cf"
      },
      "source": [
        "a % b"
      ],
      "execution_count": 21,
      "outputs": [
        {
          "output_type": "execute_result",
          "data": {
            "text/plain": [
              "1"
            ]
          },
          "metadata": {},
          "execution_count": 21
        }
      ]
    },
    {
      "cell_type": "markdown",
      "metadata": {
        "id": "kgsdhcm6mCe2"
      },
      "source": [
        "### ** : 제곱 연산\n",
        "\n",
        "- 제곱 연산을 수행합니다."
      ]
    },
    {
      "cell_type": "code",
      "metadata": {
        "id": "OqLdUpt1yHhe"
      },
      "source": [
        "a = 10\n",
        "b = 3"
      ],
      "execution_count": 22,
      "outputs": []
    },
    {
      "cell_type": "code",
      "metadata": {
        "id": "PI2Cb9V_mFvG",
        "colab": {
          "base_uri": "https://localhost:8080/"
        },
        "outputId": "b2008156-64f7-49b7-db8d-32dfb27590f0"
      },
      "source": [
        "a ** b # 10의 3제곱"
      ],
      "execution_count": 23,
      "outputs": [
        {
          "output_type": "execute_result",
          "data": {
            "text/plain": [
              "1000"
            ]
          },
          "metadata": {},
          "execution_count": 23
        }
      ]
    },
    {
      "cell_type": "code",
      "metadata": {
        "id": "AkltfELfmGwJ",
        "colab": {
          "base_uri": "https://localhost:8080/"
        },
        "outputId": "ce505b80-fe7b-4449-b720-b9c13a40e921"
      },
      "source": [
        "2 ** 10"
      ],
      "execution_count": 24,
      "outputs": [
        {
          "output_type": "execute_result",
          "data": {
            "text/plain": [
              "1024"
            ]
          },
          "metadata": {},
          "execution_count": 24
        }
      ]
    },
    {
      "cell_type": "markdown",
      "metadata": {
        "id": "vxr0cihmmIgB"
      },
      "source": [
        "### 괄호 ()의 활용\n",
        "\n",
        "- 수학 연산할 때와 마찬가지로, 곱셈과 나눗셈을 먼저 계산하며, **괄호 ()를 활용**하여 먼저 연산할 부분을 지정할 수 있습니다."
      ]
    },
    {
      "cell_type": "code",
      "metadata": {
        "id": "uHDJHp7Vmflc",
        "colab": {
          "base_uri": "https://localhost:8080/"
        },
        "outputId": "8f953594-445c-4b1e-dc1b-b4d0d87ab3ed"
      },
      "source": [
        "10 + 2 * 5"
      ],
      "execution_count": 25,
      "outputs": [
        {
          "output_type": "execute_result",
          "data": {
            "text/plain": [
              "20"
            ]
          },
          "metadata": {},
          "execution_count": 25
        }
      ]
    },
    {
      "cell_type": "code",
      "metadata": {
        "id": "XkFs622Ymqwq",
        "colab": {
          "base_uri": "https://localhost:8080/"
        },
        "outputId": "f41d58ba-dc06-4574-fb83-4d02a57976b5"
      },
      "source": [
        "(10 + 2) * 5"
      ],
      "execution_count": 26,
      "outputs": [
        {
          "output_type": "execute_result",
          "data": {
            "text/plain": [
              "60"
            ]
          },
          "metadata": {},
          "execution_count": 26
        }
      ]
    },
    {
      "cell_type": "markdown",
      "metadata": {
        "id": "FEUujjHMOHaF"
      },
      "source": [
        "다음과 같은 경우는 어떻게 될까요?"
      ]
    },
    {
      "cell_type": "code",
      "metadata": {
        "id": "4RjDCe4KONdI"
      },
      "source": [
        "a = '10'\n",
        "b = '20'"
      ],
      "execution_count": 27,
      "outputs": []
    },
    {
      "cell_type": "code",
      "metadata": {
        "id": "uTBZ7-FlORDW",
        "colab": {
          "base_uri": "https://localhost:8080/",
          "height": 35
        },
        "outputId": "951582ef-891f-49c4-c8ba-0ff9e09c0d5e"
      },
      "source": [
        "a + b"
      ],
      "execution_count": 28,
      "outputs": [
        {
          "output_type": "execute_result",
          "data": {
            "text/plain": [
              "'1020'"
            ],
            "application/vnd.google.colaboratory.intrinsic+json": {
              "type": "string"
            }
          },
          "metadata": {},
          "execution_count": 28
        }
      ]
    },
    {
      "cell_type": "markdown",
      "metadata": {
        "id": "kfj-G6QmyHhg"
      },
      "source": [
        "연산시 타입(type)이 다르면 Error가 발생합니다."
      ]
    },
    {
      "cell_type": "code",
      "metadata": {
        "id": "PFw8GB3wyHhg"
      },
      "source": [
        "a = '10'\n",
        "b = 20"
      ],
      "execution_count": 31,
      "outputs": []
    },
    {
      "cell_type": "code",
      "metadata": {
        "id": "OFwrjqh6yHhg",
        "colab": {
          "base_uri": "https://localhost:8080/",
          "height": 35
        },
        "outputId": "7a561f34-fd3f-4a2f-d535-ae25abcb9246"
      },
      "source": [
        "# a + b >> 타입 에러 발\n",
        "a + str(b)"
      ],
      "execution_count": 30,
      "outputs": [
        {
          "output_type": "execute_result",
          "data": {
            "text/plain": [
              "'1020'"
            ],
            "application/vnd.google.colaboratory.intrinsic+json": {
              "type": "string"
            }
          },
          "metadata": {},
          "execution_count": 30
        }
      ]
    },
    {
      "cell_type": "markdown",
      "metadata": {
        "id": "xr2I2FE3yHhg"
      },
      "source": [
        "### 연습문제\n",
        "\n",
        "`a`와 `b`를 덧셈하여 다음의 결과가 나오도록 코드를 입력해 주세요\n",
        "\n",
        "- 단, `a`와 `b`의 값을 수정하지 않습니다."
      ]
    },
    {
      "cell_type": "code",
      "metadata": {
        "id": "kBrc7kRzyHhh"
      },
      "source": [
        "a = '10'\n",
        "b = 20"
      ],
      "execution_count": null,
      "outputs": []
    },
    {
      "cell_type": "code",
      "metadata": {
        "id": "AzdjQXHkyHhh",
        "colab": {
          "base_uri": "https://localhost:8080/"
        },
        "outputId": "49a31c55-97e5-46ef-af64-3033ef8e81c5"
      },
      "source": [
        "# 코드를 입력해 주세요\n",
        "int(a) + b"
      ],
      "execution_count": 32,
      "outputs": [
        {
          "output_type": "execute_result",
          "data": {
            "text/plain": [
              "30"
            ]
          },
          "metadata": {},
          "execution_count": 32
        }
      ]
    },
    {
      "cell_type": "markdown",
      "metadata": {
        "id": "bdpxBvFOyHhh"
      },
      "source": [
        "<p><strong>[출력 결과]</strong></p><pre>30</pre>"
      ]
    },
    {
      "cell_type": "markdown",
      "metadata": {
        "id": "j1I9d5GE6rSo"
      },
      "source": [
        "## 연습문제"
      ]
    },
    {
      "cell_type": "markdown",
      "metadata": {
        "id": "YguVPqeb7aRZ"
      },
      "source": [
        "### 문제1\n",
        "\n",
        "다음의 결과를 나타내는 `a`, `b`를 찾아주세요"
      ]
    },
    {
      "cell_type": "code",
      "metadata": {
        "id": "35gC2NGv7a1q"
      },
      "source": [
        "# a, b 값을 찾아주세요\n",
        "# 코드를 입력해 주세요\n",
        "# 최초 선언\n",
        "a = 10\n",
        "b = 21"
      ],
      "execution_count": 44,
      "outputs": []
    },
    {
      "cell_type": "code",
      "metadata": {
        "id": "hwZpIYlH7dGG",
        "colab": {
          "base_uri": "https://localhost:8080/"
        },
        "outputId": "69713c86-c671-4f61-f906-f6d9cd0fa71f"
      },
      "source": [
        "# 출력: 1041\n",
        "b += 20\n",
        "print(a ** 3 + b) # (10 * 10 * 10) + (b = 21) + 20 = 1041"
      ],
      "execution_count": 45,
      "outputs": [
        {
          "output_type": "stream",
          "name": "stdout",
          "text": [
            "1041\n"
          ]
        }
      ]
    },
    {
      "cell_type": "markdown",
      "metadata": {
        "id": "LBMq_F6d6tIP"
      },
      "source": [
        "### 문제2\n",
        "\n",
        "다음의 결과를 나타내는 `a`, `b`를 찾아주세요"
      ]
    },
    {
      "cell_type": "code",
      "metadata": {
        "id": "JqMPI-QV6xzo",
        "colab": {
          "base_uri": "https://localhost:8080/"
        },
        "outputId": "f3fc1dda-9281-44b3-dfbc-2c7edaac1122"
      },
      "source": [
        "# a, b 값을 찾아주세요\n",
        "# 코드를 입력해 주세요\n",
        "int:a; int:b;\n",
        "\n",
        "(a + 3) // 4 + b * 3 == 12\n",
        "a + 3 // 4 + b * 3 == 21\n",
        "a // b == 4"
      ],
      "execution_count": 48,
      "outputs": [
        {
          "output_type": "execute_result",
          "data": {
            "text/plain": [
              "False"
            ]
          },
          "metadata": {},
          "execution_count": 48
        }
      ]
    },
    {
      "cell_type": "code",
      "metadata": {
        "id": "WSELNt0b621d"
      },
      "source": [
        "# 출력: 12\n",
        "print((a + 3) // 4 + b * 3)\n",
        "# 출력: 21\n",
        "print(a + 3 // 4 + b * 3)\n",
        "# 출력: 4\n",
        "print(a // b) # a의 값은 b*4 이상"
      ],
      "execution_count": null,
      "outputs": []
    },
    {
      "cell_type": "markdown",
      "metadata": {
        "id": "8EL-diJu7kGr"
      },
      "source": [
        "### 문제3\n",
        "\n",
        "다음의 결과를 나타내는 `a`, `b`를 찾아주세요"
      ]
    },
    {
      "cell_type": "code",
      "metadata": {
        "id": "jUBNcy357zC5"
      },
      "source": [
        "# a, b 값을 찾아주세요\n",
        "# 코드를 입력해 주세요\n"
      ],
      "execution_count": null,
      "outputs": []
    },
    {
      "cell_type": "code",
      "metadata": {
        "id": "WgSYcMEA71S_"
      },
      "source": [
        "# 출력: 34\n",
        "a ** 10 + b ** 3 + a * (5 + b % 2)"
      ],
      "execution_count": null,
      "outputs": []
    }
  ]
}