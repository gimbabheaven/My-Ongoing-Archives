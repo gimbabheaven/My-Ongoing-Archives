{
  "nbformat": 4,
  "nbformat_minor": 0,
  "metadata": {
    "colab": {
      "provenance": [],
      "include_colab_link": true
    },
    "kernelspec": {
      "display_name": "Python 3",
      "language": "python",
      "name": "python3"
    },
    "language_info": {
      "codemirror_mode": {
        "name": "ipython",
        "version": 3
      },
      "file_extension": ".py",
      "mimetype": "text/x-python",
      "name": "python",
      "nbconvert_exporter": "python",
      "pygments_lexer": "ipython3",
      "version": "3.6.9"
    }
  },
  "cells": [
    {
      "cell_type": "markdown",
      "metadata": {
        "id": "view-in-github",
        "colab_type": "text"
      },
      "source": [
        "<a href=\"https://colab.research.google.com/github/gimbabheaven/2023-Basic_Python/blob/master/02_%ED%8C%8C%EC%9D%B4%EC%8D%AC_%EB%A6%AC%EC%8A%A4%ED%8A%B8_%ED%8A%9C%ED%94%8C.ipynb\" target=\"_parent\"><img src=\"https://colab.research.google.com/assets/colab-badge.svg\" alt=\"Open In Colab\"/></a>"
      ]
    },
    {
      "cell_type": "markdown",
      "metadata": {
        "id": "KgAFjs7iUREl"
      },
      "source": [
        "# 시퀀스, 집합형 자료구조"
      ]
    },
    {
      "cell_type": "markdown",
      "metadata": {
        "id": "JiAbeX-zcgW6"
      },
      "source": [
        "| 분류             | 타입                 | 특징                                   | 예시                     |\n",
        "| ---------------- | -------------------- | -------------------------------------- | ------------------------ |\n",
        "| 시퀀스(sequence) | 리스트(list)         | 순서가 있고, 가변(mutable)             | [1, 2, 3]                |\n",
        "| 시퀀스(sequence) | 튜플(tuple)          | 순서가 있고, 불변(immutable)           | (1, 2, 3)                |\n",
        "| 세트(set)        | 세트(set)            | 순서가 없고, 중복을 허용하지 않음      | {1, 2, 3}                |\n",
        "| 맵(map)          | 딕셔너리(dictionary) | 순서가 없고, key/value 쌍으로 이루어짐 | {'a': 1, 'b': 2, 'c': 3} |"
      ]
    },
    {
      "cell_type": "markdown",
      "metadata": {
        "id": "d610lQinUwSN"
      },
      "source": [
        "## 리스트(list)\n",
        "\n",
        "- 리스트는 데이터의 요소를 순차적으로 파악하는데 용이한 자료형 입니다.\n",
        "- 리스트는 다양한 메서드(method) 혹은 함수를 지원하며 메서드를 활용하여 요소를 추가, 삭제 및 변경할 수 있습니다.\n",
        "\n",
        "**메서드(method)**: 객체(object)가 포함하는 함수 혹은 기능입니다. 함수에 대한 내용은 추후에 다룹니다."
      ]
    },
    {
      "cell_type": "markdown",
      "metadata": {
        "id": "Twq31zuC0xJJ"
      },
      "source": [
        "### 생성"
      ]
    },
    {
      "cell_type": "markdown",
      "metadata": {
        "id": "g-HX7XnQU5zN"
      },
      "source": [
        "[] 형태로 표현합니다."
      ]
    },
    {
      "cell_type": "markdown",
      "metadata": {
        "id": "x1yU3DI-cgW7"
      },
      "source": [
        "빈 리스트를 생성합니다."
      ]
    },
    {
      "cell_type": "code",
      "metadata": {
        "id": "xSAez-0xU_sg",
        "colab": {
          "base_uri": "https://localhost:8080/"
        },
        "outputId": "ff7af61a-8417-452a-dada-15abccd854a2"
      },
      "source": [
        "mylist = []\n",
        "mylist"
      ],
      "execution_count": 1,
      "outputs": [
        {
          "output_type": "execute_result",
          "data": {
            "text/plain": [
              "[]"
            ]
          },
          "metadata": {},
          "execution_count": 1
        }
      ]
    },
    {
      "cell_type": "code",
      "metadata": {
        "id": "CDyUdGJVcgW8"
      },
      "source": [
        "mylist = list()\n",
        "mylist"
      ],
      "execution_count": null,
      "outputs": []
    },
    {
      "cell_type": "markdown",
      "metadata": {
        "id": "rboSudWScgW9"
      },
      "source": [
        "리스트를 생성하면서 값을 포함합니다."
      ]
    },
    {
      "cell_type": "code",
      "metadata": {
        "id": "IVS7djx4U0KS"
      },
      "source": [
        "mylist = [1, 3, 2, 4, 5]\n",
        "mylist"
      ],
      "execution_count": null,
      "outputs": []
    },
    {
      "cell_type": "markdown",
      "metadata": {
        "id": "SxrF2tkJz26f"
      },
      "source": [
        "### list 규칙"
      ]
    },
    {
      "cell_type": "markdown",
      "metadata": {
        "id": "C1SLDi69z5ag"
      },
      "source": [
        "* list는 다양한 type의 데이터를 집합으로 가집니다.\n",
        "* list안에 list도 허용합니다. > 중첩된 리스트 허용\n",
        "* list는 순서(order)의 개념이 존재합니다."
      ]
    },
    {
      "cell_type": "code",
      "metadata": {
        "id": "TZimFWErz6KT"
      },
      "source": [
        "a = []"
      ],
      "execution_count": 2,
      "outputs": []
    },
    {
      "cell_type": "code",
      "metadata": {
        "id": "gF2NT1YW_5bz"
      },
      "source": [
        "a"
      ],
      "execution_count": null,
      "outputs": []
    },
    {
      "cell_type": "code",
      "metadata": {
        "id": "rhAQ23ymz8W6",
        "colab": {
          "base_uri": "https://localhost:8080/"
        },
        "outputId": "02ab098d-6436-4343-d1b2-1595946010a5"
      },
      "source": [
        "a = [1, 2, 3]\n",
        "a"
      ],
      "execution_count": 3,
      "outputs": [
        {
          "output_type": "execute_result",
          "data": {
            "text/plain": [
              "[1, 2, 3]"
            ]
          },
          "metadata": {},
          "execution_count": 3
        }
      ]
    },
    {
      "cell_type": "code",
      "metadata": {
        "id": "RRoIj9ISz92M",
        "colab": {
          "base_uri": "https://localhost:8080/"
        },
        "outputId": "972a32ae-b96a-4308-c9d3-9325b197bb5a"
      },
      "source": [
        "# 여러가지 데이터 타입을 포함하여 리스트 생성 가능\n",
        "a = [1, 'hello', 3, 3.14, True]\n",
        "a"
      ],
      "execution_count": 6,
      "outputs": [
        {
          "output_type": "execute_result",
          "data": {
            "text/plain": [
              "[1, 'hello', 3, 3.14, True]"
            ]
          },
          "metadata": {},
          "execution_count": 6
        }
      ]
    },
    {
      "cell_type": "markdown",
      "metadata": {
        "id": "nM_LJznJcgW-"
      },
      "source": [
        "리스트 안에 리스트로 포함할 수 있습니다."
      ]
    },
    {
      "cell_type": "code",
      "metadata": {
        "id": "2fdiq1bc0B3G",
        "colab": {
          "base_uri": "https://localhost:8080/"
        },
        "outputId": "29630cff-ff11-4fc6-a2ba-d722070dac9e"
      },
      "source": [
        "a = [1, 'hello', 3, 3.14, [6, 7, '8']]\n",
        "a"
      ],
      "execution_count": 5,
      "outputs": [
        {
          "output_type": "execute_result",
          "data": {
            "text/plain": [
              "[1, 'hello', 3, 3.14, [6, 7, '8']]"
            ]
          },
          "metadata": {},
          "execution_count": 5
        }
      ]
    },
    {
      "cell_type": "markdown",
      "metadata": {
        "id": "JSh4BXzRWUY_"
      },
      "source": [
        "### 관련 함수\n",
        "\n",
        "- . 점 연산자로 함수를 실행할 수 있습니다.\n",
        "- 함수는 어떤 작업을 수행하는 코드를 모아 이름을 붙인 것입니다.\n",
        "- 자세한 내용은 추후 함수 단원에서 배웁니다."
      ]
    },
    {
      "cell_type": "markdown",
      "metadata": {
        "id": "ilJWB7H8qjNa"
      },
      "source": [
        "### append() : 값 추가"
      ]
    },
    {
      "cell_type": "markdown",
      "metadata": {
        "id": "gLBi5RsP2Cjb"
      },
      "source": [
        "빈 리스트를 생성합니다."
      ]
    },
    {
      "cell_type": "code",
      "metadata": {
        "id": "JWnjMkgr1oQb",
        "colab": {
          "base_uri": "https://localhost:8080/"
        },
        "outputId": "9c669e42-d8ca-4e84-c58d-adc10c934923"
      },
      "source": [
        "mylist = []\n",
        "mylist"
      ],
      "execution_count": 7,
      "outputs": [
        {
          "output_type": "execute_result",
          "data": {
            "text/plain": [
              "[]"
            ]
          },
          "metadata": {},
          "execution_count": 7
        }
      ]
    },
    {
      "cell_type": "markdown",
      "metadata": {
        "id": "jZCHtjoGcgW_"
      },
      "source": [
        "append() 는 값을 맨 뒤에 추가 합니다."
      ]
    },
    {
      "cell_type": "code",
      "metadata": {
        "id": "AYHFOiG2VJEQ",
        "colab": {
          "base_uri": "https://localhost:8080/"
        },
        "outputId": "a420c987-5c18-4961-e606-caf672a228ef"
      },
      "source": [
        "mylist.append(1)\n",
        "mylist"
      ],
      "execution_count": 10,
      "outputs": [
        {
          "output_type": "execute_result",
          "data": {
            "text/plain": [
              "[1, 1, 1]"
            ]
          },
          "metadata": {},
          "execution_count": 10
        }
      ]
    },
    {
      "cell_type": "markdown",
      "metadata": {
        "id": "_QLShecBcgW_"
      },
      "source": [
        "중복된 값을 추가할 수 있으며, 순서가 **유지**됩니다."
      ]
    },
    {
      "cell_type": "code",
      "metadata": {
        "id": "LBBwfWxRVK6E",
        "colab": {
          "base_uri": "https://localhost:8080/"
        },
        "outputId": "7bbf902f-e4a6-4603-bfd8-b0789c9e879f"
      },
      "source": [
        "mylist.append(7)\n",
        "mylist.append(7)\n",
        "mylist.append(7)\n",
        "mylist.append(3)\n",
        "mylist.append(5)\n",
        "mylist.append(2)\n",
        "mylist"
      ],
      "execution_count": 11,
      "outputs": [
        {
          "output_type": "execute_result",
          "data": {
            "text/plain": [
              "[1, 1, 1, 7, 7, 7, 3, 5, 2]"
            ]
          },
          "metadata": {},
          "execution_count": 11
        }
      ]
    },
    {
      "cell_type": "markdown",
      "metadata": {
        "id": "mwaKcYsRWatD"
      },
      "source": [
        "### sort() : 정렬"
      ]
    },
    {
      "cell_type": "markdown",
      "metadata": {
        "id": "TkuM5mqM1-r-"
      },
      "source": [
        "- 요소를 순서대로 정렬합니다 (오름차순)\n",
        "- sort()는 내부적으로 정렬 합니다."
      ]
    },
    {
      "cell_type": "code",
      "metadata": {
        "id": "ZjRQXZAHWccX"
      },
      "source": [
        "mylist = [1, 6, 3, 2, 7, 5, 4]\n",
        "mylist.sort()"
      ],
      "execution_count": 12,
      "outputs": []
    },
    {
      "cell_type": "code",
      "metadata": {
        "id": "amuUCcPl17Hq",
        "colab": {
          "base_uri": "https://localhost:8080/"
        },
        "outputId": "9ad544c6-2a91-4ee7-8578-852b89461ac1"
      },
      "source": [
        "mylist"
      ],
      "execution_count": 13,
      "outputs": [
        {
          "output_type": "execute_result",
          "data": {
            "text/plain": [
              "[1, 2, 3, 4, 5, 6, 7]"
            ]
          },
          "metadata": {},
          "execution_count": 13
        }
      ]
    },
    {
      "cell_type": "markdown",
      "metadata": {
        "id": "EaHHAmqlcgXA"
      },
      "source": [
        "역정렬(reverse order)도 가능합니다. (`reverse=True`를 지정합니다.)"
      ]
    },
    {
      "cell_type": "code",
      "metadata": {
        "id": "BdCWTN-wcgXB"
      },
      "source": [
        "mylist = [1, 6, 3, 2, 7, 5, 4]\n",
        "mylist.sort(reverse=True)"
      ],
      "execution_count": null,
      "outputs": []
    },
    {
      "cell_type": "code",
      "metadata": {
        "id": "v592Eh_ycgXB"
      },
      "source": [
        "mylist"
      ],
      "execution_count": null,
      "outputs": []
    },
    {
      "cell_type": "markdown",
      "metadata": {
        "id": "mXtpy3CIcgXB"
      },
      "source": [
        "### sorted() : 정렬\n",
        "\n",
        "- 요소를 순서대로 정렬합니다.\n",
        "- 내부적으로 정렬하지 않고 **정렬된 복사본을 반환**합니다.\n",
        "- 즉 원본 데이터는 정렬되지 않습니다."
      ]
    },
    {
      "cell_type": "code",
      "metadata": {
        "id": "ed62pm5YcgXB",
        "colab": {
          "base_uri": "https://localhost:8080/"
        },
        "outputId": "a763159d-b203-4ba0-b316-26a556e39200"
      },
      "source": [
        "mylist = [1, 6, 3, 2, 7, 5, 4]\n",
        "mylist2 = sorted(mylist)\n",
        "mylist2"
      ],
      "execution_count": 14,
      "outputs": [
        {
          "output_type": "execute_result",
          "data": {
            "text/plain": [
              "[1, 2, 3, 4, 5, 6, 7]"
            ]
          },
          "metadata": {},
          "execution_count": 14
        }
      ]
    },
    {
      "cell_type": "code",
      "metadata": {
        "id": "xOh7qMeEcgXB",
        "colab": {
          "base_uri": "https://localhost:8080/"
        },
        "outputId": "3676d727-1561-4bde-84d3-4794d62f6ad9"
      },
      "source": [
        "mylist"
      ],
      "execution_count": 15,
      "outputs": [
        {
          "output_type": "execute_result",
          "data": {
            "text/plain": [
              "[1, 6, 3, 2, 7, 5, 4]"
            ]
          },
          "metadata": {},
          "execution_count": 15
        }
      ]
    },
    {
      "cell_type": "markdown",
      "metadata": {
        "id": "q3TDyJrbcgXB"
      },
      "source": [
        "마찬가지로, `reverse=True`를 지정하여 역정렬할 수 있습니다."
      ]
    },
    {
      "cell_type": "code",
      "metadata": {
        "id": "NA3OFWdMcgXC",
        "colab": {
          "base_uri": "https://localhost:8080/"
        },
        "outputId": "9ab844f6-8b60-4add-a01d-4183a8cb65e3"
      },
      "source": [
        "mylist = [1, 6, 3, 2, 7, 5, 4]\n",
        "sorted(mylist, reverse=True)"
      ],
      "execution_count": 17,
      "outputs": [
        {
          "output_type": "execute_result",
          "data": {
            "text/plain": [
              "[7, 6, 5, 4, 3, 2, 1]"
            ]
          },
          "metadata": {},
          "execution_count": 17
        }
      ]
    },
    {
      "cell_type": "markdown",
      "metadata": {
        "id": "Dx97KWki2JOq"
      },
      "source": [
        "### reverse() : 역정렬"
      ]
    },
    {
      "cell_type": "code",
      "metadata": {
        "id": "PiTJMwY1DR9e",
        "colab": {
          "base_uri": "https://localhost:8080/"
        },
        "outputId": "6e4cbddb-d226-4bb3-b5c1-8751a871733d"
      },
      "source": [
        "mylist"
      ],
      "execution_count": 18,
      "outputs": [
        {
          "output_type": "execute_result",
          "data": {
            "text/plain": [
              "[1, 6, 3, 2, 7, 5, 4]"
            ]
          },
          "metadata": {},
          "execution_count": 18
        }
      ]
    },
    {
      "cell_type": "code",
      "metadata": {
        "id": "VGDfSJFADsRO"
      },
      "source": [
        "mylist.reverse()"
      ],
      "execution_count": 21,
      "outputs": []
    },
    {
      "cell_type": "code",
      "metadata": {
        "id": "hU9A_WURDuMG",
        "colab": {
          "base_uri": "https://localhost:8080/"
        },
        "outputId": "d03d78a6-7908-4fb5-b866-9a99239670b1"
      },
      "source": [
        "mylist"
      ],
      "execution_count": 22,
      "outputs": [
        {
          "output_type": "execute_result",
          "data": {
            "text/plain": [
              "[1, 6, 3, 2, 7, 5, 4]"
            ]
          },
          "metadata": {},
          "execution_count": 22
        }
      ]
    },
    {
      "cell_type": "code",
      "metadata": {
        "id": "S8C3nmHBEKZO",
        "colab": {
          "base_uri": "https://localhost:8080/"
        },
        "outputId": "a018f58f-7ffc-419b-8463-81a21feb07f7"
      },
      "source": [
        "mylist[::-1] #원본에 반영되어 있지는 않은 상태"
      ],
      "execution_count": 25,
      "outputs": [
        {
          "output_type": "execute_result",
          "data": {
            "text/plain": [
              "[4, 5, 7, 2, 3, 6, 1]"
            ]
          },
          "metadata": {},
          "execution_count": 25
        }
      ]
    },
    {
      "cell_type": "code",
      "metadata": {
        "id": "HEKGCsRnEURt",
        "colab": {
          "base_uri": "https://localhost:8080/"
        },
        "outputId": "319ab0ab-563f-42c8-9499-6ebf9f3685bc"
      },
      "source": [
        "mylist"
      ],
      "execution_count": 26,
      "outputs": [
        {
          "output_type": "execute_result",
          "data": {
            "text/plain": [
              "[1, 6, 3, 2, 7, 5, 4]"
            ]
          },
          "metadata": {},
          "execution_count": 26
        }
      ]
    },
    {
      "cell_type": "markdown",
      "metadata": {
        "id": "QJ8NCnNbcgXC"
      },
      "source": [
        "### len() : 전체 항목의 개수 세기"
      ]
    },
    {
      "cell_type": "code",
      "metadata": {
        "id": "FaDoNkLLcgXC",
        "colab": {
          "base_uri": "https://localhost:8080/"
        },
        "outputId": "b5619fbf-3e37-46dd-f74c-f1e4bd86ed99"
      },
      "source": [
        "mylist = [1, 6, 3, 2, 7, 5, 4]\n",
        "len(mylist)"
      ],
      "execution_count": 27,
      "outputs": [
        {
          "output_type": "execute_result",
          "data": {
            "text/plain": [
              "7"
            ]
          },
          "metadata": {},
          "execution_count": 27
        }
      ]
    },
    {
      "cell_type": "markdown",
      "metadata": {
        "id": "0U0bsd5W2TPk"
      },
      "source": [
        "### insert() : 값 추가"
      ]
    },
    {
      "cell_type": "markdown",
      "metadata": {
        "id": "k_rbdp2q2VoN"
      },
      "source": [
        "지정한 index에 값 추가"
      ]
    },
    {
      "cell_type": "code",
      "metadata": {
        "id": "Sz687uQGE0_t"
      },
      "source": [
        "mylist = [1, 6, 3, 2, 7, 5, 4]"
      ],
      "execution_count": 28,
      "outputs": []
    },
    {
      "cell_type": "code",
      "metadata": {
        "id": "2iZQBTNXE2SH",
        "colab": {
          "base_uri": "https://localhost:8080/"
        },
        "outputId": "0b5d0adb-9cff-4cdd-feb7-3e614b21ffae"
      },
      "source": [
        "mylist"
      ],
      "execution_count": 29,
      "outputs": [
        {
          "output_type": "execute_result",
          "data": {
            "text/plain": [
              "[1, 6, 3, 2, 7, 5, 4]"
            ]
          },
          "metadata": {},
          "execution_count": 29
        }
      ]
    },
    {
      "cell_type": "code",
      "metadata": {
        "id": "ftFR8PsbVOx0"
      },
      "source": [
        "mylist.insert(1, 100) #mylist.insert(인덱스번호, 넣을 값)"
      ],
      "execution_count": 30,
      "outputs": []
    },
    {
      "cell_type": "code",
      "metadata": {
        "id": "mT1vjQoQEytu",
        "colab": {
          "base_uri": "https://localhost:8080/"
        },
        "outputId": "5030ad52-17fc-4f8b-9cc2-e820f8c64049"
      },
      "source": [
        "mylist"
      ],
      "execution_count": 31,
      "outputs": [
        {
          "output_type": "execute_result",
          "data": {
            "text/plain": [
              "[1, 100, 6, 3, 2, 7, 5, 4]"
            ]
          },
          "metadata": {},
          "execution_count": 31
        }
      ]
    },
    {
      "cell_type": "markdown",
      "metadata": {
        "id": "twBqWxkQ2j27"
      },
      "source": [
        "### remove() : 값 제거"
      ]
    },
    {
      "cell_type": "markdown",
      "metadata": {
        "id": "GFSPMzGn2ngJ"
      },
      "source": [
        "리스트에서 첫 번째 나오는 해당 값 삭제"
      ]
    },
    {
      "cell_type": "code",
      "metadata": {
        "id": "Dx28A1GMFC4D"
      },
      "source": [
        "mylist = [1, 2, 3, 4, 7, 7, 7, 6, 5]"
      ],
      "execution_count": 32,
      "outputs": []
    },
    {
      "cell_type": "code",
      "metadata": {
        "id": "TsBOX9IHVRgU"
      },
      "source": [
        "mylist.remove(7) #값 중복 시, 맨 앞에서 만나는 값(=7)을 제거"
      ],
      "execution_count": 33,
      "outputs": []
    },
    {
      "cell_type": "code",
      "metadata": {
        "id": "2IqkZq9r2xr2",
        "colab": {
          "base_uri": "https://localhost:8080/"
        },
        "outputId": "e657ed69-c540-4f43-975d-1d5d829c0858"
      },
      "source": [
        "mylist"
      ],
      "execution_count": 34,
      "outputs": [
        {
          "output_type": "execute_result",
          "data": {
            "text/plain": [
              "[1, 2, 3, 4, 7, 7, 6, 5]"
            ]
          },
          "metadata": {},
          "execution_count": 34
        }
      ]
    },
    {
      "cell_type": "markdown",
      "metadata": {
        "id": "fDheQenM2yX3"
      },
      "source": [
        "### pop() : 요소 꺼내기"
      ]
    },
    {
      "cell_type": "markdown",
      "metadata": {
        "id": "Alg4teMF2_ym"
      },
      "source": [
        "x번째 요소를 돌려주고 해당 요소는 삭제"
      ]
    },
    {
      "cell_type": "code",
      "metadata": {
        "id": "kMKHxQhkFU91"
      },
      "source": [
        "mylist = [1, 2, 3, 4, 7, 7, 7, 6, 5]"
      ],
      "execution_count": 35,
      "outputs": []
    },
    {
      "cell_type": "code",
      "metadata": {
        "id": "HFTjI5LLFW0N",
        "colab": {
          "base_uri": "https://localhost:8080/"
        },
        "outputId": "b8e0c97b-34a7-4572-fd9a-32b37507a706"
      },
      "source": [
        "mylist"
      ],
      "execution_count": 36,
      "outputs": [
        {
          "output_type": "execute_result",
          "data": {
            "text/plain": [
              "[1, 2, 3, 4, 7, 7, 7, 6, 5]"
            ]
          },
          "metadata": {},
          "execution_count": 36
        }
      ]
    },
    {
      "cell_type": "code",
      "metadata": {
        "id": "SAnoxn-l2431",
        "colab": {
          "base_uri": "https://localhost:8080/"
        },
        "outputId": "325178b9-d046-463e-dadd-55267680a3be"
      },
      "source": [
        "mylist.pop(1)"
      ],
      "execution_count": 37,
      "outputs": [
        {
          "output_type": "execute_result",
          "data": {
            "text/plain": [
              "2"
            ]
          },
          "metadata": {},
          "execution_count": 37
        }
      ]
    },
    {
      "cell_type": "code",
      "metadata": {
        "id": "kETiPBoBFiYk",
        "colab": {
          "base_uri": "https://localhost:8080/"
        },
        "outputId": "15e77c6c-4b7a-4ee5-bddb-8af8ae46b12b"
      },
      "source": [
        "mylist"
      ],
      "execution_count": 38,
      "outputs": [
        {
          "output_type": "execute_result",
          "data": {
            "text/plain": [
              "[1, 3, 4, 7, 7, 7, 6, 5]"
            ]
          },
          "metadata": {},
          "execution_count": 38
        }
      ]
    },
    {
      "cell_type": "markdown",
      "metadata": {
        "id": "V0N1pvlhcgXE"
      },
      "source": [
        "### del : 요소 삭제"
      ]
    },
    {
      "cell_type": "code",
      "metadata": {
        "id": "QrLwP1wLcgXE",
        "colab": {
          "base_uri": "https://localhost:8080/"
        },
        "outputId": "de5bc217-36c2-4744-b06c-c9cf4a3e3d1d"
      },
      "source": [
        "mylist = [100, 200, 300, 400, 500]\n",
        "\n",
        "del mylist[1]\n",
        "print(mylist) # [100, 300, 400, 500]\n",
        "\n",
        "del mylist[3]\n",
        "print(mylist) # [100, 300, 400]"
      ],
      "execution_count": 39,
      "outputs": [
        {
          "output_type": "stream",
          "name": "stdout",
          "text": [
            "[100, 300, 400, 500]\n",
            "[100, 300, 400]\n"
          ]
        }
      ]
    },
    {
      "cell_type": "markdown",
      "metadata": {
        "id": "uz1LiSBZ3F0C"
      },
      "source": [
        "### count() : 갯수 세기"
      ]
    },
    {
      "cell_type": "code",
      "metadata": {
        "id": "XAI1jJ6d3Lp7"
      },
      "source": [
        "a = [1, 1, 1, 1, 1, 2, 2, 3]"
      ],
      "execution_count": 40,
      "outputs": []
    },
    {
      "cell_type": "code",
      "metadata": {
        "id": "3nfuqjHB3Ojs",
        "colab": {
          "base_uri": "https://localhost:8080/"
        },
        "outputId": "165fc1ab-e8ac-4d2f-e5e3-9d6312f4328b"
      },
      "source": [
        "a.count(1) # a의 요소 중 1의 갯수"
      ],
      "execution_count": 41,
      "outputs": [
        {
          "output_type": "execute_result",
          "data": {
            "text/plain": [
              "5"
            ]
          },
          "metadata": {},
          "execution_count": 41
        }
      ]
    },
    {
      "cell_type": "code",
      "metadata": {
        "id": "oJHVq8ev3P0_",
        "colab": {
          "base_uri": "https://localhost:8080/"
        },
        "outputId": "d578730e-b154-4c89-aea8-94b02fba7dd1"
      },
      "source": [
        "a.count(2) # a의 요소 중 2의 갯수"
      ],
      "execution_count": 42,
      "outputs": [
        {
          "output_type": "execute_result",
          "data": {
            "text/plain": [
              "2"
            ]
          },
          "metadata": {},
          "execution_count": 42
        }
      ]
    },
    {
      "cell_type": "code",
      "metadata": {
        "id": "jEoHgBm_3S5R",
        "colab": {
          "base_uri": "https://localhost:8080/"
        },
        "outputId": "d4b7d5b6-6551-4938-d3dc-c25b123583b2"
      },
      "source": [
        "a.count(5) # a의 요소 중 5의 갯수"
      ],
      "execution_count": 43,
      "outputs": [
        {
          "output_type": "execute_result",
          "data": {
            "text/plain": [
              "0"
            ]
          },
          "metadata": {},
          "execution_count": 43
        }
      ]
    },
    {
      "cell_type": "markdown",
      "metadata": {
        "id": "t2s6BnF_3W04"
      },
      "source": [
        "### extend() : 리스트 확장"
      ]
    },
    {
      "cell_type": "code",
      "metadata": {
        "id": "h9U2co-U3Ww1"
      },
      "source": [
        "a = [1, 2, 3]"
      ],
      "execution_count": 46,
      "outputs": []
    },
    {
      "cell_type": "code",
      "metadata": {
        "id": "89lby2th3cn0"
      },
      "source": [
        "a.extend([4, 5])"
      ],
      "execution_count": 47,
      "outputs": []
    },
    {
      "cell_type": "code",
      "metadata": {
        "id": "l72yuhjZ3Wri",
        "colab": {
          "base_uri": "https://localhost:8080/"
        },
        "outputId": "4520d156-fd20-4b9f-9e2f-593432eaf02c"
      },
      "source": [
        "a"
      ],
      "execution_count": 48,
      "outputs": [
        {
          "output_type": "execute_result",
          "data": {
            "text/plain": [
              "[1, 2, 3, 4, 5]"
            ]
          },
          "metadata": {},
          "execution_count": 48
        }
      ]
    },
    {
      "cell_type": "markdown",
      "metadata": {
        "id": "zYV3BI4zcgXG"
      },
      "source": [
        "`+` 연산자는 extend()와 동일한 기능을 수행합니다."
      ]
    },
    {
      "cell_type": "code",
      "metadata": {
        "id": "INJ26oUKcgXG",
        "colab": {
          "base_uri": "https://localhost:8080/"
        },
        "outputId": "47b60462-db7c-458c-ec1c-7be297bfaa3c"
      },
      "source": [
        "a = [1, 2, 3]\n",
        "a + [4, 5]"
      ],
      "execution_count": 49,
      "outputs": [
        {
          "output_type": "execute_result",
          "data": {
            "text/plain": [
              "[1, 2, 3, 4, 5]"
            ]
          },
          "metadata": {},
          "execution_count": 49
        }
      ]
    },
    {
      "cell_type": "markdown",
      "metadata": {
        "id": "fMAdPD_zkFZm"
      },
      "source": [
        "### 연습문제"
      ]
    },
    {
      "cell_type": "code",
      "metadata": {
        "id": "Kh3ZEKT0kIqA"
      },
      "source": [
        "movie = ['어벤져스', '아이언맨', '토르', '스파이더맨']"
      ],
      "execution_count": 56,
      "outputs": []
    },
    {
      "cell_type": "markdown",
      "metadata": {
        "id": "tyOTHPsMkzCo"
      },
      "source": [
        "`movie`에 맨 끝에 `엑스맨` 을 추가하세요."
      ]
    },
    {
      "cell_type": "code",
      "metadata": {
        "id": "PKEtjNIvlBek"
      },
      "source": [
        "# 코드를 입력해 주세요\n",
        "movie.append('엑스맨')\n",
        "movie"
      ],
      "execution_count": 58,
      "outputs": []
    },
    {
      "cell_type": "markdown",
      "metadata": {
        "id": "IYdeyJyPcgXH"
      },
      "source": [
        "<p><strong>[출력 결과]</strong></p><pre>['어벤져스', '아이언맨', '토르', '스파이더맨', '엑스맨']</pre>"
      ]
    },
    {
      "cell_type": "markdown",
      "metadata": {
        "id": "iel_W4C6ofKa"
      },
      "source": [
        "`movie`의 1번 index에 `데드풀`을 추가하세요"
      ]
    },
    {
      "cell_type": "code",
      "metadata": {
        "id": "yGyNESOdorFN",
        "colab": {
          "base_uri": "https://localhost:8080/"
        },
        "outputId": "a6e2f519-10b1-4732-99fb-f3cdd0ed1531"
      },
      "source": [
        "# 코드를 입력해 주세요\n",
        "movie.insert(1, '데드풀')\n",
        "movie\n"
      ],
      "execution_count": 60,
      "outputs": [
        {
          "output_type": "execute_result",
          "data": {
            "text/plain": [
              "['어벤져스', '데드풀', '아이언맨', '토르', '스파이더맨', '엑스맨']"
            ]
          },
          "metadata": {},
          "execution_count": 60
        }
      ]
    },
    {
      "cell_type": "markdown",
      "metadata": {
        "id": "-M36NN9VcgXH"
      },
      "source": [
        "<p><strong>[출력 결과]</strong></p><pre>['어벤져스', '데드풀', '아이언맨', '토르', '스파이더맨', '엑스맨']</pre>"
      ]
    },
    {
      "cell_type": "markdown",
      "metadata": {
        "id": "SyMuSUDFlICP"
      },
      "source": [
        "`movie`에서 `아이언맨`을 삭제 하세요.\n",
        "\n",
        "- remove() 사용"
      ]
    },
    {
      "cell_type": "code",
      "metadata": {
        "id": "y95NJRYSlQJb",
        "colab": {
          "base_uri": "https://localhost:8080/"
        },
        "outputId": "35e8024e-7454-4844-a42b-badc56dcf1c2"
      },
      "source": [
        "# 코드를 입력해 주세요\n",
        "movie.remove('아이언맨')\n",
        "movie"
      ],
      "execution_count": 61,
      "outputs": [
        {
          "output_type": "execute_result",
          "data": {
            "text/plain": [
              "['어벤져스', '데드풀', '토르', '스파이더맨', '엑스맨']"
            ]
          },
          "metadata": {},
          "execution_count": 61
        }
      ]
    },
    {
      "cell_type": "markdown",
      "metadata": {
        "id": "6gPuUw05cgXH"
      },
      "source": [
        "<p><strong>[출력 결과]</strong></p><pre>['어벤져스', '데드풀', '토르', '스파이더맨', '엑스맨']</pre>"
      ]
    },
    {
      "cell_type": "markdown",
      "metadata": {
        "id": "iL1uUEihcgXI"
      },
      "source": [
        "`movie`에서 1번째 index를 삭제하세요"
      ]
    },
    {
      "cell_type": "code",
      "metadata": {
        "id": "qwkIw2cgcgXI",
        "colab": {
          "base_uri": "https://localhost:8080/"
        },
        "outputId": "e3d54ccc-e056-45ce-c30d-ae94905f3870"
      },
      "source": [
        "# 코드를 입력해 주세요\n",
        "movie\n",
        "del movie[1]\n",
        "movie\n"
      ],
      "execution_count": 66,
      "outputs": [
        {
          "output_type": "execute_result",
          "data": {
            "text/plain": [
              "['어벤져스', '토르', '스파이더맨', '엑스맨']"
            ]
          },
          "metadata": {},
          "execution_count": 66
        }
      ]
    },
    {
      "cell_type": "markdown",
      "metadata": {
        "id": "tTQQ1qwccgXI"
      },
      "source": [
        "<p><strong>[출력 결과]</strong></p><pre>['어벤져스', '토르', '스파이더맨', '엑스맨']</pre>"
      ]
    },
    {
      "cell_type": "code",
      "metadata": {
        "id": "6aQemYcxcgXI"
      },
      "source": [
        "kr_movie = ['승리호', '신세계', '타짜']"
      ],
      "execution_count": 68,
      "outputs": []
    },
    {
      "cell_type": "markdown",
      "metadata": {
        "id": "T4D9uE4EcgXI"
      },
      "source": [
        "`kr_movie`를 `movie`에 추가해 주세요"
      ]
    },
    {
      "cell_type": "code",
      "metadata": {
        "id": "-rMGPjTIcgXI",
        "colab": {
          "base_uri": "https://localhost:8080/"
        },
        "outputId": "6bc30795-ee76-4ab0-ddb4-1bf2fd4252fd"
      },
      "source": [
        "# 코드를 입력해 주세요\n",
        "movie.extend(kr_movie)\n",
        "movie"
      ],
      "execution_count": 69,
      "outputs": [
        {
          "output_type": "execute_result",
          "data": {
            "text/plain": [
              "['어벤져스', '토르', '스파이더맨', '엑스맨', '승리호', '신세계', '타짜']"
            ]
          },
          "metadata": {},
          "execution_count": 69
        }
      ]
    },
    {
      "cell_type": "markdown",
      "metadata": {
        "id": "_X_rL5kXcgXJ"
      },
      "source": [
        "<p><strong>[출력 결과]</strong></p><pre>['어벤져스', '토르', '스파이더맨', '엑스맨', '승리호', '신세계', '타짜']</pre>"
      ]
    },
    {
      "cell_type": "markdown",
      "metadata": {
        "id": "oykgqKmgcgXJ"
      },
      "source": [
        "`movie`를 가나다 순으로 정렬하세요"
      ]
    },
    {
      "cell_type": "code",
      "metadata": {
        "id": "VzlmuxO2cgXJ",
        "colab": {
          "base_uri": "https://localhost:8080/"
        },
        "outputId": "38904afa-c05c-4708-84e8-2908d280d66d"
      },
      "source": [
        "# 코드를 입력해 주세요\n",
        "movie.sort()\n",
        "movie"
      ],
      "execution_count": 71,
      "outputs": [
        {
          "output_type": "execute_result",
          "data": {
            "text/plain": [
              "['스파이더맨', '승리호', '신세계', '어벤져스', '엑스맨', '타짜', '토르']"
            ]
          },
          "metadata": {},
          "execution_count": 71
        }
      ]
    },
    {
      "cell_type": "markdown",
      "metadata": {
        "id": "nxA8-WMDcgXJ"
      },
      "source": [
        "<p><strong>[출력 결과]</strong></p><pre>['스파이더맨', '승리호', '신세계', '어벤져스', '엑스맨', '타짜', '토르']</pre>"
      ]
    },
    {
      "cell_type": "markdown",
      "metadata": {
        "id": "k0w9nYxPWSNO"
      },
      "source": [
        "### 인덱싱(indexing): 색인"
      ]
    },
    {
      "cell_type": "code",
      "metadata": {
        "id": "qY6rAQpWW5Pr"
      },
      "source": [
        "mylist = [1, 2, 3, 4]"
      ],
      "execution_count": 72,
      "outputs": []
    },
    {
      "cell_type": "markdown",
      "metadata": {
        "id": "l9ad4C1XW9KE"
      },
      "source": [
        "인덱스는 **0번 부터 시작** 합니다."
      ]
    },
    {
      "cell_type": "code",
      "metadata": {
        "id": "nxGtMBuUWSXd",
        "colab": {
          "base_uri": "https://localhost:8080/"
        },
        "outputId": "21579577-8ae5-434e-fa07-8fb85c954754"
      },
      "source": [
        "mylist[0]"
      ],
      "execution_count": 73,
      "outputs": [
        {
          "output_type": "execute_result",
          "data": {
            "text/plain": [
              "1"
            ]
          },
          "metadata": {},
          "execution_count": 73
        }
      ]
    },
    {
      "cell_type": "code",
      "metadata": {
        "id": "bQQaTXemXDk-",
        "colab": {
          "base_uri": "https://localhost:8080/"
        },
        "outputId": "f28bbe0c-0e71-498c-c351-73b67e3587c6"
      },
      "source": [
        "mylist[3]"
      ],
      "execution_count": 74,
      "outputs": [
        {
          "output_type": "execute_result",
          "data": {
            "text/plain": [
              "4"
            ]
          },
          "metadata": {},
          "execution_count": 74
        }
      ]
    },
    {
      "cell_type": "code",
      "metadata": {
        "id": "GtO0YS9HXDe7",
        "colab": {
          "base_uri": "https://localhost:8080/",
          "height": 178
        },
        "outputId": "a526748d-4148-4a29-daad-c8adba2a70ca"
      },
      "source": [
        "mylist[4] #에러 발생"
      ],
      "execution_count": 75,
      "outputs": [
        {
          "output_type": "error",
          "ename": "IndexError",
          "evalue": "ignored",
          "traceback": [
            "\u001b[0;31m---------------------------------------------------------------------------\u001b[0m",
            "\u001b[0;31mIndexError\u001b[0m                                Traceback (most recent call last)",
            "\u001b[0;32m<ipython-input-75-3580fcf272d1>\u001b[0m in \u001b[0;36m<cell line: 1>\u001b[0;34m()\u001b[0m\n\u001b[0;32m----> 1\u001b[0;31m \u001b[0mmylist\u001b[0m\u001b[0;34m[\u001b[0m\u001b[0;36m4\u001b[0m\u001b[0;34m]\u001b[0m \u001b[0;31m#에러 발생\u001b[0m\u001b[0;34m\u001b[0m\u001b[0;34m\u001b[0m\u001b[0m\n\u001b[0m",
            "\u001b[0;31mIndexError\u001b[0m: list index out of range"
          ]
        }
      ]
    },
    {
      "cell_type": "markdown",
      "metadata": {
        "id": "gx3q3lpGBfI2"
      },
      "source": [
        "### 역순 인덱싱\n",
        "\n",
        "파이썬은 음수 인덱싱을 지원합니다."
      ]
    },
    {
      "cell_type": "code",
      "metadata": {
        "id": "jJbfxm9TKRMJ",
        "colab": {
          "base_uri": "https://localhost:8080/"
        },
        "outputId": "36f79564-2249-4bf4-ef23-bc34030b0f7b"
      },
      "source": [
        "mylist #[-4, -3, -2 , -1]"
      ],
      "execution_count": 76,
      "outputs": [
        {
          "output_type": "execute_result",
          "data": {
            "text/plain": [
              "[1, 2, 3, 4]"
            ]
          },
          "metadata": {},
          "execution_count": 76
        }
      ]
    },
    {
      "cell_type": "code",
      "metadata": {
        "id": "OPtminJaBZCg",
        "colab": {
          "base_uri": "https://localhost:8080/"
        },
        "outputId": "69629ad5-08c8-4413-da41-1c4f73cd55ee"
      },
      "source": [
        "mylist[-1]"
      ],
      "execution_count": 77,
      "outputs": [
        {
          "output_type": "execute_result",
          "data": {
            "text/plain": [
              "4"
            ]
          },
          "metadata": {},
          "execution_count": 77
        }
      ]
    },
    {
      "cell_type": "code",
      "metadata": {
        "id": "PuCoYHPEBbve",
        "colab": {
          "base_uri": "https://localhost:8080/"
        },
        "outputId": "2639648f-e6ab-4cfe-ecd4-41fe7511f4dc"
      },
      "source": [
        "mylist[-3]"
      ],
      "execution_count": 78,
      "outputs": [
        {
          "output_type": "execute_result",
          "data": {
            "text/plain": [
              "2"
            ]
          },
          "metadata": {},
          "execution_count": 78
        }
      ]
    },
    {
      "cell_type": "code",
      "metadata": {
        "id": "dvsC2y9hXDYq",
        "colab": {
          "base_uri": "https://localhost:8080/",
          "height": 178
        },
        "outputId": "54b1da35-894f-492a-d795-16570d87cda1"
      },
      "source": [
        "mylist[-5] #에러발생"
      ],
      "execution_count": 79,
      "outputs": [
        {
          "output_type": "error",
          "ename": "IndexError",
          "evalue": "ignored",
          "traceback": [
            "\u001b[0;31m---------------------------------------------------------------------------\u001b[0m",
            "\u001b[0;31mIndexError\u001b[0m                                Traceback (most recent call last)",
            "\u001b[0;32m<ipython-input-79-7f152f66d2d3>\u001b[0m in \u001b[0;36m<cell line: 1>\u001b[0;34m()\u001b[0m\n\u001b[0;32m----> 1\u001b[0;31m \u001b[0mmylist\u001b[0m\u001b[0;34m[\u001b[0m\u001b[0;34m-\u001b[0m\u001b[0;36m5\u001b[0m\u001b[0;34m]\u001b[0m\u001b[0;34m\u001b[0m\u001b[0;34m\u001b[0m\u001b[0m\n\u001b[0m",
            "\u001b[0;31mIndexError\u001b[0m: list index out of range"
          ]
        }
      ]
    },
    {
      "cell_type": "markdown",
      "metadata": {
        "id": "TZEqteGEXtJZ"
      },
      "source": [
        "### 인덱스로 접근하여 값 바꾸기"
      ]
    },
    {
      "cell_type": "code",
      "metadata": {
        "id": "WndBOK7DXwqk",
        "colab": {
          "base_uri": "https://localhost:8080/"
        },
        "outputId": "d846bddc-2984-46ea-fc6d-be8c97789008"
      },
      "source": [
        "mylist = [1, 2, 3, 4, 5]\n",
        "mylist"
      ],
      "execution_count": 80,
      "outputs": [
        {
          "output_type": "execute_result",
          "data": {
            "text/plain": [
              "[1, 2, 3, 4, 5]"
            ]
          },
          "metadata": {},
          "execution_count": 80
        }
      ]
    },
    {
      "cell_type": "code",
      "metadata": {
        "id": "qVZF6qydXyQa",
        "colab": {
          "base_uri": "https://localhost:8080/"
        },
        "outputId": "edf2f081-04ab-4811-abb3-21d093fe1c9f"
      },
      "source": [
        "mylist[0]"
      ],
      "execution_count": 81,
      "outputs": [
        {
          "output_type": "execute_result",
          "data": {
            "text/plain": [
              "1"
            ]
          },
          "metadata": {},
          "execution_count": 81
        }
      ]
    },
    {
      "cell_type": "code",
      "metadata": {
        "id": "0CUByTZgX1yF"
      },
      "source": [
        "mylist[0] = 100"
      ],
      "execution_count": 82,
      "outputs": []
    },
    {
      "cell_type": "code",
      "metadata": {
        "id": "p841RzROX4C4",
        "colab": {
          "base_uri": "https://localhost:8080/"
        },
        "outputId": "3d381456-ec95-406d-e344-ba7a35728bae"
      },
      "source": [
        "mylist"
      ],
      "execution_count": 83,
      "outputs": [
        {
          "output_type": "execute_result",
          "data": {
            "text/plain": [
              "[100, 2, 3, 4, 5]"
            ]
          },
          "metadata": {},
          "execution_count": 83
        }
      ]
    },
    {
      "cell_type": "code",
      "metadata": {
        "id": "O_VdrWZCBxiT"
      },
      "source": [
        "mylist[-1] = 300"
      ],
      "execution_count": 84,
      "outputs": []
    },
    {
      "cell_type": "code",
      "metadata": {
        "id": "kLL0oa0GB0D9",
        "colab": {
          "base_uri": "https://localhost:8080/"
        },
        "outputId": "7e2404d2-4a8b-481d-80b3-7b1ed13db956"
      },
      "source": [
        "mylist"
      ],
      "execution_count": 85,
      "outputs": [
        {
          "output_type": "execute_result",
          "data": {
            "text/plain": [
              "[100, 2, 3, 4, 300]"
            ]
          },
          "metadata": {},
          "execution_count": 85
        }
      ]
    },
    {
      "cell_type": "markdown",
      "metadata": {
        "id": "oMoED0ZjCiuJ"
      },
      "source": [
        "### 중첩된 리스트 인덱싱\n",
        "\n",
        "중첩된 리스트에 대한 리스트는 중첩 인덱싱으로 접근합니다. 값을 변경하는 것도 가능합니다."
      ]
    },
    {
      "cell_type": "code",
      "metadata": {
        "id": "7zq8_J2VCk1K"
      },
      "source": [
        "mylist = [['가', '나', '다'], [4, 5, 6], 7, 8, 9]"
      ],
      "execution_count": 86,
      "outputs": []
    },
    {
      "cell_type": "code",
      "metadata": {
        "id": "atfiWonnCps3",
        "colab": {
          "base_uri": "https://localhost:8080/"
        },
        "outputId": "821f448a-f221-4902-bbc2-05ba0f1ae267"
      },
      "source": [
        "mylist"
      ],
      "execution_count": 87,
      "outputs": [
        {
          "output_type": "execute_result",
          "data": {
            "text/plain": [
              "[['가', '나', '다'], [4, 5, 6], 7, 8, 9]"
            ]
          },
          "metadata": {},
          "execution_count": 87
        }
      ]
    },
    {
      "cell_type": "markdown",
      "metadata": {
        "id": "A_B6DNx0cgXM"
      },
      "source": [
        "1 번째 리스트 요소를 가져옵니다."
      ]
    },
    {
      "cell_type": "code",
      "metadata": {
        "id": "yaa8MwGFCydQ",
        "colab": {
          "base_uri": "https://localhost:8080/"
        },
        "outputId": "e7275a4b-6f49-47d4-d2c9-1feecd07bd4f"
      },
      "source": [
        "mylist[1] #[4, 5, 6]"
      ],
      "execution_count": 88,
      "outputs": [
        {
          "output_type": "execute_result",
          "data": {
            "text/plain": [
              "[4, 5, 6]"
            ]
          },
          "metadata": {},
          "execution_count": 88
        }
      ]
    },
    {
      "cell_type": "markdown",
      "metadata": {
        "id": "ijnFOY_FcgXM"
      },
      "source": [
        "1번째 리스트의 요소 중 1번째 요소를 가져오기 위해서는 중첩 인덱싱으로 접근합니다."
      ]
    },
    {
      "cell_type": "code",
      "metadata": {
        "id": "MeunbeUJCqwG",
        "colab": {
          "base_uri": "https://localhost:8080/"
        },
        "outputId": "b0cba1ec-ea89-47ba-f2c2-656ed024349c"
      },
      "source": [
        "mylist[1][1] # 5"
      ],
      "execution_count": 89,
      "outputs": [
        {
          "output_type": "execute_result",
          "data": {
            "text/plain": [
              "5"
            ]
          },
          "metadata": {},
          "execution_count": 89
        }
      ]
    },
    {
      "cell_type": "code",
      "metadata": {
        "id": "eJ2WkRQHcgXN"
      },
      "source": [
        "mylist[1][1] = 99"
      ],
      "execution_count": 90,
      "outputs": []
    },
    {
      "cell_type": "code",
      "metadata": {
        "id": "svKqsaMAcgXN",
        "colab": {
          "base_uri": "https://localhost:8080/"
        },
        "outputId": "9f87e2df-114b-4c4b-e1cc-be8189b7065b"
      },
      "source": [
        "mylist"
      ],
      "execution_count": 91,
      "outputs": [
        {
          "output_type": "execute_result",
          "data": {
            "text/plain": [
              "[['가', '나', '다'], [4, 99, 6], 7, 8, 9]"
            ]
          },
          "metadata": {},
          "execution_count": 91
        }
      ]
    },
    {
      "cell_type": "markdown",
      "metadata": {
        "id": "Lk3yqujcB17e"
      },
      "source": [
        "### 슬라이싱(Slicing): 범위 추출\n",
        "\n",
        "- 슬라이싱의 활용: [start:stop:step] 을 명시하여 부분을 추출할 수 있습니다."
      ]
    },
    {
      "cell_type": "code",
      "metadata": {
        "id": "Lt-oJ8cyB8cg"
      },
      "source": [
        "mylist = [100, 200, 300, 400, 500]"
      ],
      "execution_count": null,
      "outputs": []
    },
    {
      "cell_type": "markdown",
      "metadata": {
        "id": "3uetfPWRcgXN"
      },
      "source": [
        "[:]을 활용하여 전체를 추출할 수 있습니다."
      ]
    },
    {
      "cell_type": "code",
      "metadata": {
        "id": "LlxZGt5ScgXN",
        "colab": {
          "base_uri": "https://localhost:8080/"
        },
        "outputId": "35e0a198-c751-40a6-a150-adfc363b2ab3"
      },
      "source": [
        "mylist[:]"
      ],
      "execution_count": 92,
      "outputs": [
        {
          "output_type": "execute_result",
          "data": {
            "text/plain": [
              "[['가', '나', '다'], [4, 99, 6], 7, 8, 9]"
            ]
          },
          "metadata": {},
          "execution_count": 92
        }
      ]
    },
    {
      "cell_type": "markdown",
      "metadata": {
        "id": "ZZUcYYADcgXO"
      },
      "source": [
        "[start:]는 시작 index 부터 끝까지 추출합니다."
      ]
    },
    {
      "cell_type": "code",
      "metadata": {
        "id": "d_gcUsl-cgXO",
        "colab": {
          "base_uri": "https://localhost:8080/"
        },
        "outputId": "adece7b8-651e-4e1c-b534-03786a9257db"
      },
      "source": [
        "mylist[2:]"
      ],
      "execution_count": 93,
      "outputs": [
        {
          "output_type": "execute_result",
          "data": {
            "text/plain": [
              "[7, 8, 9]"
            ]
          },
          "metadata": {},
          "execution_count": 93
        }
      ]
    },
    {
      "cell_type": "code",
      "metadata": {
        "id": "gj-I9-Y8cgXO",
        "colab": {
          "base_uri": "https://localhost:8080/"
        },
        "outputId": "6552207e-d926-4ba5-8929-0a4f7ff79dea"
      },
      "source": [
        "mylist[-3:]"
      ],
      "execution_count": 94,
      "outputs": [
        {
          "output_type": "execute_result",
          "data": {
            "text/plain": [
              "[7, 8, 9]"
            ]
          },
          "metadata": {},
          "execution_count": 94
        }
      ]
    },
    {
      "cell_type": "markdown",
      "metadata": {
        "id": "ortJeJu2cgXO"
      },
      "source": [
        "[:end]는 처음부터 end 전까지 추출합니다."
      ]
    },
    {
      "cell_type": "code",
      "metadata": {
        "id": "YetcbGj3cgXO"
      },
      "source": [
        "mylist[:3] # 0, 1, 2 번째 까지만 추출한다는 뜻"
      ],
      "execution_count": null,
      "outputs": []
    },
    {
      "cell_type": "markdown",
      "metadata": {
        "id": "CYTO8yWucgXP"
      },
      "source": [
        "[start:end]는 start부터 end 전까지 추출합니다."
      ]
    },
    {
      "cell_type": "code",
      "metadata": {
        "id": "rav_w8CYB5Pn"
      },
      "source": [
        "mylist[1:3]"
      ],
      "execution_count": null,
      "outputs": []
    },
    {
      "cell_type": "code",
      "metadata": {
        "id": "1VfFQEdMB7Kc"
      },
      "source": [
        "mylist[-3: -1]"
      ],
      "execution_count": null,
      "outputs": []
    },
    {
      "cell_type": "markdown",
      "metadata": {
        "id": "Opa0KIuJcgXP"
      },
      "source": [
        "## 연습문제"
      ]
    },
    {
      "cell_type": "code",
      "metadata": {
        "id": "vZtzFJtOlQGA"
      },
      "source": [
        "fruit = ['사과', '바나나', '파인애플', '배', '수박', '키위', '오렌지', '망고', '딸기']"
      ],
      "execution_count": 98,
      "outputs": []
    },
    {
      "cell_type": "markdown",
      "metadata": {
        "id": "ZO9-b0FXlQB_"
      },
      "source": [
        "list **인덱싱** & **슬라이싱**을 사용하여 다음과 같이 출력 하세요"
      ]
    },
    {
      "cell_type": "code",
      "metadata": {
        "id": "ag-1JlpllPyM",
        "colab": {
          "base_uri": "https://localhost:8080/"
        },
        "outputId": "e653b140-a6b4-4da6-8e77-66ee95ba4647"
      },
      "source": [
        "# 코드를 입력해 주세요\n",
        "fruit[2:5]"
      ],
      "execution_count": 100,
      "outputs": [
        {
          "output_type": "execute_result",
          "data": {
            "text/plain": [
              "['파인애플', '배', '수박']"
            ]
          },
          "metadata": {},
          "execution_count": 100
        }
      ]
    },
    {
      "cell_type": "markdown",
      "metadata": {
        "id": "UEzyWXpUcgXQ"
      },
      "source": [
        "<p><strong>[출력 결과]</strong></p><pre>['파인애플', '배', '수박']</pre>"
      ]
    },
    {
      "cell_type": "code",
      "metadata": {
        "id": "0LRqKruin8YG",
        "colab": {
          "base_uri": "https://localhost:8080/"
        },
        "outputId": "5270d384-7e42-4a91-9126-7969976d82f4"
      },
      "source": [
        "# 코드를 입력해 주세요\n",
        "fruit[-2:]"
      ],
      "execution_count": 101,
      "outputs": [
        {
          "output_type": "execute_result",
          "data": {
            "text/plain": [
              "['망고', '딸기']"
            ]
          },
          "metadata": {},
          "execution_count": 101
        }
      ]
    },
    {
      "cell_type": "markdown",
      "metadata": {
        "id": "AZjXRFb9cgXQ"
      },
      "source": [
        "<p><strong>[출력 결과]</strong></p><pre>['망고', '딸기']</pre>"
      ]
    },
    {
      "cell_type": "code",
      "metadata": {
        "id": "M2FntdLxoCN4",
        "colab": {
          "base_uri": "https://localhost:8080/"
        },
        "outputId": "89730a5c-ff51-43a9-9a22-a93505d652b2"
      },
      "source": [
        "# 코드를 입력해 주세요\n",
        "fruit[0:3]"
      ],
      "execution_count": 102,
      "outputs": [
        {
          "output_type": "execute_result",
          "data": {
            "text/plain": [
              "['사과', '바나나', '파인애플']"
            ]
          },
          "metadata": {},
          "execution_count": 102
        }
      ]
    },
    {
      "cell_type": "markdown",
      "metadata": {
        "id": "DBG4Ck9mcgXQ"
      },
      "source": [
        "<p><strong>[출력 결과]</strong></p><pre>['사과', '바나나', '파인애플']</pre>"
      ]
    },
    {
      "cell_type": "code",
      "metadata": {
        "id": "8tdoEreLoC7Y",
        "colab": {
          "base_uri": "https://localhost:8080/"
        },
        "outputId": "1378ee93-8c8e-43ba-e236-ae2372cf62b1"
      },
      "source": [
        "# 코드를 입력해 주세요\n",
        "fruit[3:]"
      ],
      "execution_count": 103,
      "outputs": [
        {
          "output_type": "execute_result",
          "data": {
            "text/plain": [
              "['배', '수박', '키위', '오렌지', '망고', '딸기']"
            ]
          },
          "metadata": {},
          "execution_count": 103
        }
      ]
    },
    {
      "cell_type": "markdown",
      "metadata": {
        "id": "uYLnKSHvcgXR"
      },
      "source": [
        "<p><strong>[출력 결과]</strong></p><pre>['배', '수박', '키위', '오렌지', '망고', '딸기']</pre>"
      ]
    },
    {
      "cell_type": "markdown",
      "metadata": {
        "id": "yW2psuKpcgXR"
      },
      "source": [
        "## indexing 에 step 활용하기\n",
        "\n",
        "list[start:stop:step]\n",
        "\n",
        "- step은 몇 칸씩 건너 뛰는지 지정합니다."
      ]
    },
    {
      "cell_type": "code",
      "metadata": {
        "id": "9rOT3phDcgXR"
      },
      "source": [
        "mylist = [100, 200, 300, 400, 500]"
      ],
      "execution_count": 104,
      "outputs": []
    },
    {
      "cell_type": "markdown",
      "metadata": {
        "id": "g1WagDZIcgXR"
      },
      "source": [
        "**2칸**씩 건너뛰기"
      ]
    },
    {
      "cell_type": "code",
      "metadata": {
        "id": "D4g325mkcgXR",
        "colab": {
          "base_uri": "https://localhost:8080/"
        },
        "outputId": "8557f550-5994-41a4-cb1c-c375d85d7a77"
      },
      "source": [
        "mylist[::2] #0번째 리스트부터 2칸씩 건너뛰기"
      ],
      "execution_count": 105,
      "outputs": [
        {
          "output_type": "execute_result",
          "data": {
            "text/plain": [
              "[100, 300, 500]"
            ]
          },
          "metadata": {},
          "execution_count": 105
        }
      ]
    },
    {
      "cell_type": "markdown",
      "metadata": {
        "id": "d8PbS7H_cgXR"
      },
      "source": [
        "**역순** 출력"
      ]
    },
    {
      "cell_type": "code",
      "metadata": {
        "id": "gLiZA4VEcgXU",
        "colab": {
          "base_uri": "https://localhost:8080/"
        },
        "outputId": "77b2337a-b246-42a0-8d3b-e5870edcfa76"
      },
      "source": [
        "mylist[::-1]"
      ],
      "execution_count": 106,
      "outputs": [
        {
          "output_type": "execute_result",
          "data": {
            "text/plain": [
              "[500, 400, 300, 200, 100]"
            ]
          },
          "metadata": {},
          "execution_count": 106
        }
      ]
    },
    {
      "cell_type": "markdown",
      "metadata": {
        "id": "PTCF7gc6cgXV"
      },
      "source": [
        "역순 그리고 **2칸씩** 건너뛰기"
      ]
    },
    {
      "cell_type": "code",
      "metadata": {
        "id": "EHWHi-3tcgXV",
        "colab": {
          "base_uri": "https://localhost:8080/"
        },
        "outputId": "8f9cf5eb-f278-4a2e-f8d3-e69212586ff5"
      },
      "source": [
        "mylist[::-2]"
      ],
      "execution_count": 107,
      "outputs": [
        {
          "output_type": "execute_result",
          "data": {
            "text/plain": [
              "[500, 300, 100]"
            ]
          },
          "metadata": {},
          "execution_count": 107
        }
      ]
    },
    {
      "cell_type": "code",
      "metadata": {
        "id": "30jcpRxINKBM",
        "colab": {
          "base_uri": "https://localhost:8080/"
        },
        "outputId": "f32027b4-b28a-4719-b9ae-09a86e8c48fc"
      },
      "source": [
        "mylist"
      ],
      "execution_count": 108,
      "outputs": [
        {
          "output_type": "execute_result",
          "data": {
            "text/plain": [
              "[100, 200, 300, 400, 500]"
            ]
          },
          "metadata": {},
          "execution_count": 108
        }
      ]
    },
    {
      "cell_type": "code",
      "metadata": {
        "id": "U_ntjhL8NEA4",
        "colab": {
          "base_uri": "https://localhost:8080/"
        },
        "outputId": "ba270458-fbec-4998-9c9a-4ad6562c7500"
      },
      "source": [
        "mylist[1::2]"
      ],
      "execution_count": 109,
      "outputs": [
        {
          "output_type": "execute_result",
          "data": {
            "text/plain": [
              "[200, 400]"
            ]
          },
          "metadata": {},
          "execution_count": 109
        }
      ]
    },
    {
      "cell_type": "code",
      "metadata": {
        "id": "Cvi-e1PKNLz_",
        "colab": {
          "base_uri": "https://localhost:8080/"
        },
        "outputId": "732bd9c8-97ba-4806-f5ea-a4570eb3c63b"
      },
      "source": [
        "mylist[-2::-2]"
      ],
      "execution_count": 110,
      "outputs": [
        {
          "output_type": "execute_result",
          "data": {
            "text/plain": [
              "[400, 200]"
            ]
          },
          "metadata": {},
          "execution_count": 110
        }
      ]
    },
    {
      "cell_type": "markdown",
      "metadata": {
        "id": "ptw8hALtmcIY"
      },
      "source": [
        "### list 덧셈: list 확장"
      ]
    },
    {
      "cell_type": "code",
      "metadata": {
        "id": "6AY5OCBUmm6W"
      },
      "source": [
        "a = [1, 2, 3, 4]\n",
        "b = [5, 6, 7, 8]"
      ],
      "execution_count": 111,
      "outputs": []
    },
    {
      "cell_type": "code",
      "metadata": {
        "id": "Vh4kSzvimpSM",
        "colab": {
          "base_uri": "https://localhost:8080/"
        },
        "outputId": "3fdd6aa1-abda-468a-db1d-552f34ab5a43"
      },
      "source": [
        "a + b"
      ],
      "execution_count": 112,
      "outputs": [
        {
          "output_type": "execute_result",
          "data": {
            "text/plain": [
              "[1, 2, 3, 4, 5, 6, 7, 8]"
            ]
          },
          "metadata": {},
          "execution_count": 112
        }
      ]
    },
    {
      "cell_type": "code",
      "metadata": {
        "id": "lmDtkjFWcgXV"
      },
      "source": [
        "a = ['a', 'b', 'c']\n",
        "b = ['d', 'e', 'f']"
      ],
      "execution_count": 113,
      "outputs": []
    },
    {
      "cell_type": "code",
      "metadata": {
        "id": "Nd7plO0ecgXW",
        "colab": {
          "base_uri": "https://localhost:8080/"
        },
        "outputId": "53a72cea-2fa9-4b88-a58e-8a28403e5c06"
      },
      "source": [
        "a + b"
      ],
      "execution_count": 114,
      "outputs": [
        {
          "output_type": "execute_result",
          "data": {
            "text/plain": [
              "['a', 'b', 'c', 'd', 'e', 'f']"
            ]
          },
          "metadata": {},
          "execution_count": 114
        }
      ]
    },
    {
      "cell_type": "markdown",
      "metadata": {
        "id": "kd8wNXq-cgXW"
      },
      "source": [
        "### list 곱셈: list 반복"
      ]
    },
    {
      "cell_type": "code",
      "metadata": {
        "id": "p3T5v4W-cgXW"
      },
      "source": [
        "a = ['a', 'b', 'c']\n",
        "b = [1, 2, 3, 4]"
      ],
      "execution_count": 115,
      "outputs": []
    },
    {
      "cell_type": "code",
      "metadata": {
        "id": "RHkI26zzm0Jm",
        "colab": {
          "base_uri": "https://localhost:8080/"
        },
        "outputId": "87e957c2-12e2-42c7-f33a-6ded4248e15c"
      },
      "source": [
        "a * 2"
      ],
      "execution_count": 116,
      "outputs": [
        {
          "output_type": "execute_result",
          "data": {
            "text/plain": [
              "['a', 'b', 'c', 'a', 'b', 'c']"
            ]
          },
          "metadata": {},
          "execution_count": 116
        }
      ]
    },
    {
      "cell_type": "code",
      "metadata": {
        "id": "aKslp1d_myjj",
        "colab": {
          "base_uri": "https://localhost:8080/"
        },
        "outputId": "f4968b5d-e25e-44e8-bfd7-730166c5cb59"
      },
      "source": [
        "b * 3"
      ],
      "execution_count": 117,
      "outputs": [
        {
          "output_type": "execute_result",
          "data": {
            "text/plain": [
              "[1, 2, 3, 4, 1, 2, 3, 4, 1, 2, 3, 4]"
            ]
          },
          "metadata": {},
          "execution_count": 117
        }
      ]
    },
    {
      "cell_type": "code",
      "metadata": {
        "id": "NP22dxkCNyqr",
        "colab": {
          "base_uri": "https://localhost:8080/",
          "height": 178
        },
        "outputId": "ec6ada05-08a6-4b5c-fef7-6e504c258d96"
      },
      "source": [
        "a * b"
      ],
      "execution_count": 118,
      "outputs": [
        {
          "output_type": "error",
          "ename": "TypeError",
          "evalue": "ignored",
          "traceback": [
            "\u001b[0;31m---------------------------------------------------------------------------\u001b[0m",
            "\u001b[0;31mTypeError\u001b[0m                                 Traceback (most recent call last)",
            "\u001b[0;32m<ipython-input-118-9bc1a869709f>\u001b[0m in \u001b[0;36m<cell line: 1>\u001b[0;34m()\u001b[0m\n\u001b[0;32m----> 1\u001b[0;31m \u001b[0ma\u001b[0m \u001b[0;34m*\u001b[0m \u001b[0mb\u001b[0m\u001b[0;34m\u001b[0m\u001b[0;34m\u001b[0m\u001b[0m\n\u001b[0m",
            "\u001b[0;31mTypeError\u001b[0m: can't multiply sequence by non-int of type 'list'"
          ]
        }
      ]
    },
    {
      "cell_type": "markdown",
      "metadata": {
        "id": "KU1npbc5cgXW"
      },
      "source": [
        "### 연습문제 1\n",
        "\n",
        "sample = [1, 3, 5, 4, 2] 리스트를 슬라이싱을 이용하여 [2, 4, 5, 3, 1]로 출력하세요"
      ]
    },
    {
      "cell_type": "code",
      "metadata": {
        "id": "mHYYlteecgXW"
      },
      "source": [
        "sample = [1, 3, 5, 4, 2]"
      ],
      "execution_count": 127,
      "outputs": []
    },
    {
      "cell_type": "markdown",
      "metadata": {
        "id": "N0L-K4eycgXX"
      },
      "source": [
        "슬라이싱을 사용해 다음과 같이 출력해 주세요"
      ]
    },
    {
      "cell_type": "code",
      "metadata": {
        "id": "zQdd3ZJfcgXX",
        "colab": {
          "base_uri": "https://localhost:8080/"
        },
        "outputId": "e6b87594-b0a2-4713-86d2-b6b1aa83ad2e"
      },
      "source": [
        "# 코드를 입력해 주세요\n",
        "sample[::-1]"
      ],
      "execution_count": 120,
      "outputs": [
        {
          "output_type": "execute_result",
          "data": {
            "text/plain": [
              "[2, 4, 5, 3, 1]"
            ]
          },
          "metadata": {},
          "execution_count": 120
        }
      ]
    },
    {
      "cell_type": "markdown",
      "metadata": {
        "id": "1sKjKkzAcgXX"
      },
      "source": [
        "<p><strong>[출력 결과]</strong></p><pre>[2, 4, 5, 3, 1]</pre>"
      ]
    },
    {
      "cell_type": "markdown",
      "metadata": {
        "id": "1OvEx4SkcgXX"
      },
      "source": [
        "슬라이싱을 사용해 다음과 같이 출력해 주세요"
      ]
    },
    {
      "cell_type": "code",
      "metadata": {
        "id": "lJA3FlducgXX",
        "colab": {
          "base_uri": "https://localhost:8080/"
        },
        "outputId": "d38227ef-e6d9-4710-d059-0abcd31237b5"
      },
      "source": [
        "# 코드를 입력해 주세요\n",
        "sample[::2]"
      ],
      "execution_count": 124,
      "outputs": [
        {
          "output_type": "execute_result",
          "data": {
            "text/plain": [
              "[1, 5, 2]"
            ]
          },
          "metadata": {},
          "execution_count": 124
        }
      ]
    },
    {
      "cell_type": "markdown",
      "metadata": {
        "id": "Mgj141MQcgXX"
      },
      "source": [
        "<p><strong>[출력 결과]</strong></p><pre>[1, 5, 2]</pre>"
      ]
    },
    {
      "cell_type": "markdown",
      "metadata": {
        "id": "c3BUSj2ncgXY"
      },
      "source": [
        "슬라이싱을 사용해 다음과 같이 출력해 주세요"
      ]
    },
    {
      "cell_type": "code",
      "metadata": {
        "id": "_ykHb6H0cgXY",
        "colab": {
          "base_uri": "https://localhost:8080/"
        },
        "outputId": "e7530b14-6ad3-40b9-cb52-7ec0df07b71a"
      },
      "source": [
        "# 코드를 입력해 주세요\n",
        "sample[2::-2]"
      ],
      "execution_count": 128,
      "outputs": [
        {
          "output_type": "execute_result",
          "data": {
            "text/plain": [
              "[5, 1]"
            ]
          },
          "metadata": {},
          "execution_count": 128
        }
      ]
    },
    {
      "cell_type": "markdown",
      "metadata": {
        "id": "1pkSppmUcgXY"
      },
      "source": [
        "<p><strong>[출력 결과]</strong></p><pre>[5, 1]</pre>"
      ]
    },
    {
      "cell_type": "markdown",
      "metadata": {
        "id": "0_mJjKgJ3PXj"
      },
      "source": [
        "### 연습문제 2\n",
        "\n",
        "- 아래의 값을 저장하고 있는 `myList` 변수를 생성하세요.\n",
        "- [[1,2,3],[4,5,6],[7,8]]"
      ]
    },
    {
      "cell_type": "code",
      "metadata": {
        "id": "cYw8v3Wc3PXj",
        "colab": {
          "base_uri": "https://localhost:8080/"
        },
        "outputId": "77737f48-577c-4fd4-eaa4-eacbb6cd6739"
      },
      "source": [
        "myList = [[1,2,3],[4,5,6],[7,8]]\n",
        "myList"
      ],
      "execution_count": 156,
      "outputs": [
        {
          "output_type": "execute_result",
          "data": {
            "text/plain": [
              "[[1, 2, 3], [4, 5, 6], [7, 8]]"
            ]
          },
          "metadata": {},
          "execution_count": 156
        }
      ]
    },
    {
      "cell_type": "markdown",
      "metadata": {
        "id": "huln3pHGqluk"
      },
      "source": [
        "- 9를 `myList`에 추가하여 아래의 값을 저장할 수 있도록 하세요. ★★★★★★★★★★\n",
        "    - [[1,2,3],[4,5,6],[7,8,9]]"
      ]
    },
    {
      "cell_type": "code",
      "metadata": {
        "id": "fQwG-KLiq_Aq",
        "colab": {
          "base_uri": "https://localhost:8080/"
        },
        "outputId": "b3727308-a350-4cb4-e3b1-b03e589c68c8"
      },
      "source": [
        "# 코드를 입력해 주세요\n",
        "myList\n",
        "myList[2].extend([9])\n",
        "myList"
      ],
      "execution_count": 157,
      "outputs": [
        {
          "output_type": "execute_result",
          "data": {
            "text/plain": [
              "[[1, 2, 3], [4, 5, 6], [7, 8, 9]]"
            ]
          },
          "metadata": {},
          "execution_count": 157
        }
      ]
    },
    {
      "cell_type": "markdown",
      "metadata": {
        "id": "RTzDXq3ZcgXZ"
      },
      "source": [
        "<p><strong>[출력 결과]</strong></p><pre>[[1, 2, 3], [4, 5, 6], [7, 8, 9]]</pre>"
      ]
    },
    {
      "cell_type": "markdown",
      "metadata": {
        "id": "6f1LiPaaWA6a"
      },
      "source": [
        "## 튜플(tuple)\n",
        "\n",
        "- 리스트(list)는 가변(mutable)하는 객체(object)이지만, **튜플(tuple)은 불변(immutable)한 객체**입니다.\n",
        "- 가변 객체는 요소에 대한 수정, 삭제, 변경 등이 가능하지만, 불편 객체는 **요소에 대한 수정, 삭제, 변경이 불가**합니다."
      ]
    },
    {
      "cell_type": "markdown",
      "metadata": {
        "id": "NKvYG65EDCQg"
      },
      "source": [
        "### 생성\n",
        "\n",
        "- tuple(), () 로 생성합니다.\n",
        "- 혹은 , 로 생성할 수 있습니다."
      ]
    },
    {
      "cell_type": "markdown",
      "metadata": {
        "id": "n1EYdsblcgXZ"
      },
      "source": [
        "**()로 튜플을 생성**할 수 있습니다."
      ]
    },
    {
      "cell_type": "code",
      "metadata": {
        "id": "Lj0AaIGkWMng",
        "colab": {
          "base_uri": "https://localhost:8080/"
        },
        "outputId": "202f524b-6f0e-4016-df79-95922a0d108f"
      },
      "source": [
        "mytuple = (1, 2, 3)\n",
        "mytuple"
      ],
      "execution_count": 158,
      "outputs": [
        {
          "output_type": "execute_result",
          "data": {
            "text/plain": [
              "(1, 2, 3)"
            ]
          },
          "metadata": {},
          "execution_count": 158
        }
      ]
    },
    {
      "cell_type": "markdown",
      "metadata": {
        "id": "MLL_VBvEcgXZ"
      },
      "source": [
        "**tuple()** 로 생성하는 경우"
      ]
    },
    {
      "cell_type": "code",
      "metadata": {
        "id": "kIfJ2eCcDnSH",
        "colab": {
          "base_uri": "https://localhost:8080/"
        },
        "outputId": "b9bddad4-b2e7-4d8f-9ced-0e28e45fcdf7"
      },
      "source": [
        "mytuple = tuple([1, 2, 3])\n",
        "mytuple"
      ],
      "execution_count": 159,
      "outputs": [
        {
          "output_type": "execute_result",
          "data": {
            "text/plain": [
              "(1, 2, 3)"
            ]
          },
          "metadata": {},
          "execution_count": 159
        }
      ]
    },
    {
      "cell_type": "markdown",
      "metadata": {
        "id": "tMa93r1JcgXa"
      },
      "source": [
        "**, 로 생성**할 수 있습니다."
      ]
    },
    {
      "cell_type": "code",
      "metadata": {
        "id": "iicUD1x0DHu6",
        "colab": {
          "base_uri": "https://localhost:8080/"
        },
        "outputId": "c6ba85b6-fc8a-4f6c-ab1e-18ce4cfc1a0b"
      },
      "source": [
        "mytuple = 1, 2, 3\n",
        "mytuple"
      ],
      "execution_count": 160,
      "outputs": [
        {
          "output_type": "execute_result",
          "data": {
            "text/plain": [
              "(1, 2, 3)"
            ]
          },
          "metadata": {},
          "execution_count": 160
        }
      ]
    },
    {
      "cell_type": "markdown",
      "metadata": {
        "id": "3S5MtEDScgXa"
      },
      "source": [
        "**단일 요소를 생성**할 때는 반드시 ,를 붙여 줍니다.\n",
        "- (1,)과 (1)은 다른 자료구조임을 꼭 알고 있어야 합니다."
      ]
    },
    {
      "cell_type": "code",
      "metadata": {
        "id": "VvZXlmRncgXa",
        "colab": {
          "base_uri": "https://localhost:8080/"
        },
        "outputId": "06068849-140b-4ff4-f447-0c4b68d51a86"
      },
      "source": [
        "mytuple = 1,\n",
        "print(type(mytuple))\n",
        "mytuple"
      ],
      "execution_count": 161,
      "outputs": [
        {
          "output_type": "stream",
          "name": "stdout",
          "text": [
            "<class 'tuple'>\n"
          ]
        },
        {
          "output_type": "execute_result",
          "data": {
            "text/plain": [
              "(1,)"
            ]
          },
          "metadata": {},
          "execution_count": 161
        }
      ]
    },
    {
      "cell_type": "code",
      "metadata": {
        "id": "HrRr2fKMDL2E",
        "colab": {
          "base_uri": "https://localhost:8080/"
        },
        "outputId": "4864b264-3358-4620-a923-c8c78fd498f5"
      },
      "source": [
        "mytuple = (1,)\n",
        "print(type(mytuple))\n",
        "mytuple"
      ],
      "execution_count": 162,
      "outputs": [
        {
          "output_type": "stream",
          "name": "stdout",
          "text": [
            "<class 'tuple'>\n"
          ]
        },
        {
          "output_type": "execute_result",
          "data": {
            "text/plain": [
              "(1,)"
            ]
          },
          "metadata": {},
          "execution_count": 162
        }
      ]
    },
    {
      "cell_type": "code",
      "metadata": {
        "id": "7ZlannGQcgXa",
        "colab": {
          "base_uri": "https://localhost:8080/"
        },
        "outputId": "2d7dfd98-3675-4b58-fe52-0c68e8e129f9"
      },
      "source": [
        "mytuple = (1)\n",
        "print(type(mytuple))\n",
        "mytuple"
      ],
      "execution_count": 163,
      "outputs": [
        {
          "output_type": "stream",
          "name": "stdout",
          "text": [
            "<class 'int'>\n"
          ]
        },
        {
          "output_type": "execute_result",
          "data": {
            "text/plain": [
              "1"
            ]
          },
          "metadata": {},
          "execution_count": 163
        }
      ]
    },
    {
      "cell_type": "markdown",
      "metadata": {
        "id": "M11I_rnUcgXb"
      },
      "source": [
        "**튜플 언패킹(unpacking)**\n",
        "- 튜플로 한 번에 **여러 변수에 값을 한 번에 할당**할 수 있습니다."
      ]
    },
    {
      "cell_type": "code",
      "metadata": {
        "id": "cRUNDQHYcgXb",
        "colab": {
          "base_uri": "https://localhost:8080/"
        },
        "outputId": "da9506b9-c38c-43df-bf8f-439435b4f0de"
      },
      "source": [
        "a = 1, 2, 3\n",
        "\n",
        "print(a)\n",
        "# print(b)\n",
        "# print(c)"
      ],
      "execution_count": 164,
      "outputs": [
        {
          "output_type": "stream",
          "name": "stdout",
          "text": [
            "(1, 2, 3)\n"
          ]
        }
      ]
    },
    {
      "cell_type": "code",
      "source": [
        "a, b, c = 1, 2, 3\n",
        "\n",
        "print(a)\n",
        "print(b)\n",
        "print(c)"
      ],
      "metadata": {
        "colab": {
          "base_uri": "https://localhost:8080/"
        },
        "id": "z50SEXnGc4T2",
        "outputId": "d1701dc9-4c24-4d5b-eb29-f60e9e9b7610"
      },
      "execution_count": 165,
      "outputs": [
        {
          "output_type": "stream",
          "name": "stdout",
          "text": [
            "1\n",
            "2\n",
            "3\n"
          ]
        }
      ]
    },
    {
      "cell_type": "markdown",
      "metadata": {
        "id": "fbWL3rXvDZou"
      },
      "source": [
        "### 튜플 자료형은 요소의 추가, 삭제, 변경등을 허용하지 않습니다."
      ]
    },
    {
      "cell_type": "code",
      "metadata": {
        "id": "3TBwbkblcgXb",
        "colab": {
          "base_uri": "https://localhost:8080/"
        },
        "outputId": "6821abc5-cbf1-496b-ce23-6d0dbc8cdcae"
      },
      "source": [
        "mytuple = (1, 2, 3)\n",
        "mytuple"
      ],
      "execution_count": 166,
      "outputs": [
        {
          "output_type": "execute_result",
          "data": {
            "text/plain": [
              "(1, 2, 3)"
            ]
          },
          "metadata": {},
          "execution_count": 166
        }
      ]
    },
    {
      "cell_type": "markdown",
      "metadata": {
        "id": "57vPUsS9cgXb"
      },
      "source": [
        "요소를 **조회하는 것은 가능**합니다."
      ]
    },
    {
      "cell_type": "code",
      "metadata": {
        "id": "ZbVjb4x7cgXb",
        "colab": {
          "base_uri": "https://localhost:8080/"
        },
        "outputId": "8110bb4f-4018-4b16-bab1-840c61617c07"
      },
      "source": [
        "mytuple[1]"
      ],
      "execution_count": 167,
      "outputs": [
        {
          "output_type": "execute_result",
          "data": {
            "text/plain": [
              "2"
            ]
          },
          "metadata": {},
          "execution_count": 167
        }
      ]
    },
    {
      "cell_type": "markdown",
      "metadata": {
        "id": "axOh9930cgXc"
      },
      "source": [
        "요소를 **변경**하려는 경우"
      ]
    },
    {
      "cell_type": "code",
      "metadata": {
        "id": "OjCMaaYPcgXc",
        "colab": {
          "base_uri": "https://localhost:8080/",
          "height": 178
        },
        "outputId": "ad5285f5-5350-42bc-9cfd-ed149b62ca43"
      },
      "source": [
        "mytuple[1] = 100 #에러발생"
      ],
      "execution_count": 168,
      "outputs": [
        {
          "output_type": "error",
          "ename": "TypeError",
          "evalue": "ignored",
          "traceback": [
            "\u001b[0;31m---------------------------------------------------------------------------\u001b[0m",
            "\u001b[0;31mTypeError\u001b[0m                                 Traceback (most recent call last)",
            "\u001b[0;32m<ipython-input-168-302beb1444a7>\u001b[0m in \u001b[0;36m<cell line: 1>\u001b[0;34m()\u001b[0m\n\u001b[0;32m----> 1\u001b[0;31m \u001b[0mmytuple\u001b[0m\u001b[0;34m[\u001b[0m\u001b[0;36m1\u001b[0m\u001b[0;34m]\u001b[0m \u001b[0;34m=\u001b[0m \u001b[0;36m100\u001b[0m\u001b[0;34m\u001b[0m\u001b[0;34m\u001b[0m\u001b[0m\n\u001b[0m",
            "\u001b[0;31mTypeError\u001b[0m: 'tuple' object does not support item assignment"
          ]
        }
      ]
    },
    {
      "cell_type": "markdown",
      "metadata": {
        "id": "c24tbnf9cgXc"
      },
      "source": [
        "요소를 **삭제**하려는 경우"
      ]
    },
    {
      "cell_type": "code",
      "metadata": {
        "id": "I2JlBRg8DyLx",
        "colab": {
          "base_uri": "https://localhost:8080/",
          "height": 178
        },
        "outputId": "7c1e4c69-bbdc-43e1-bbfd-ade3c515d6ee"
      },
      "source": [
        "del mytuple[1] #에러발생"
      ],
      "execution_count": 169,
      "outputs": [
        {
          "output_type": "error",
          "ename": "TypeError",
          "evalue": "ignored",
          "traceback": [
            "\u001b[0;31m---------------------------------------------------------------------------\u001b[0m",
            "\u001b[0;31mTypeError\u001b[0m                                 Traceback (most recent call last)",
            "\u001b[0;32m<ipython-input-169-011fbf932d04>\u001b[0m in \u001b[0;36m<cell line: 1>\u001b[0;34m()\u001b[0m\n\u001b[0;32m----> 1\u001b[0;31m \u001b[0;32mdel\u001b[0m \u001b[0mmytuple\u001b[0m\u001b[0;34m[\u001b[0m\u001b[0;36m1\u001b[0m\u001b[0;34m]\u001b[0m\u001b[0;34m\u001b[0m\u001b[0;34m\u001b[0m\u001b[0m\n\u001b[0m",
            "\u001b[0;31mTypeError\u001b[0m: 'tuple' object doesn't support item deletion"
          ]
        }
      ]
    },
    {
      "cell_type": "markdown",
      "metadata": {
        "id": "wJxLyKDGD1Re"
      },
      "source": [
        "### 튜플 덧셈: 튜플의 확장"
      ]
    },
    {
      "cell_type": "code",
      "metadata": {
        "id": "ScZhykwwD7AM"
      },
      "source": [
        "a = (1, 2)\n",
        "b = (3, 4)"
      ],
      "execution_count": 170,
      "outputs": []
    },
    {
      "cell_type": "code",
      "metadata": {
        "id": "kL1Qav45D-gm",
        "colab": {
          "base_uri": "https://localhost:8080/"
        },
        "outputId": "4749346e-97bd-4eeb-b961-5c65b34a482a"
      },
      "source": [
        "a + b"
      ],
      "execution_count": 171,
      "outputs": [
        {
          "output_type": "execute_result",
          "data": {
            "text/plain": [
              "(1, 2, 3, 4)"
            ]
          },
          "metadata": {},
          "execution_count": 171
        }
      ]
    },
    {
      "cell_type": "markdown",
      "metadata": {
        "id": "xLhCaMwVcgXd"
      },
      "source": [
        "### 튜플 곱셈: 튜플의 반복"
      ]
    },
    {
      "cell_type": "code",
      "metadata": {
        "id": "UN5cWiqWEAqX",
        "colab": {
          "base_uri": "https://localhost:8080/"
        },
        "outputId": "a0767959-a3d9-4bd0-8b9f-4501d0b0eb93"
      },
      "source": [
        "a * 3"
      ],
      "execution_count": 172,
      "outputs": [
        {
          "output_type": "execute_result",
          "data": {
            "text/plain": [
              "(1, 2, 1, 2, 1, 2)"
            ]
          },
          "metadata": {},
          "execution_count": 172
        }
      ]
    },
    {
      "cell_type": "code",
      "metadata": {
        "id": "wluSgekA9ZT7",
        "colab": {
          "base_uri": "https://localhost:8080/"
        },
        "outputId": "858905b0-1f18-4ca1-d864-255debb53717"
      },
      "source": [
        "a * 10"
      ],
      "execution_count": 173,
      "outputs": [
        {
          "output_type": "execute_result",
          "data": {
            "text/plain": [
              "(1, 2, 1, 2, 1, 2, 1, 2, 1, 2, 1, 2, 1, 2, 1, 2, 1, 2, 1, 2)"
            ]
          },
          "metadata": {},
          "execution_count": 173
        }
      ]
    },
    {
      "cell_type": "markdown",
      "metadata": {
        "id": "PhwymGjaXqwU"
      },
      "source": [
        "### 길이 파악하기"
      ]
    },
    {
      "cell_type": "code",
      "metadata": {
        "id": "NKr8ATCHcgXd",
        "colab": {
          "base_uri": "https://localhost:8080/"
        },
        "outputId": "d6b42f25-9f62-4746-b3b2-485c53cec537"
      },
      "source": [
        "mytuple"
      ],
      "execution_count": 174,
      "outputs": [
        {
          "output_type": "execute_result",
          "data": {
            "text/plain": [
              "(1, 2, 3)"
            ]
          },
          "metadata": {},
          "execution_count": 174
        }
      ]
    },
    {
      "cell_type": "code",
      "metadata": {
        "id": "q52SzZNOYIo1",
        "colab": {
          "base_uri": "https://localhost:8080/"
        },
        "outputId": "60f94a45-a781-4ed4-cd84-ab3a809355a7"
      },
      "source": [
        "len(mytuple)"
      ],
      "execution_count": 175,
      "outputs": [
        {
          "output_type": "execute_result",
          "data": {
            "text/plain": [
              "3"
            ]
          },
          "metadata": {},
          "execution_count": 175
        }
      ]
    },
    {
      "cell_type": "markdown",
      "metadata": {
        "id": "BJ_ejBsNJH6N"
      },
      "source": [
        "### list를 tuple로 변환"
      ]
    },
    {
      "cell_type": "code",
      "metadata": {
        "id": "d4syeAlRJU2F"
      },
      "source": [
        "a = [1, 2, 3, 4]"
      ],
      "execution_count": 176,
      "outputs": []
    },
    {
      "cell_type": "code",
      "metadata": {
        "id": "aAiFPz4EJWUg",
        "colab": {
          "base_uri": "https://localhost:8080/"
        },
        "outputId": "b6cd1ac4-86c2-4244-9670-7b76f0c60183"
      },
      "source": [
        "a"
      ],
      "execution_count": 177,
      "outputs": [
        {
          "output_type": "execute_result",
          "data": {
            "text/plain": [
              "[1, 2, 3, 4]"
            ]
          },
          "metadata": {},
          "execution_count": 177
        }
      ]
    },
    {
      "cell_type": "code",
      "metadata": {
        "id": "k2yM_D3nJWsJ",
        "colab": {
          "base_uri": "https://localhost:8080/"
        },
        "outputId": "5a7de6b8-425c-4dc6-bb3f-29415432e0c4"
      },
      "source": [
        "type(a)"
      ],
      "execution_count": 178,
      "outputs": [
        {
          "output_type": "execute_result",
          "data": {
            "text/plain": [
              "list"
            ]
          },
          "metadata": {},
          "execution_count": 178
        }
      ]
    },
    {
      "cell_type": "code",
      "metadata": {
        "id": "C1XzVIOkJXH_"
      },
      "source": [
        "b = tuple(a)"
      ],
      "execution_count": 179,
      "outputs": []
    },
    {
      "cell_type": "code",
      "metadata": {
        "id": "nNNg1n1xJYvq",
        "colab": {
          "base_uri": "https://localhost:8080/"
        },
        "outputId": "aca345b0-6d77-4a3b-f618-c746c3086498"
      },
      "source": [
        "b"
      ],
      "execution_count": 180,
      "outputs": [
        {
          "output_type": "execute_result",
          "data": {
            "text/plain": [
              "(1, 2, 3, 4)"
            ]
          },
          "metadata": {},
          "execution_count": 180
        }
      ]
    },
    {
      "cell_type": "code",
      "metadata": {
        "id": "-FGh_AhJJZAk",
        "colab": {
          "base_uri": "https://localhost:8080/"
        },
        "outputId": "f749e549-d0ab-4d99-d525-ab5eae0ca955"
      },
      "source": [
        "type(b)"
      ],
      "execution_count": 181,
      "outputs": [
        {
          "output_type": "execute_result",
          "data": {
            "text/plain": [
              "tuple"
            ]
          },
          "metadata": {},
          "execution_count": 181
        }
      ]
    },
    {
      "cell_type": "markdown",
      "metadata": {
        "id": "5T0yhUiiJZuK"
      },
      "source": [
        "### tuple을 list로 변환"
      ]
    },
    {
      "cell_type": "code",
      "metadata": {
        "id": "0OZ27hGpJdGi"
      },
      "source": [
        "a = (1, 2, 3, 4)"
      ],
      "execution_count": 182,
      "outputs": []
    },
    {
      "cell_type": "code",
      "metadata": {
        "id": "47vB7lQLJeSI",
        "colab": {
          "base_uri": "https://localhost:8080/"
        },
        "outputId": "269a59a2-d7aa-4008-b075-0f1643bb87af"
      },
      "source": [
        "a"
      ],
      "execution_count": 183,
      "outputs": [
        {
          "output_type": "execute_result",
          "data": {
            "text/plain": [
              "(1, 2, 3, 4)"
            ]
          },
          "metadata": {},
          "execution_count": 183
        }
      ]
    },
    {
      "cell_type": "code",
      "metadata": {
        "id": "fJpB20awJesL",
        "colab": {
          "base_uri": "https://localhost:8080/"
        },
        "outputId": "95827490-64ce-4a95-e800-bb71129090b9"
      },
      "source": [
        "type(a)"
      ],
      "execution_count": 184,
      "outputs": [
        {
          "output_type": "execute_result",
          "data": {
            "text/plain": [
              "tuple"
            ]
          },
          "metadata": {},
          "execution_count": 184
        }
      ]
    },
    {
      "cell_type": "code",
      "metadata": {
        "id": "oYserJFQJf51"
      },
      "source": [
        "b = list(a)"
      ],
      "execution_count": 185,
      "outputs": []
    },
    {
      "cell_type": "code",
      "metadata": {
        "id": "P_zDoI-GJidd",
        "colab": {
          "base_uri": "https://localhost:8080/"
        },
        "outputId": "c0346ffc-1c1c-4676-b7a9-4148ed3d7f5f"
      },
      "source": [
        "b"
      ],
      "execution_count": 186,
      "outputs": [
        {
          "output_type": "execute_result",
          "data": {
            "text/plain": [
              "[1, 2, 3, 4]"
            ]
          },
          "metadata": {},
          "execution_count": 186
        }
      ]
    },
    {
      "cell_type": "code",
      "metadata": {
        "id": "jtPRpCOHJjDI",
        "colab": {
          "base_uri": "https://localhost:8080/"
        },
        "outputId": "e7d0c8ce-11e9-4b11-9075-2f5ea2bdfbd0"
      },
      "source": [
        "type(b)"
      ],
      "execution_count": 187,
      "outputs": [
        {
          "output_type": "execute_result",
          "data": {
            "text/plain": [
              "list"
            ]
          },
          "metadata": {},
          "execution_count": 187
        }
      ]
    },
    {
      "cell_type": "markdown",
      "metadata": {
        "id": "zJjaYs4lcgXg"
      },
      "source": [
        "리스트로 type을 변경하였기 때문에 **요소의 추가 및 삭제가 가능**합니다."
      ]
    },
    {
      "cell_type": "code",
      "metadata": {
        "id": "e6STgfp_Jjl9",
        "colab": {
          "base_uri": "https://localhost:8080/"
        },
        "outputId": "5a0e4088-9dd0-458a-d3f2-a78fef85c9c5"
      },
      "source": [
        "b.append(5)\n",
        "b"
      ],
      "execution_count": 188,
      "outputs": [
        {
          "output_type": "execute_result",
          "data": {
            "text/plain": [
              "[1, 2, 3, 4, 5]"
            ]
          },
          "metadata": {},
          "execution_count": 188
        }
      ]
    },
    {
      "cell_type": "code",
      "metadata": {
        "id": "37W8x7KHcgXg",
        "colab": {
          "base_uri": "https://localhost:8080/"
        },
        "outputId": "9d900fb2-ac4f-4d53-816d-965ef1081bbe"
      },
      "source": [
        "b.remove(2)\n",
        "b"
      ],
      "execution_count": 189,
      "outputs": [
        {
          "output_type": "execute_result",
          "data": {
            "text/plain": [
              "[1, 3, 4, 5]"
            ]
          },
          "metadata": {},
          "execution_count": 189
        }
      ]
    },
    {
      "cell_type": "markdown",
      "metadata": {
        "id": "nM2jqV66cgXg"
      },
      "source": [
        "요소를 추가 및 삭제한 후 **다시 tuple로 변경**할 수 있습니다."
      ]
    },
    {
      "cell_type": "code",
      "metadata": {
        "id": "T7k1LgovJl5y"
      },
      "source": [
        "c = tuple(b)"
      ],
      "execution_count": 190,
      "outputs": []
    },
    {
      "cell_type": "code",
      "metadata": {
        "id": "brUnfV5fJm_u",
        "colab": {
          "base_uri": "https://localhost:8080/"
        },
        "outputId": "aecdacb9-006a-4034-f443-f41eae69df57"
      },
      "source": [
        "c"
      ],
      "execution_count": 191,
      "outputs": [
        {
          "output_type": "execute_result",
          "data": {
            "text/plain": [
              "(1, 3, 4, 5)"
            ]
          },
          "metadata": {},
          "execution_count": 191
        }
      ]
    },
    {
      "cell_type": "code",
      "metadata": {
        "id": "GfEFncbkJoRw",
        "colab": {
          "base_uri": "https://localhost:8080/"
        },
        "outputId": "486f5a02-0c31-4553-e042-fd0ee76fb4fa"
      },
      "source": [
        "type(c)"
      ],
      "execution_count": 192,
      "outputs": [
        {
          "output_type": "execute_result",
          "data": {
            "text/plain": [
              "tuple"
            ]
          },
          "metadata": {},
          "execution_count": 192
        }
      ]
    },
    {
      "cell_type": "markdown",
      "metadata": {
        "id": "-mx0TG2lcgXh"
      },
      "source": [
        "### 연습문제"
      ]
    },
    {
      "cell_type": "markdown",
      "metadata": {
        "id": "NmCDNaS2cgXh"
      },
      "source": [
        "주어진 tuple `a`를 (1, 100, 2, 3, 4)의 요소를 가지도록 변경해 주세요"
      ]
    },
    {
      "cell_type": "code",
      "metadata": {
        "id": "8_NJGIbNcgXi"
      },
      "source": [
        "a = (1, 2, 3, 4)"
      ],
      "execution_count": 202,
      "outputs": []
    },
    {
      "cell_type": "code",
      "metadata": {
        "id": "K4mx6nEqcgXi",
        "colab": {
          "base_uri": "https://localhost:8080/"
        },
        "outputId": "fb19e5ab-4bb6-41d7-ce96-4e6ea565f519"
      },
      "source": [
        "# 코드를 입력해 주세요\n",
        "type(a)\n",
        "\n",
        "temp = list(a)\n",
        "type(temp)\n",
        "\n",
        "temp.insert(1, 100)\n",
        "temp\n",
        "\n",
        "a = tuple(temp)\n",
        "\n",
        "type(a)\n",
        "\n",
        "tuple(a)"
      ],
      "execution_count": 203,
      "outputs": [
        {
          "output_type": "execute_result",
          "data": {
            "text/plain": [
              "(1, 100, 2, 3, 4)"
            ]
          },
          "metadata": {},
          "execution_count": 203
        }
      ]
    },
    {
      "cell_type": "markdown",
      "metadata": {
        "id": "LhVzPi6icgXi"
      },
      "source": [
        "<p><strong>[출력 결과]</strong></p><pre>(1, 100, 2, 3, 4)</pre>"
      ]
    }
  ]
}