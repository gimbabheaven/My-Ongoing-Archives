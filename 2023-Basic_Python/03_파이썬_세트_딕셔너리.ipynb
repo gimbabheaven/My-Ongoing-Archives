{
  "nbformat": 4,
  "nbformat_minor": 0,
  "metadata": {
    "colab": {
      "provenance": [],
      "include_colab_link": true
    },
    "kernelspec": {
      "display_name": "Python 3",
      "language": "python",
      "name": "python3"
    },
    "language_info": {
      "codemirror_mode": {
        "name": "ipython",
        "version": 3
      },
      "file_extension": ".py",
      "mimetype": "text/x-python",
      "name": "python",
      "nbconvert_exporter": "python",
      "pygments_lexer": "ipython3",
      "version": "3.6.9"
    }
  },
  "cells": [
    {
      "cell_type": "markdown",
      "metadata": {
        "id": "view-in-github",
        "colab_type": "text"
      },
      "source": [
        "<a href=\"https://colab.research.google.com/github/gimbabheaven/2023-Basic_Python/blob/master/03_%ED%8C%8C%EC%9D%B4%EC%8D%AC_%EC%84%B8%ED%8A%B8_%EB%94%95%EC%85%94%EB%84%88%EB%A6%AC.ipynb\" target=\"_parent\"><img src=\"https://colab.research.google.com/assets/colab-badge.svg\" alt=\"Open In Colab\"/></a>"
      ]
    },
    {
      "cell_type": "markdown",
      "metadata": {
        "id": "KgAFjs7iUREl"
      },
      "source": [
        "# 시퀀스, 집합형 자료구조"
      ]
    },
    {
      "cell_type": "markdown",
      "metadata": {
        "id": "tD5MUfkXfHjz"
      },
      "source": [
        "| 분류             | 타입                 | 특징                                   | 예시                     |\n",
        "| ---------------- | -------------------- | -------------------------------------- | ------------------------ |\n",
        "| 시퀀스(sequence) | 리스트(list)         | 순서가 있고, 가변(mutable)             | [1, 2, 3]                |\n",
        "| 시퀀스(sequence) | 튜플(tuple)          | 순서가 있고, 불변(immutable)           | (1, 2, 3)                |\n",
        "| 세트(set)        | 세트(set)            | 순서가 없고, 중복을 허용하지 않음      | {1, 2, 3}                |\n",
        "| 맵(map)          | 딕셔너리(dictionary) | 순서가 없고, key/value 쌍으로 이루어짐 | {'a': 1, 'b': 2, 'c': 3} |"
      ]
    },
    {
      "cell_type": "markdown",
      "metadata": {
        "id": "vCdKOsCpZNBi"
      },
      "source": [
        "## 세트(set)\n",
        "\n",
        "- 세트는 순서가 보장 되지 않습니다.\n",
        "- 세트는 요소의 **중복을 허용하지 않습니다.**\n",
        "- 세트는 **{}**를 활용하여 생성할 수 있습니다."
      ]
    },
    {
      "cell_type": "markdown",
      "metadata": {
        "id": "AahZw6tVGaBa"
      },
      "source": [
        "### 생성"
      ]
    },
    {
      "cell_type": "code",
      "metadata": {
        "id": "jIWM7VJjZMuH",
        "colab": {
          "base_uri": "https://localhost:8080/"
        },
        "outputId": "558db1bf-0b81-4255-d160-17221f6e0a7a"
      },
      "source": [
        "myset = set()\n",
        "myset"
      ],
      "execution_count": 1,
      "outputs": [
        {
          "output_type": "execute_result",
          "data": {
            "text/plain": [
              "set()"
            ]
          },
          "metadata": {},
          "execution_count": 1
        }
      ]
    },
    {
      "cell_type": "code",
      "metadata": {
        "id": "ANJhYZ-bHTjx",
        "colab": {
          "base_uri": "https://localhost:8080/"
        },
        "outputId": "776f32dd-bbf0-4e45-d7c0-1dad554a5b95"
      },
      "source": [
        "myset = set([1, 1, 1, 2, 2, 2, 3, 3, 3])\n",
        "myset"
      ],
      "execution_count": 2,
      "outputs": [
        {
          "output_type": "execute_result",
          "data": {
            "text/plain": [
              "{1, 2, 3}"
            ]
          },
          "metadata": {},
          "execution_count": 2
        }
      ]
    },
    {
      "cell_type": "code",
      "metadata": {
        "id": "ryu7ce2zHYZj",
        "colab": {
          "base_uri": "https://localhost:8080/"
        },
        "outputId": "a11e5959-72a1-45ff-c416-886e452f5ca8"
      },
      "source": [
        "myset = set((1, 1, 1, 2, 3, 3, 4, 5, 5, 5))\n",
        "myset"
      ],
      "execution_count": 3,
      "outputs": [
        {
          "output_type": "execute_result",
          "data": {
            "text/plain": [
              "{1, 2, 3, 4, 5}"
            ]
          },
          "metadata": {},
          "execution_count": 3
        }
      ]
    },
    {
      "cell_type": "code",
      "metadata": {
        "id": "FZq6RNxBfHj2",
        "colab": {
          "base_uri": "https://localhost:8080/"
        },
        "outputId": "3fcea77d-66ea-4337-e487-b26a62441340"
      },
      "source": [
        "myset = {1, 1, 1, 2, 2, 2, 3, 3, 3}\n",
        "myset"
      ],
      "execution_count": 4,
      "outputs": [
        {
          "output_type": "execute_result",
          "data": {
            "text/plain": [
              "{1, 2, 3}"
            ]
          },
          "metadata": {},
          "execution_count": 4
        }
      ]
    },
    {
      "cell_type": "markdown",
      "metadata": {
        "id": "N5_9VPePHgq-"
      },
      "source": [
        "### add() : 값 추가\n",
        "\n",
        "- set에 요소를 추가합니다."
      ]
    },
    {
      "cell_type": "markdown",
      "metadata": {
        "id": "KxtbPpKqfHj3"
      },
      "source": [
        "빈 set를 생성합니다."
      ]
    },
    {
      "cell_type": "code",
      "metadata": {
        "id": "ueu2JUWsHovW"
      },
      "source": [
        "myset = set()"
      ],
      "execution_count": null,
      "outputs": []
    },
    {
      "cell_type": "markdown",
      "metadata": {
        "id": "rRFwrN3zfHj3"
      },
      "source": [
        "add() 로 요소를 추가합니다."
      ]
    },
    {
      "cell_type": "code",
      "metadata": {
        "id": "9hiHrECzZUQH"
      },
      "source": [
        "myset.add(1)\n",
        "myset.add(2)\n",
        "myset.add(3)\n",
        "\n",
        "myset.add(1)\n",
        "myset.add(2)\n",
        "myset.add(3)\n",
        "\n",
        "myset.add(1)\n",
        "myset.add(2)\n",
        "myset.add(3)"
      ],
      "execution_count": 5,
      "outputs": []
    },
    {
      "cell_type": "markdown",
      "metadata": {
        "id": "K6ObtlExfHj4"
      },
      "source": [
        "요소를 중복하여 추가하였지만, 중복을 허용하지 않는 set의 특성상 {1, 2, 3} 으로 **중복이 제거된 요소만 출력**됩니다."
      ]
    },
    {
      "cell_type": "code",
      "metadata": {
        "id": "QNQ7synrZUIf",
        "colab": {
          "base_uri": "https://localhost:8080/"
        },
        "outputId": "e10eeb8e-22cb-4f4b-bd0c-b08669914e78"
      },
      "source": [
        "myset"
      ],
      "execution_count": 6,
      "outputs": [
        {
          "output_type": "execute_result",
          "data": {
            "text/plain": [
              "{1, 2, 3}"
            ]
          },
          "metadata": {},
          "execution_count": 6
        }
      ]
    },
    {
      "cell_type": "markdown",
      "metadata": {
        "id": "LTrMWdxJHrF8"
      },
      "source": [
        "### update() : 여러개 값 추가\n",
        "\n",
        "- 여러개의 값을 한꺼번에 추가하고자 할 때는 update() 메서드를 사용합니다."
      ]
    },
    {
      "cell_type": "code",
      "metadata": {
        "id": "8h1acAmYfHj5"
      },
      "source": [
        "myset = {1, 2, 3}"
      ],
      "execution_count": 7,
      "outputs": []
    },
    {
      "cell_type": "markdown",
      "metadata": {
        "id": "ly4q5wIMfHj5"
      },
      "source": [
        "list의 요소들을 **한꺼번에 update**"
      ]
    },
    {
      "cell_type": "code",
      "metadata": {
        "id": "dRioIyqSHwwA",
        "colab": {
          "base_uri": "https://localhost:8080/"
        },
        "outputId": "68f4fcfe-1ddf-4fc6-9cad-cda9caf4035d"
      },
      "source": [
        "myset.update([4, 5, 6]) #리스트 형식\n",
        "myset"
      ],
      "execution_count": 8,
      "outputs": [
        {
          "output_type": "execute_result",
          "data": {
            "text/plain": [
              "{1, 2, 3, 4, 5, 6}"
            ]
          },
          "metadata": {},
          "execution_count": 8
        }
      ]
    },
    {
      "cell_type": "markdown",
      "metadata": {
        "id": "gCULkhkIfHj6"
      },
      "source": [
        "tuple의 요소들을 **한꺼번에 update**"
      ]
    },
    {
      "cell_type": "code",
      "metadata": {
        "id": "s1FiTqAJfHj6",
        "colab": {
          "base_uri": "https://localhost:8080/"
        },
        "outputId": "b33ffc33-f29a-40e7-81ef-f746596bf2db"
      },
      "source": [
        "myset.update((7, 8, 9)) #튜플 형식으로도 가능\n",
        "myset"
      ],
      "execution_count": 10,
      "outputs": [
        {
          "output_type": "execute_result",
          "data": {
            "text/plain": [
              "{1, 2, 3, 4, 5, 6, 7, 8, 9, 10, 11, 12}"
            ]
          },
          "metadata": {},
          "execution_count": 10
        }
      ]
    },
    {
      "cell_type": "markdown",
      "metadata": {
        "id": "SUmO-FdxfHj6"
      },
      "source": [
        "set의 요소들을 **한꺼번에 update**"
      ]
    },
    {
      "cell_type": "code",
      "metadata": {
        "id": "ZbCKpXAlfHj6",
        "colab": {
          "base_uri": "https://localhost:8080/"
        },
        "outputId": "431e7f24-0e74-4882-fe6e-f47fedcb9349"
      },
      "source": [
        "myset.update({10, 11, 12})\n",
        "myset"
      ],
      "execution_count": 11,
      "outputs": [
        {
          "output_type": "execute_result",
          "data": {
            "text/plain": [
              "{1, 2, 3, 4, 5, 6, 7, 8, 9, 10, 11, 12}"
            ]
          },
          "metadata": {},
          "execution_count": 11
        }
      ]
    },
    {
      "cell_type": "markdown",
      "metadata": {
        "id": "XMa9hfRvH4zs"
      },
      "source": [
        "### remove() : 값 제거\n",
        "\n",
        "- 단일 요소를 제거합니다."
      ]
    },
    {
      "cell_type": "code",
      "metadata": {
        "id": "ya6F_1KrH7fp"
      },
      "source": [
        "myset = {1, 2, 3, 4, 5}"
      ],
      "execution_count": 12,
      "outputs": []
    },
    {
      "cell_type": "code",
      "metadata": {
        "id": "QDfJLU5JH576",
        "colab": {
          "base_uri": "https://localhost:8080/"
        },
        "outputId": "3bf1e4df-9bee-43c2-e575-084b8ec99d25"
      },
      "source": [
        "myset.remove(2)\n",
        "myset"
      ],
      "execution_count": 13,
      "outputs": [
        {
          "output_type": "execute_result",
          "data": {
            "text/plain": [
              "{1, 3, 4, 5}"
            ]
          },
          "metadata": {},
          "execution_count": 13
        }
      ]
    },
    {
      "cell_type": "markdown",
      "metadata": {
        "id": "47KBBNyWICQ-"
      },
      "source": [
        "### 교집합 (intersection) ★★★★\n",
        "\n",
        "- 교집합은 집합 A와 B가 주어졌을 때 **공통된 요소**를 말합니다.\n",
        "- `&` 기호나 `intersection()` 메서드를 활용하여 교집합을 구할 수 있습니다."
      ]
    },
    {
      "cell_type": "code",
      "metadata": {
        "id": "jBA3M2H6IFZF"
      },
      "source": [
        "a = {1, 2, 3, 4, 5}\n",
        "b = {3, 4, 5, 6, 7}"
      ],
      "execution_count": 14,
      "outputs": []
    },
    {
      "cell_type": "code",
      "metadata": {
        "id": "X5a3JY70IJoU",
        "colab": {
          "base_uri": "https://localhost:8080/"
        },
        "outputId": "aab20895-cd4e-44c0-ea00-577bc7a24170"
      },
      "source": [
        "a & b"
      ],
      "execution_count": 15,
      "outputs": [
        {
          "output_type": "execute_result",
          "data": {
            "text/plain": [
              "{3, 4, 5}"
            ]
          },
          "metadata": {},
          "execution_count": 15
        }
      ]
    },
    {
      "cell_type": "code",
      "metadata": {
        "id": "41PhL6uJILIc",
        "colab": {
          "base_uri": "https://localhost:8080/"
        },
        "outputId": "ad6a062a-05b3-4730-9a6b-6ca33b3e7c09"
      },
      "source": [
        "a.intersection(b)"
      ],
      "execution_count": 16,
      "outputs": [
        {
          "output_type": "execute_result",
          "data": {
            "text/plain": [
              "{3, 4, 5}"
            ]
          },
          "metadata": {},
          "execution_count": 16
        }
      ]
    },
    {
      "cell_type": "markdown",
      "metadata": {
        "id": "NyG_7NRtINeL"
      },
      "source": [
        "### 합집합 (union) ★★★★\n",
        "\n",
        "- 합집합은 집합 A와 B가 주어졌을 때 집합 A, B 요소 모두를 포함하는 것을 말합니다.\n",
        "- `|`기호나 `union()` 메서드를 활용하여 합집합을 구할 수 있습니다."
      ]
    },
    {
      "cell_type": "code",
      "metadata": {
        "id": "H_aTMCt5IP80"
      },
      "source": [
        "a = {1, 2, 3, 4, 5}\n",
        "b = {3, 4, 5, 6, 7}"
      ],
      "execution_count": 17,
      "outputs": []
    },
    {
      "cell_type": "code",
      "metadata": {
        "id": "FBDVTV0dIRPa",
        "colab": {
          "base_uri": "https://localhost:8080/"
        },
        "outputId": "c41eb699-7f89-4e72-d79e-b56d10814ffb"
      },
      "source": [
        "a | b"
      ],
      "execution_count": 18,
      "outputs": [
        {
          "output_type": "execute_result",
          "data": {
            "text/plain": [
              "{1, 2, 3, 4, 5, 6, 7}"
            ]
          },
          "metadata": {},
          "execution_count": 18
        }
      ]
    },
    {
      "cell_type": "code",
      "metadata": {
        "id": "0QY-vz1aISCo",
        "colab": {
          "base_uri": "https://localhost:8080/"
        },
        "outputId": "18f4fd28-f5ee-45c9-9619-bea0fda7a29e"
      },
      "source": [
        "a.union(b)"
      ],
      "execution_count": 19,
      "outputs": [
        {
          "output_type": "execute_result",
          "data": {
            "text/plain": [
              "{1, 2, 3, 4, 5, 6, 7}"
            ]
          },
          "metadata": {},
          "execution_count": 19
        }
      ]
    },
    {
      "cell_type": "markdown",
      "metadata": {
        "id": "yRCAvdyUITN8"
      },
      "source": [
        "### 차집합 (difference)\n",
        "\n",
        "- 두 집합에서, 하나의 집합에 포함되고 다른 집합에는 포함되지 않는 모든 원소의 집합.\n",
        "- `-`연산자를 활용하거나 `difference()` 메서드를 활용하여 구할 수 있습니다."
      ]
    },
    {
      "cell_type": "code",
      "metadata": {
        "id": "VPFeTf2uIZ4M"
      },
      "source": [
        "a = {1, 2, 3, 4, 5}\n",
        "b = {3, 4, 5, 6, 7}"
      ],
      "execution_count": 20,
      "outputs": []
    },
    {
      "cell_type": "markdown",
      "metadata": {
        "id": "YO2wQMsDfHj9"
      },
      "source": [
        "a 집합에서 b 집합을 뺀 차집합"
      ]
    },
    {
      "cell_type": "code",
      "metadata": {
        "id": "TmmXfjyQIV1v",
        "colab": {
          "base_uri": "https://localhost:8080/"
        },
        "outputId": "5747ec48-b63a-4f8c-e977-5a4a993037d6"
      },
      "source": [
        "a - b"
      ],
      "execution_count": 21,
      "outputs": [
        {
          "output_type": "execute_result",
          "data": {
            "text/plain": [
              "{1, 2}"
            ]
          },
          "metadata": {},
          "execution_count": 21
        }
      ]
    },
    {
      "cell_type": "code",
      "metadata": {
        "id": "0cAclQ7ffHj-",
        "colab": {
          "base_uri": "https://localhost:8080/"
        },
        "outputId": "81c04ea4-2866-4c4e-fff1-485feedb0afa"
      },
      "source": [
        "a.difference(b)"
      ],
      "execution_count": 22,
      "outputs": [
        {
          "output_type": "execute_result",
          "data": {
            "text/plain": [
              "{1, 2}"
            ]
          },
          "metadata": {},
          "execution_count": 22
        }
      ]
    },
    {
      "cell_type": "markdown",
      "metadata": {
        "id": "u627p4LnfHj-"
      },
      "source": [
        "b 집합에서 a 집합을 뺀 차집합"
      ]
    },
    {
      "cell_type": "code",
      "metadata": {
        "id": "ZBt4ecBMIXTF",
        "colab": {
          "base_uri": "https://localhost:8080/"
        },
        "outputId": "7bc078cb-a920-45d4-dec3-db2c19aa98fe"
      },
      "source": [
        "b - a"
      ],
      "execution_count": 23,
      "outputs": [
        {
          "output_type": "execute_result",
          "data": {
            "text/plain": [
              "{6, 7}"
            ]
          },
          "metadata": {},
          "execution_count": 23
        }
      ]
    },
    {
      "cell_type": "code",
      "metadata": {
        "id": "bDto9wNEIY6l",
        "colab": {
          "base_uri": "https://localhost:8080/"
        },
        "outputId": "47386483-68f6-47b4-9cc1-36203e762cd8"
      },
      "source": [
        "b.difference(a)"
      ],
      "execution_count": 24,
      "outputs": [
        {
          "output_type": "execute_result",
          "data": {
            "text/plain": [
              "{6, 7}"
            ]
          },
          "metadata": {},
          "execution_count": 24
        }
      ]
    },
    {
      "cell_type": "markdown",
      "metadata": {
        "id": "uZbztgcbJKtH"
      },
      "source": [
        "### 집합의 타입 변환"
      ]
    },
    {
      "cell_type": "markdown",
      "metadata": {
        "id": "3O-164mSI3Di"
      },
      "source": [
        "### set를 list로 변환"
      ]
    },
    {
      "cell_type": "code",
      "metadata": {
        "id": "sbP80B8zI5Md"
      },
      "source": [
        "a = {1, 2, 3, 4, 5}"
      ],
      "execution_count": 25,
      "outputs": []
    },
    {
      "cell_type": "code",
      "metadata": {
        "id": "Tb8NZ8A2I6ve",
        "colab": {
          "base_uri": "https://localhost:8080/"
        },
        "outputId": "1d460f1b-197e-4d95-95c3-e6c58767cafa"
      },
      "source": [
        "type(a)"
      ],
      "execution_count": 26,
      "outputs": [
        {
          "output_type": "execute_result",
          "data": {
            "text/plain": [
              "set"
            ]
          },
          "metadata": {},
          "execution_count": 26
        }
      ]
    },
    {
      "cell_type": "code",
      "metadata": {
        "id": "U3Kkfo2BI7dp"
      },
      "source": [
        "b = list(a)"
      ],
      "execution_count": 28,
      "outputs": []
    },
    {
      "cell_type": "code",
      "metadata": {
        "id": "vwab1DqgI8wc",
        "colab": {
          "base_uri": "https://localhost:8080/"
        },
        "outputId": "6c9ef0fa-550b-4e6b-dbc5-05423643dc70"
      },
      "source": [
        "b"
      ],
      "execution_count": 29,
      "outputs": [
        {
          "output_type": "execute_result",
          "data": {
            "text/plain": [
              "[1, 2, 3, 4, 5]"
            ]
          },
          "metadata": {},
          "execution_count": 29
        }
      ]
    },
    {
      "cell_type": "code",
      "metadata": {
        "id": "7TBYxXk4I9k2",
        "colab": {
          "base_uri": "https://localhost:8080/"
        },
        "outputId": "bd7f66ec-bad1-4a6f-d407-e3aa1c81786f"
      },
      "source": [
        "type(b)"
      ],
      "execution_count": 30,
      "outputs": [
        {
          "output_type": "execute_result",
          "data": {
            "text/plain": [
              "list"
            ]
          },
          "metadata": {},
          "execution_count": 30
        }
      ]
    },
    {
      "cell_type": "markdown",
      "metadata": {
        "id": "7uhFVFrcI-A0"
      },
      "source": [
        "### list를 set로 변환\n",
        "\n",
        "- 중복을 제거할 때 많이 활용합니다."
      ]
    },
    {
      "cell_type": "code",
      "metadata": {
        "id": "8OD92-JeJBRn"
      },
      "source": [
        "a = [1, 1, 1, 2, 2, 2, 3, 3, 3]"
      ],
      "execution_count": 31,
      "outputs": []
    },
    {
      "cell_type": "code",
      "metadata": {
        "id": "RwKir-0uJDvY",
        "colab": {
          "base_uri": "https://localhost:8080/"
        },
        "outputId": "27aa891d-464b-4f79-ce08-a5e092bcab52"
      },
      "source": [
        "a"
      ],
      "execution_count": 32,
      "outputs": [
        {
          "output_type": "execute_result",
          "data": {
            "text/plain": [
              "[1, 1, 1, 2, 2, 2, 3, 3, 3]"
            ]
          },
          "metadata": {},
          "execution_count": 32
        }
      ]
    },
    {
      "cell_type": "code",
      "metadata": {
        "id": "QLGx1LZUJEFF",
        "colab": {
          "base_uri": "https://localhost:8080/"
        },
        "outputId": "13e56f8c-27c6-4f17-aca7-06d7ca15cfd3"
      },
      "source": [
        "type(a)"
      ],
      "execution_count": 33,
      "outputs": [
        {
          "output_type": "execute_result",
          "data": {
            "text/plain": [
              "list"
            ]
          },
          "metadata": {},
          "execution_count": 33
        }
      ]
    },
    {
      "cell_type": "code",
      "metadata": {
        "id": "v-Z_v4AKJE07"
      },
      "source": [
        "b = set(a)"
      ],
      "execution_count": 36,
      "outputs": []
    },
    {
      "cell_type": "code",
      "metadata": {
        "id": "BHTOs9esJFs5",
        "colab": {
          "base_uri": "https://localhost:8080/"
        },
        "outputId": "3db73ee7-1211-48ac-ec75-b89a1db28352"
      },
      "source": [
        "b"
      ],
      "execution_count": 35,
      "outputs": [
        {
          "output_type": "execute_result",
          "data": {
            "text/plain": [
              "{1, 2, 3}"
            ]
          },
          "metadata": {},
          "execution_count": 35
        }
      ]
    },
    {
      "cell_type": "code",
      "metadata": {
        "id": "BaXk-SDEJHIL",
        "colab": {
          "base_uri": "https://localhost:8080/"
        },
        "outputId": "91df25f6-5e87-4dad-ae2c-13cb3292bb71"
      },
      "source": [
        "type(b)"
      ],
      "execution_count": 37,
      "outputs": [
        {
          "output_type": "execute_result",
          "data": {
            "text/plain": [
              "set"
            ]
          },
          "metadata": {},
          "execution_count": 37
        }
      ]
    },
    {
      "cell_type": "markdown",
      "metadata": {
        "id": "5WSZn4cffHkC"
      },
      "source": [
        "b를 다시 list 자료형으로 변환"
      ]
    },
    {
      "cell_type": "code",
      "metadata": {
        "id": "WFYXMU1FfHkC",
        "colab": {
          "base_uri": "https://localhost:8080/"
        },
        "outputId": "245973ab-01cd-4921-b5dd-42153bc4a118"
      },
      "source": [
        "b = list(b)\n",
        "b"
      ],
      "execution_count": 38,
      "outputs": [
        {
          "output_type": "execute_result",
          "data": {
            "text/plain": [
              "[1, 2, 3]"
            ]
          },
          "metadata": {},
          "execution_count": 38
        }
      ]
    },
    {
      "cell_type": "markdown",
      "metadata": {
        "id": "Pp9mxa8PfHkC"
      },
      "source": [
        "### 연습문제 1"
      ]
    },
    {
      "cell_type": "code",
      "metadata": {
        "id": "SZp-Wzw2fHkD",
        "colab": {
          "base_uri": "https://localhost:8080/"
        },
        "outputId": "a1609486-2e64-4dc9-d83d-e864da2f7dde"
      },
      "source": [
        "sample1 = {1, 2, 3, 4, 5}\n",
        "sample2 = {2, 4, 5, 6, 7}\n",
        "\n",
        "print(f'sample1: {sample1}')\n",
        "print(f'sample2: {sample2}')"
      ],
      "execution_count": 39,
      "outputs": [
        {
          "output_type": "stream",
          "name": "stdout",
          "text": [
            "sample1: {1, 2, 3, 4, 5}\n",
            "sample2: {2, 4, 5, 6, 7}\n"
          ]
        }
      ]
    },
    {
      "cell_type": "markdown",
      "metadata": {
        "id": "qqKOpZzefHkD"
      },
      "source": [
        "`sample1` 에 6를 추가합니다."
      ]
    },
    {
      "cell_type": "code",
      "metadata": {
        "id": "3I_SEqQcfHkD",
        "colab": {
          "base_uri": "https://localhost:8080/"
        },
        "outputId": "93d32859-c892-4ded-e8cd-e53e70b88254"
      },
      "source": [
        "# 코드를 입력해 주세요\n",
        "sample1.add(6)\n",
        "sample1"
      ],
      "execution_count": 45,
      "outputs": [
        {
          "output_type": "execute_result",
          "data": {
            "text/plain": [
              "{1, 2, 3, 4, 5, 6}"
            ]
          },
          "metadata": {},
          "execution_count": 45
        }
      ]
    },
    {
      "cell_type": "markdown",
      "metadata": {
        "id": "bFSpaVHifHkD"
      },
      "source": [
        "<p><strong>[출력 결과]</strong></p><pre>{1, 2, 3, 4, 5, 6}</pre>"
      ]
    },
    {
      "cell_type": "markdown",
      "metadata": {
        "id": "wLThMK_kfHkE"
      },
      "source": [
        "`sample2`에 2를 제거합니다."
      ]
    },
    {
      "cell_type": "code",
      "metadata": {
        "id": "rtQrVlbKfHkE",
        "colab": {
          "base_uri": "https://localhost:8080/"
        },
        "outputId": "9accd7ea-3ddc-42c4-9901-6c620b208db6"
      },
      "source": [
        "# 코드를 입력해 주세요\n",
        "sample2.remove(2)\n",
        "sample2"
      ],
      "execution_count": 46,
      "outputs": [
        {
          "output_type": "execute_result",
          "data": {
            "text/plain": [
              "{4, 5, 6, 7}"
            ]
          },
          "metadata": {},
          "execution_count": 46
        }
      ]
    },
    {
      "cell_type": "markdown",
      "metadata": {
        "id": "Wv3VEdADfHkE"
      },
      "source": [
        "<p><strong>[출력 결과]</strong></p><pre>{4, 5, 6, 7}</pre>"
      ]
    },
    {
      "cell_type": "markdown",
      "metadata": {
        "id": "9l-EIh0FfHkE"
      },
      "source": [
        "`sample1`과 `sample2`의 **교집합**을 출력합니다."
      ]
    },
    {
      "cell_type": "code",
      "metadata": {
        "id": "TbBwjFkdfHkE",
        "colab": {
          "base_uri": "https://localhost:8080/"
        },
        "outputId": "8e573539-245d-41ad-ebd2-b5d580a6c0e2"
      },
      "source": [
        "# 코드를 입력해 주세요\n",
        "sample1 & sample2"
      ],
      "execution_count": 48,
      "outputs": [
        {
          "output_type": "execute_result",
          "data": {
            "text/plain": [
              "{4, 5, 6}"
            ]
          },
          "metadata": {},
          "execution_count": 48
        }
      ]
    },
    {
      "cell_type": "code",
      "source": [
        "sample1.intersection(sample2)"
      ],
      "metadata": {
        "colab": {
          "base_uri": "https://localhost:8080/"
        },
        "id": "MO00LiKq-cdv",
        "outputId": "1a3a563a-c207-4f3b-d5d5-7d914e3d4c1f"
      },
      "execution_count": 49,
      "outputs": [
        {
          "output_type": "execute_result",
          "data": {
            "text/plain": [
              "{4, 5, 6}"
            ]
          },
          "metadata": {},
          "execution_count": 49
        }
      ]
    },
    {
      "cell_type": "markdown",
      "metadata": {
        "id": "h_t_ozKLfHkF"
      },
      "source": [
        "<p><strong>[출력 결과]</strong></p><pre>{4, 5, 6}</pre>"
      ]
    },
    {
      "cell_type": "markdown",
      "metadata": {
        "id": "7WewctyofHkF"
      },
      "source": [
        "`sample1`과 `sample2`의 **합집합**을 출력합니다."
      ]
    },
    {
      "cell_type": "code",
      "metadata": {
        "id": "50sBa_uefHkF",
        "colab": {
          "base_uri": "https://localhost:8080/"
        },
        "outputId": "aa0b26e0-9980-4437-c343-ae1c20e4b7a6"
      },
      "source": [
        "# 코드를 입력해 주세요\n",
        "sample1 | sample2"
      ],
      "execution_count": 50,
      "outputs": [
        {
          "output_type": "execute_result",
          "data": {
            "text/plain": [
              "{1, 2, 3, 4, 5, 6, 7}"
            ]
          },
          "metadata": {},
          "execution_count": 50
        }
      ]
    },
    {
      "cell_type": "code",
      "source": [
        "sample1.union(sample2)"
      ],
      "metadata": {
        "colab": {
          "base_uri": "https://localhost:8080/"
        },
        "id": "_eK3t2RA-hx4",
        "outputId": "1df5e0e6-818b-4ade-ad48-8b928cc31d42"
      },
      "execution_count": 51,
      "outputs": [
        {
          "output_type": "execute_result",
          "data": {
            "text/plain": [
              "{1, 2, 3, 4, 5, 6, 7}"
            ]
          },
          "metadata": {},
          "execution_count": 51
        }
      ]
    },
    {
      "cell_type": "markdown",
      "metadata": {
        "id": "tjQdo5lwfHkF"
      },
      "source": [
        "<p><strong>[출력 결과]</strong></p><pre>{1, 2, 3, 4, 5, 6, 7}</pre>"
      ]
    },
    {
      "cell_type": "markdown",
      "metadata": {
        "id": "-yZAS5SKfHkF"
      },
      "source": [
        "`sample1`과 `sample2`의 **차집합**을 활용하여 다음과 같이 출력합니다."
      ]
    },
    {
      "cell_type": "code",
      "metadata": {
        "id": "bFJgIHXLfHkG",
        "colab": {
          "base_uri": "https://localhost:8080/"
        },
        "outputId": "74cc9183-c59e-4417-f47a-a597927c1668"
      },
      "source": [
        "# 코드를 입력해 주세요\n",
        "sample1 - sample2"
      ],
      "execution_count": 52,
      "outputs": [
        {
          "output_type": "execute_result",
          "data": {
            "text/plain": [
              "{1, 2, 3}"
            ]
          },
          "metadata": {},
          "execution_count": 52
        }
      ]
    },
    {
      "cell_type": "code",
      "source": [
        "sample1.difference(sample2)"
      ],
      "metadata": {
        "colab": {
          "base_uri": "https://localhost:8080/"
        },
        "id": "JkuRH351-n-Y",
        "outputId": "7982ad07-598c-4b67-c354-695e8cd2e001"
      },
      "execution_count": 53,
      "outputs": [
        {
          "output_type": "execute_result",
          "data": {
            "text/plain": [
              "{1, 2, 3}"
            ]
          },
          "metadata": {},
          "execution_count": 53
        }
      ]
    },
    {
      "cell_type": "markdown",
      "metadata": {
        "id": "KX9J-qMCfHkG"
      },
      "source": [
        "<p><strong>[출력 결과]</strong></p><pre>{1, 2, 3}</pre>"
      ]
    },
    {
      "cell_type": "markdown",
      "metadata": {
        "id": "24pLdsBX3PXx"
      },
      "source": [
        "### 연습문제 2\n",
        "\n",
        "- 다음 리스트에서 중복된 항목을 제거하세요\n",
        "- 최종 출력 값은 list 형태로 출력하세요"
      ]
    },
    {
      "cell_type": "code",
      "metadata": {
        "id": "6ouc2JmXfHkG"
      },
      "source": [
        "numList = [1, 3, 2, 3, 7, 6, 8, 4, 10, 5, 3, 8, 9]"
      ],
      "execution_count": 57,
      "outputs": []
    },
    {
      "cell_type": "code",
      "metadata": {
        "id": "lLEILpf03PXx",
        "colab": {
          "base_uri": "https://localhost:8080/"
        },
        "outputId": "e9341d3a-d010-4628-d46b-6a1e52eb09eb"
      },
      "source": [
        "# 코드를 입력해 주세요\n",
        "temp = set(numList)\n",
        "type(temp)\n",
        "numList = list(temp)\n",
        "type(numList)\n",
        "print(numList)"
      ],
      "execution_count": 58,
      "outputs": [
        {
          "output_type": "stream",
          "name": "stdout",
          "text": [
            "[1, 2, 3, 4, 5, 6, 7, 8, 9, 10]\n"
          ]
        }
      ]
    },
    {
      "cell_type": "markdown",
      "metadata": {
        "id": "PCXKsaAUfHkH"
      },
      "source": [
        "<p><strong>[출력 결과]</strong></p><pre>[1, 2, 3, 4, 5, 6, 7, 8, 9, 10]</pre>"
      ]
    },
    {
      "cell_type": "markdown",
      "metadata": {
        "id": "57vgLEysYLus"
      },
      "source": [
        "## 딕셔너리(dictionary)\n",
        "\n",
        "- 순서를 가지지 않습니다.\n",
        "- 키(key)와 값(value)의 쌍으로 이루어져 있습니다.\n",
        "- type은 `dict`로 표시 됩니다.\n",
        "- key를 사용하여 값을 조회할 수 있습니다.\n",
        "- 딕셔너리는 **수정, 삭제, 추가가 가능**합니다."
      ]
    },
    {
      "cell_type": "markdown",
      "metadata": {
        "id": "Y1nD5M8IYUh2"
      },
      "source": [
        "### 생성"
      ]
    },
    {
      "cell_type": "code",
      "metadata": {
        "id": "R3WbGCJSa-n_",
        "colab": {
          "base_uri": "https://localhost:8080/"
        },
        "outputId": "0bbb1d2f-7745-4b59-e17b-af898cae8115"
      },
      "source": [
        "mydict = dict()\n",
        "print(type(mydict))\n",
        "mydict"
      ],
      "execution_count": 59,
      "outputs": [
        {
          "output_type": "stream",
          "name": "stdout",
          "text": [
            "<class 'dict'>\n"
          ]
        },
        {
          "output_type": "execute_result",
          "data": {
            "text/plain": [
              "{}"
            ]
          },
          "metadata": {},
          "execution_count": 59
        }
      ]
    },
    {
      "cell_type": "code",
      "metadata": {
        "id": "YK0UF9oIEogm",
        "colab": {
          "base_uri": "https://localhost:8080/"
        },
        "outputId": "65efeabe-58d3-480c-fbdb-33a57f7845eb"
      },
      "source": [
        "mydict = {'a': 1, 'b': 2, 'c': 3} # key : value 형식\n",
        "print(type(mydict))\n",
        "mydict"
      ],
      "execution_count": 60,
      "outputs": [
        {
          "output_type": "stream",
          "name": "stdout",
          "text": [
            "<class 'dict'>\n"
          ]
        },
        {
          "output_type": "execute_result",
          "data": {
            "text/plain": [
              "{'a': 1, 'b': 2, 'c': 3}"
            ]
          },
          "metadata": {},
          "execution_count": 60
        }
      ]
    },
    {
      "cell_type": "markdown",
      "metadata": {
        "id": "SXg13XEzfHkI"
      },
      "source": [
        "딕셔너리는 여러 타입의 key를 가질 수 있습니다."
      ]
    },
    {
      "cell_type": "code",
      "metadata": {
        "id": "pLnzvZ5gfHkI",
        "colab": {
          "base_uri": "https://localhost:8080/"
        },
        "outputId": "00348c6c-22d0-49a3-cd62-3abace240e21"
      },
      "source": [
        "mydict = {'a': 1, '가':2, 100: 3, 3.14: 4, True: 5}\n",
        "mydict"
      ],
      "execution_count": 61,
      "outputs": [
        {
          "output_type": "execute_result",
          "data": {
            "text/plain": [
              "{'a': 1, '가': 2, 100: 3, 3.14: 4, True: 5}"
            ]
          },
          "metadata": {},
          "execution_count": 61
        }
      ]
    },
    {
      "cell_type": "markdown",
      "metadata": {
        "id": "Pb3Z94Y_FV9E"
      },
      "source": [
        "### 값 조회\n",
        "\n",
        "- key 값으로 값을 조회할 수 있습니다."
      ]
    },
    {
      "cell_type": "code",
      "metadata": {
        "id": "MWsYX8Q-fHkI",
        "colab": {
          "base_uri": "https://localhost:8080/"
        },
        "outputId": "6cfdb122-bb30-4dc0-fc00-4cb98588c962"
      },
      "source": [
        "mydict = {'a': 1, '가':2, 100: 3, 3.14: 4, True: 5}\n",
        "mydict"
      ],
      "execution_count": 62,
      "outputs": [
        {
          "output_type": "execute_result",
          "data": {
            "text/plain": [
              "{'a': 1, '가': 2, 100: 3, 3.14: 4, True: 5}"
            ]
          },
          "metadata": {},
          "execution_count": 62
        }
      ]
    },
    {
      "cell_type": "markdown",
      "metadata": {
        "id": "3IrkNb2RfHkJ"
      },
      "source": [
        "key를 지정하여 값을 조회할 수 있습니다."
      ]
    },
    {
      "cell_type": "code",
      "metadata": {
        "id": "LMZjtCWNFZ_n",
        "colab": {
          "base_uri": "https://localhost:8080/"
        },
        "outputId": "df6d78ca-843f-47b0-e68e-5ee24b94665a"
      },
      "source": [
        "mydict['a']"
      ],
      "execution_count": 63,
      "outputs": [
        {
          "output_type": "execute_result",
          "data": {
            "text/plain": [
              "1"
            ]
          },
          "metadata": {},
          "execution_count": 63
        }
      ]
    },
    {
      "cell_type": "markdown",
      "metadata": {
        "id": "twsRAOrCfHkJ"
      },
      "source": [
        "key가 없는 경우 Error가 발생합니다."
      ]
    },
    {
      "cell_type": "code",
      "metadata": {
        "id": "R1tImC2VfHkJ",
        "colab": {
          "base_uri": "https://localhost:8080/",
          "height": 176
        },
        "outputId": "41dab709-3a77-4b7c-8353-4cdd6165d9a5"
      },
      "source": [
        "mydict['b']"
      ],
      "execution_count": 64,
      "outputs": [
        {
          "output_type": "error",
          "ename": "KeyError",
          "evalue": "ignored",
          "traceback": [
            "\u001b[0;31m---------------------------------------------------------------------------\u001b[0m",
            "\u001b[0;31mKeyError\u001b[0m                                  Traceback (most recent call last)",
            "\u001b[0;32m<ipython-input-64-a8dfdc4bddd9>\u001b[0m in \u001b[0;36m<cell line: 1>\u001b[0;34m()\u001b[0m\n\u001b[0;32m----> 1\u001b[0;31m \u001b[0mmydict\u001b[0m\u001b[0;34m[\u001b[0m\u001b[0;34m'b'\u001b[0m\u001b[0;34m]\u001b[0m\u001b[0;34m\u001b[0m\u001b[0;34m\u001b[0m\u001b[0m\n\u001b[0m",
            "\u001b[0;31mKeyError\u001b[0m: 'b'"
          ]
        }
      ]
    },
    {
      "cell_type": "markdown",
      "metadata": {
        "id": "a7DJoQvcfHkK"
      },
      "source": [
        "`get()` 메서드를 활용하여 값을 조회할 수 있습니다."
      ]
    },
    {
      "cell_type": "code",
      "metadata": {
        "id": "xR3ROxIvfHkK",
        "colab": {
          "base_uri": "https://localhost:8080/"
        },
        "outputId": "46fedac4-d176-4596-d3ac-c633e35c29c5"
      },
      "source": [
        "mydict.get('a')"
      ],
      "execution_count": 66,
      "outputs": [
        {
          "output_type": "execute_result",
          "data": {
            "text/plain": [
              "1"
            ]
          },
          "metadata": {},
          "execution_count": 66
        }
      ]
    },
    {
      "cell_type": "markdown",
      "metadata": {
        "id": "6aZF7DOffHkK"
      },
      "source": [
        "`get()`을 사용하면 key가 없는 경우라도 Error가 발생하지 않습니다. 단지 None이 반환됩니다."
      ]
    },
    {
      "cell_type": "code",
      "metadata": {
        "id": "j7rtcL3iF701"
      },
      "source": [
        "mydict.get('b') #아무것도 리턴되지 않음"
      ],
      "execution_count": 68,
      "outputs": []
    },
    {
      "cell_type": "markdown",
      "metadata": {
        "id": "nfD8x2dLfHkK"
      },
      "source": [
        "### keys() : 모든 key 조회"
      ]
    },
    {
      "cell_type": "code",
      "metadata": {
        "id": "3kXqsG5JfHkL",
        "colab": {
          "base_uri": "https://localhost:8080/"
        },
        "outputId": "4a26c4e0-e176-4659-b384-3913cdde7b98"
      },
      "source": [
        "mydict = {'a': 100, 'b': 200, 'c': 300, 'd': 400, 'e': 500}\n",
        "mydict"
      ],
      "execution_count": 69,
      "outputs": [
        {
          "output_type": "execute_result",
          "data": {
            "text/plain": [
              "{'a': 100, 'b': 200, 'c': 300, 'd': 400, 'e': 500}"
            ]
          },
          "metadata": {},
          "execution_count": 69
        }
      ]
    },
    {
      "cell_type": "code",
      "metadata": {
        "id": "Bs-AvLJmfHkL",
        "colab": {
          "base_uri": "https://localhost:8080/"
        },
        "outputId": "f18f396f-265e-49dc-f726-6a29c9f4c7a4"
      },
      "source": [
        "mydict.keys()"
      ],
      "execution_count": 70,
      "outputs": [
        {
          "output_type": "execute_result",
          "data": {
            "text/plain": [
              "dict_keys(['a', 'b', 'c', 'd', 'e'])"
            ]
          },
          "metadata": {},
          "execution_count": 70
        }
      ]
    },
    {
      "cell_type": "markdown",
      "metadata": {
        "id": "kS1F0UkhfHkL"
      },
      "source": [
        "**[참고]** `dict_keys`\n",
        "\n",
        "- `dict_keys`는 리스트(list)가 아닙니다.\n",
        "- 객체(object)로 생성되는데, 이를 list로 변경하기 위해서는 list()로 타입 변환을 하면 됩니다."
      ]
    },
    {
      "cell_type": "code",
      "metadata": {
        "id": "lrxLbJqffHkL",
        "colab": {
          "base_uri": "https://localhost:8080/"
        },
        "outputId": "b00f099f-a9da-4f27-daee-58279abc556a"
      },
      "source": [
        "list(mydict.keys())"
      ],
      "execution_count": 71,
      "outputs": [
        {
          "output_type": "execute_result",
          "data": {
            "text/plain": [
              "['a', 'b', 'c', 'd', 'e']"
            ]
          },
          "metadata": {},
          "execution_count": 71
        }
      ]
    },
    {
      "cell_type": "markdown",
      "metadata": {
        "id": "1dlsp0qefHkL"
      },
      "source": [
        "### values() : 모든 value 조회"
      ]
    },
    {
      "cell_type": "code",
      "metadata": {
        "id": "zfReUVDOfHkM",
        "colab": {
          "base_uri": "https://localhost:8080/"
        },
        "outputId": "e7ec25df-9f1d-4341-bcc0-da6ad8615949"
      },
      "source": [
        "mydict.values()"
      ],
      "execution_count": 72,
      "outputs": [
        {
          "output_type": "execute_result",
          "data": {
            "text/plain": [
              "dict_values([100, 200, 300, 400, 500])"
            ]
          },
          "metadata": {},
          "execution_count": 72
        }
      ]
    },
    {
      "cell_type": "markdown",
      "metadata": {
        "id": "k6IV5379fHkM"
      },
      "source": [
        "### items() : 모든 key, value 조회\n",
        "\n",
        "- key, value가 튜플로 묶여서 조회됩니다."
      ]
    },
    {
      "cell_type": "code",
      "metadata": {
        "id": "y8LPMWkNfHkM",
        "colab": {
          "base_uri": "https://localhost:8080/"
        },
        "outputId": "c00eb8ff-b267-4f2e-dc22-d05aa7118ec8"
      },
      "source": [
        "mydict.items()"
      ],
      "execution_count": 73,
      "outputs": [
        {
          "output_type": "execute_result",
          "data": {
            "text/plain": [
              "dict_items([('a', 100), ('b', 200), ('c', 300), ('d', 400), ('e', 500)])"
            ]
          },
          "metadata": {},
          "execution_count": 73
        }
      ]
    },
    {
      "cell_type": "code",
      "metadata": {
        "id": "l_C-RK_zfHkM",
        "colab": {
          "base_uri": "https://localhost:8080/"
        },
        "outputId": "cdfd7f48-7107-4f83-fc16-584d663ae64c"
      },
      "source": [
        "list(mydict.items())"
      ],
      "execution_count": 74,
      "outputs": [
        {
          "output_type": "execute_result",
          "data": {
            "text/plain": [
              "[('a', 100), ('b', 200), ('c', 300), ('d', 400), ('e', 500)]"
            ]
          },
          "metadata": {},
          "execution_count": 74
        }
      ]
    },
    {
      "cell_type": "markdown",
      "metadata": {
        "id": "gDRNAH0ZGBYo"
      },
      "source": [
        "### key 값의 존재 유무 확인"
      ]
    },
    {
      "cell_type": "code",
      "metadata": {
        "id": "e0q7c_O0GEDF",
        "colab": {
          "base_uri": "https://localhost:8080/"
        },
        "outputId": "4d939607-aa09-4355-f8a0-96db05533d47"
      },
      "source": [
        "'a' in mydict #return type : boolean"
      ],
      "execution_count": 75,
      "outputs": [
        {
          "output_type": "execute_result",
          "data": {
            "text/plain": [
              "True"
            ]
          },
          "metadata": {},
          "execution_count": 75
        }
      ]
    },
    {
      "cell_type": "code",
      "metadata": {
        "id": "cJucPBdhGGKG",
        "colab": {
          "base_uri": "https://localhost:8080/"
        },
        "outputId": "bb09fe94-cf96-4539-8c33-bdc105e13a5a"
      },
      "source": [
        "'f' in mydict"
      ],
      "execution_count": 76,
      "outputs": [
        {
          "output_type": "execute_result",
          "data": {
            "text/plain": [
              "False"
            ]
          },
          "metadata": {},
          "execution_count": 76
        }
      ]
    },
    {
      "cell_type": "markdown",
      "metadata": {
        "id": "aciJNcbDZ9mc"
      },
      "source": [
        "### 값을 추가하기\n",
        "\n",
        "- 새로운 key에 값을 대입하여 추가"
      ]
    },
    {
      "cell_type": "code",
      "metadata": {
        "id": "D-SAZCUHYWuc",
        "colab": {
          "base_uri": "https://localhost:8080/"
        },
        "outputId": "3e1c1517-6be9-4d72-ee4c-d4b07b4bbd63"
      },
      "source": [
        "mydict = dict()\n",
        "mydict"
      ],
      "execution_count": 77,
      "outputs": [
        {
          "output_type": "execute_result",
          "data": {
            "text/plain": [
              "{}"
            ]
          },
          "metadata": {},
          "execution_count": 77
        }
      ]
    },
    {
      "cell_type": "code",
      "metadata": {
        "id": "PfON-IIcYZ_e",
        "colab": {
          "base_uri": "https://localhost:8080/"
        },
        "outputId": "fc6ecb8b-ab22-4c12-c370-44f47a4e7329"
      },
      "source": [
        "mydict['apple'] = 123 #[key] = value\n",
        "mydict['apple']"
      ],
      "execution_count": 78,
      "outputs": [
        {
          "output_type": "execute_result",
          "data": {
            "text/plain": [
              "123"
            ]
          },
          "metadata": {},
          "execution_count": 78
        }
      ]
    },
    {
      "cell_type": "code",
      "metadata": {
        "id": "W47eMGTdYfhM",
        "colab": {
          "base_uri": "https://localhost:8080/"
        },
        "outputId": "7f3d21b0-6b13-46ef-e807-2021f692adec"
      },
      "source": [
        "mydict[0] = 2\n",
        "mydict[0]"
      ],
      "execution_count": 79,
      "outputs": [
        {
          "output_type": "execute_result",
          "data": {
            "text/plain": [
              "2"
            ]
          },
          "metadata": {},
          "execution_count": 79
        }
      ]
    },
    {
      "cell_type": "code",
      "source": [
        "mydict"
      ],
      "metadata": {
        "colab": {
          "base_uri": "https://localhost:8080/"
        },
        "id": "Kw-SidoyKcGN",
        "outputId": "16ab4197-9472-4dd5-9361-12597a92d5e0"
      },
      "execution_count": 80,
      "outputs": [
        {
          "output_type": "execute_result",
          "data": {
            "text/plain": [
              "{'apple': 123, 0: 2}"
            ]
          },
          "metadata": {},
          "execution_count": 80
        }
      ]
    },
    {
      "cell_type": "markdown",
      "metadata": {
        "id": "Pt5Np1QOpU4k"
      },
      "source": [
        "### update() : 다중 업데이트\n",
        "\n",
        "- 값을 한꺼번에 업데이트 합니다."
      ]
    },
    {
      "cell_type": "code",
      "metadata": {
        "id": "_Z4aYpc_fHkP",
        "colab": {
          "base_uri": "https://localhost:8080/"
        },
        "outputId": "8c076921-a43f-4f2d-c3c4-26ad4da87a1f"
      },
      "source": [
        "mydict = {'파인애플': 1500, '망고': 3500, '배': 1000}\n",
        "mydict"
      ],
      "execution_count": 81,
      "outputs": [
        {
          "output_type": "execute_result",
          "data": {
            "text/plain": [
              "{'파인애플': 1500, '망고': 3500, '배': 1000}"
            ]
          },
          "metadata": {},
          "execution_count": 81
        }
      ]
    },
    {
      "cell_type": "code",
      "metadata": {
        "id": "OSOgghKxpXHX"
      },
      "source": [
        "fruit = {\n",
        "    '사과': 2000,\n",
        "    '딸기': 3000,\n",
        "    '수박': 5000,\n",
        "}"
      ],
      "execution_count": 83,
      "outputs": []
    },
    {
      "cell_type": "code",
      "metadata": {
        "id": "zASxN20npmGN",
        "colab": {
          "base_uri": "https://localhost:8080/"
        },
        "outputId": "265d3131-6940-4c10-b20e-5f14e0cfeec4"
      },
      "source": [
        "mydict.update(fruit)\n",
        "mydict"
      ],
      "execution_count": 84,
      "outputs": [
        {
          "output_type": "execute_result",
          "data": {
            "text/plain": [
              "{'파인애플': 1500, '망고': 3500, '배': 1000, '사과': 2000, '딸기': 3000, '수박': 5000}"
            ]
          },
          "metadata": {},
          "execution_count": 84
        }
      ]
    },
    {
      "cell_type": "markdown",
      "metadata": {
        "id": "fJvfGTfDYy8V"
      },
      "source": [
        "### 값 변경\n",
        "\n",
        "- key 값에 새로운 값(value)를 대입하여 값을 변경할 수 있습니다."
      ]
    },
    {
      "cell_type": "code",
      "metadata": {
        "id": "AjXA4ps3fHkP",
        "colab": {
          "base_uri": "https://localhost:8080/"
        },
        "outputId": "60556eb6-0275-4c73-de13-48e6aecbcf3d"
      },
      "source": [
        "mydict = {'a': 100, 'b': 200, 'c': 300, 'd': 400, 'e': 500}\n",
        "mydict"
      ],
      "execution_count": 85,
      "outputs": [
        {
          "output_type": "execute_result",
          "data": {
            "text/plain": [
              "{'a': 100, 'b': 200, 'c': 300, 'd': 400, 'e': 500}"
            ]
          },
          "metadata": {},
          "execution_count": 85
        }
      ]
    },
    {
      "cell_type": "code",
      "metadata": {
        "id": "6Ho7ZevOYpXW"
      },
      "source": [
        "mydict['a'] = 900"
      ],
      "execution_count": 86,
      "outputs": []
    },
    {
      "cell_type": "code",
      "metadata": {
        "id": "oG9LcfG4Ywlw",
        "colab": {
          "base_uri": "https://localhost:8080/"
        },
        "outputId": "ecf21e9b-5a63-4ce7-e2d6-dbb79340781f"
      },
      "source": [
        "mydict"
      ],
      "execution_count": 87,
      "outputs": [
        {
          "output_type": "execute_result",
          "data": {
            "text/plain": [
              "{'a': 900, 'b': 200, 'c': 300, 'd': 400, 'e': 500}"
            ]
          },
          "metadata": {},
          "execution_count": 87
        }
      ]
    },
    {
      "cell_type": "markdown",
      "metadata": {
        "id": "-kLyGYjxE7hz"
      },
      "source": [
        "### 제거하기 / key 제거"
      ]
    },
    {
      "cell_type": "code",
      "metadata": {
        "id": "cLjtPUaAFFbb",
        "colab": {
          "base_uri": "https://localhost:8080/"
        },
        "outputId": "c107a247-a76f-4f33-f297-cbedb2901edb"
      },
      "source": [
        "mydict = {'a': 100, 'b': 200, 'c': 300, 'd': 400, 'e': 500}\n",
        "mydict"
      ],
      "execution_count": 88,
      "outputs": [
        {
          "output_type": "execute_result",
          "data": {
            "text/plain": [
              "{'a': 100, 'b': 200, 'c': 300, 'd': 400, 'e': 500}"
            ]
          },
          "metadata": {},
          "execution_count": 88
        }
      ]
    },
    {
      "cell_type": "markdown",
      "metadata": {
        "id": "bt3Vt5KwfHkR"
      },
      "source": [
        "`del` 값을 제거할 수 있습니다.\n",
        "\n",
        "`del`에 딕셔너리 key를 지정합니다."
      ]
    },
    {
      "cell_type": "code",
      "metadata": {
        "id": "ERB2PC_rFHMI"
      },
      "source": [
        "del mydict['a']"
      ],
      "execution_count": 89,
      "outputs": []
    },
    {
      "cell_type": "code",
      "metadata": {
        "id": "FbytLQk7FQZi",
        "colab": {
          "base_uri": "https://localhost:8080/"
        },
        "outputId": "d766fad6-e861-4a14-e254-acea6b60033e"
      },
      "source": [
        "mydict"
      ],
      "execution_count": 90,
      "outputs": [
        {
          "output_type": "execute_result",
          "data": {
            "text/plain": [
              "{'b': 200, 'c': 300, 'd': 400, 'e': 500}"
            ]
          },
          "metadata": {},
          "execution_count": 90
        }
      ]
    },
    {
      "cell_type": "markdown",
      "metadata": {
        "id": "VHI6XFJQfHkW"
      },
      "source": [
        "`pop()` 에 key를 지정하여 값을 제거할 수 있습니다.\n",
        "\n",
        "제거되는 값의 value를 반환합니다."
      ]
    },
    {
      "cell_type": "code",
      "metadata": {
        "id": "EidmEyoEFKYv",
        "colab": {
          "base_uri": "https://localhost:8080/"
        },
        "outputId": "f01edb6c-c2a1-46fa-8b83-d5b6f27e204f"
      },
      "source": [
        "mydict.pop('b')"
      ],
      "execution_count": 91,
      "outputs": [
        {
          "output_type": "execute_result",
          "data": {
            "text/plain": [
              "200"
            ]
          },
          "metadata": {},
          "execution_count": 91
        }
      ]
    },
    {
      "cell_type": "code",
      "metadata": {
        "id": "Yzyg9i2LFPGI",
        "colab": {
          "base_uri": "https://localhost:8080/"
        },
        "outputId": "303fc5b1-f255-4f6e-80bc-a90b076d6c45"
      },
      "source": [
        "mydict"
      ],
      "execution_count": 92,
      "outputs": [
        {
          "output_type": "execute_result",
          "data": {
            "text/plain": [
              "{'c': 300, 'd': 400, 'e': 500}"
            ]
          },
          "metadata": {},
          "execution_count": 92
        }
      ]
    },
    {
      "cell_type": "markdown",
      "metadata": {
        "id": "0SEF7gLRY_Ik"
      },
      "source": [
        "### len() : 요소의 개수 파악"
      ]
    },
    {
      "cell_type": "code",
      "metadata": {
        "id": "YCAsgXFTZCmh",
        "colab": {
          "base_uri": "https://localhost:8080/"
        },
        "outputId": "15e43cb5-666c-4860-b303-9c4cfd9e0744"
      },
      "source": [
        "len(mydict)"
      ],
      "execution_count": 93,
      "outputs": [
        {
          "output_type": "execute_result",
          "data": {
            "text/plain": [
              "3"
            ]
          },
          "metadata": {},
          "execution_count": 93
        }
      ]
    },
    {
      "cell_type": "markdown",
      "metadata": {
        "id": "K3NzGkvPfHkX"
      },
      "source": [
        "### clear() - 전부 삭제"
      ]
    },
    {
      "cell_type": "code",
      "metadata": {
        "id": "p5W-ARh6fHkX",
        "colab": {
          "base_uri": "https://localhost:8080/"
        },
        "outputId": "bd31ea00-1b12-493a-a61a-40c0a4f430ef"
      },
      "source": [
        "mydict = {'a': 100, 'b': 200, 'c': 300, 'd': 400, 'e': 500}\n",
        "mydict"
      ],
      "execution_count": 94,
      "outputs": [
        {
          "output_type": "execute_result",
          "data": {
            "text/plain": [
              "{'a': 100, 'b': 200, 'c': 300, 'd': 400, 'e': 500}"
            ]
          },
          "metadata": {},
          "execution_count": 94
        }
      ]
    },
    {
      "cell_type": "code",
      "metadata": {
        "id": "n3Pd3H8hfHkX"
      },
      "source": [
        "mydict.clear()"
      ],
      "execution_count": 95,
      "outputs": []
    },
    {
      "cell_type": "code",
      "metadata": {
        "id": "4f9RTbjefHkX",
        "colab": {
          "base_uri": "https://localhost:8080/"
        },
        "outputId": "7c40b3e9-1f19-46d3-8442-b903fadf6dde"
      },
      "source": [
        "mydict"
      ],
      "execution_count": 96,
      "outputs": [
        {
          "output_type": "execute_result",
          "data": {
            "text/plain": [
              "{}"
            ]
          },
          "metadata": {},
          "execution_count": 96
        }
      ]
    },
    {
      "cell_type": "markdown",
      "metadata": {
        "id": "pPl7y7cWsMYB"
      },
      "source": [
        "### 연습문제"
      ]
    },
    {
      "cell_type": "markdown",
      "metadata": {
        "id": "1ZsgKVeV3PXp"
      },
      "source": [
        "- 학생들의 이름과 점수를 key와 value로 가지는 `score` 변수를 생성하세요.\n",
        "    - 하준 90점, 서윤 86점, 지아 80점"
      ]
    },
    {
      "cell_type": "code",
      "metadata": {
        "id": "UWLF-tRb3PXq",
        "colab": {
          "base_uri": "https://localhost:8080/"
        },
        "outputId": "b150ec71-ab5a-4066-dfed-402fde7987d6"
      },
      "source": [
        "# 코드를 입력해 주세요\n",
        "score = {'하준' : 90, '서윤' : 86, '지아' : 80}\n",
        "score"
      ],
      "execution_count": 97,
      "outputs": [
        {
          "output_type": "execute_result",
          "data": {
            "text/plain": [
              "{'하준': 90, '서윤': 86, '지아': 80}"
            ]
          },
          "metadata": {},
          "execution_count": 97
        }
      ]
    },
    {
      "cell_type": "markdown",
      "metadata": {
        "id": "SM02SNxJfHkY"
      },
      "source": [
        "<p><strong>[출력 결과]</strong></p><pre>{'하준': 90, '서윤': 86, '지아': 80}</pre>"
      ]
    },
    {
      "cell_type": "markdown",
      "metadata": {
        "id": "jM32b3t2qbax"
      },
      "source": [
        "score 변수에 수지 95점을 추가하세요."
      ]
    },
    {
      "cell_type": "code",
      "metadata": {
        "id": "KsOqR1HtCtex",
        "colab": {
          "base_uri": "https://localhost:8080/"
        },
        "outputId": "33f4df6d-de9d-48d7-986f-9ca3e2eb89a0"
      },
      "source": [
        "# 코드를 입력해 주세요\n",
        "score['수지'] = 95\n",
        "score"
      ],
      "execution_count": 98,
      "outputs": [
        {
          "output_type": "execute_result",
          "data": {
            "text/plain": [
              "{'하준': 90, '서윤': 86, '지아': 80, '수지': 95}"
            ]
          },
          "metadata": {},
          "execution_count": 98
        }
      ]
    },
    {
      "cell_type": "markdown",
      "metadata": {
        "id": "p4v_-ZO8fHkZ"
      },
      "source": [
        "<p><strong>[출력 결과]</strong></p><pre>{'하준': 90, '서윤': 86, '지아': 80, '수지': 95}</pre>"
      ]
    },
    {
      "cell_type": "markdown",
      "metadata": {
        "id": "UcmPMPS8qeBX"
      },
      "source": [
        "score 변수에서 지아를 삭제하세요."
      ]
    },
    {
      "cell_type": "code",
      "metadata": {
        "id": "r1Xec5mX3PXs",
        "colab": {
          "base_uri": "https://localhost:8080/"
        },
        "outputId": "94d0068b-fc44-4ea8-cab9-7ead54fa8fbb"
      },
      "source": [
        "# 코드를 입력해 주세요\n",
        "del score['지아']\n",
        "score"
      ],
      "execution_count": 99,
      "outputs": [
        {
          "output_type": "execute_result",
          "data": {
            "text/plain": [
              "{'하준': 90, '서윤': 86, '수지': 95}"
            ]
          },
          "metadata": {},
          "execution_count": 99
        }
      ]
    },
    {
      "cell_type": "markdown",
      "metadata": {
        "id": "n5JN2PaKfHkZ"
      },
      "source": [
        "<p><strong>[출력 결과]</strong></p><pre>{'하준': 90, '서윤': 86, '수지': 95}</pre>"
      ]
    },
    {
      "cell_type": "markdown",
      "metadata": {
        "id": "apYvbt9kqhFo"
      },
      "source": [
        "score 변수에 기창 98점, 남철 60점, 기성 75점을 **한번에** 추가하세요.\n",
        "- update() 를 사용하세요"
      ]
    },
    {
      "cell_type": "code",
      "metadata": {
        "id": "y2_7I4ZWrF5-",
        "colab": {
          "base_uri": "https://localhost:8080/"
        },
        "outputId": "9bc560bb-300e-41b2-b3e9-a2c2d65fa175"
      },
      "source": [
        "# 코드를 입력해 주세요\n",
        "temp = {'기창' : 98, '남철' : 60, '기성' : 75}\n",
        "score.update(temp)\n",
        "score"
      ],
      "execution_count": 100,
      "outputs": [
        {
          "output_type": "execute_result",
          "data": {
            "text/plain": [
              "{'하준': 90, '서윤': 86, '수지': 95, '기창': 98, '남철': 60, '기성': 75}"
            ]
          },
          "metadata": {},
          "execution_count": 100
        }
      ]
    },
    {
      "cell_type": "markdown",
      "metadata": {
        "id": "w-MrKynYfHka"
      },
      "source": [
        "<p><strong>[출력 결과]</strong></p><pre>{'하준': 90, '서윤': 86, '수지': 95, '기창': 98, '남철': 60, '기성': 75}</pre>"
      ]
    }
  ]
}