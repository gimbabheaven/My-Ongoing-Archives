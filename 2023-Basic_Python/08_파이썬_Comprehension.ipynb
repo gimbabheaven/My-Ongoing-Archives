{
  "nbformat": 4,
  "nbformat_minor": 0,
  "metadata": {
    "colab": {
      "provenance": [],
      "include_colab_link": true
    },
    "kernelspec": {
      "display_name": "Python 3",
      "language": "python",
      "name": "python3"
    },
    "language_info": {
      "codemirror_mode": {
        "name": "ipython",
        "version": 3
      },
      "file_extension": ".py",
      "mimetype": "text/x-python",
      "name": "python",
      "nbconvert_exporter": "python",
      "pygments_lexer": "ipython3",
      "version": "3.6.9"
    }
  },
  "cells": [
    {
      "cell_type": "markdown",
      "metadata": {
        "id": "view-in-github",
        "colab_type": "text"
      },
      "source": [
        "<a href=\"https://colab.research.google.com/github/gimbabheaven/2023-Basic_Python/blob/master/08_%ED%8C%8C%EC%9D%B4%EC%8D%AC_Comprehension.ipynb\" target=\"_parent\"><img src=\"https://colab.research.google.com/assets/colab-badge.svg\" alt=\"Open In Colab\"/></a>"
      ]
    },
    {
      "cell_type": "markdown",
      "metadata": {
        "id": "n-n5ndyR0qAQ"
      },
      "source": [
        "# Comprehension 문법\n",
        "\n",
        "- 파이썬 고유의 아름다운 문법\n",
        "- 반복문(for ~ in)과 조건문 그리고 변수에 대한 연산까지 모두 갖춘 편리한 문법입니다.\n",
        "- comprehension의 종류로는 `list`, `set`, `dict`등이 존재합니다."
      ]
    },
    {
      "cell_type": "markdown",
      "metadata": {
        "id": "7jkcO6ea1aUH"
      },
      "source": [
        "**[실제 사례 연구]**"
      ]
    },
    {
      "cell_type": "markdown",
      "metadata": {
        "id": "p_lhkuKE12BP"
      },
      "source": [
        "mylist = [1, 2, 3, 4, 5, 6, 7, 8, 9, 10]\n",
        "\n",
        "이라는 list를 만들어 주고 우리는 이 중 짝수만 출력하고 싶을때는 어떻게 했었을까요?"
      ]
    },
    {
      "cell_type": "code",
      "metadata": {
        "id": "hCQjnhjP3My-",
        "colab": {
          "base_uri": "https://localhost:8080/"
        },
        "outputId": "2107ab0c-0084-4997-93ea-d36d05841735"
      },
      "source": [
        "mylist = [1, 2, 3, 4, 5, 6, 7, 8, 9, 10]\n",
        "\n",
        "for i in mylist:\n",
        "    # 짝수 출력을 위한 조건문 생성\n",
        "    if i % 2 == 0:\n",
        "        print(i)"
      ],
      "execution_count": 1,
      "outputs": [
        {
          "output_type": "stream",
          "name": "stdout",
          "text": [
            "2\n",
            "4\n",
            "6\n",
            "8\n",
            "10\n"
          ]
        }
      ]
    },
    {
      "cell_type": "markdown",
      "metadata": {
        "id": "TdQRUzn83UHe"
      },
      "source": [
        "그럼 mylist 이라는 list에서 **짝수**만 따로 list로 만들어 주고 싶을 때는 어떻게 할까요?"
      ]
    },
    {
      "cell_type": "code",
      "metadata": {
        "id": "EL1bUHsy3hjm",
        "colab": {
          "base_uri": "https://localhost:8080/"
        },
        "outputId": "fe1b9514-f89a-43c6-b5d3-faa858e5be1d"
      },
      "source": [
        "mylist = [1, 2, 3, 4, 5, 6, 7, 8, 9, 10]\n",
        "# 짝수를 만들이 위한 빈 리스트 생성\n",
        "even = []\n",
        "\n",
        "for i in mylist:\n",
        "    if i % 2 == 0:\n",
        "        # even 리스트에 값 추가\n",
        "        even.append(i)\n",
        "\n",
        "print(even)"
      ],
      "execution_count": 3,
      "outputs": [
        {
          "output_type": "stream",
          "name": "stdout",
          "text": [
            "[2, 4, 6, 8, 10]\n"
          ]
        }
      ]
    },
    {
      "cell_type": "markdown",
      "metadata": {
        "id": "IXpVuU-w3qlQ"
      },
      "source": [
        "이렇게 for in 문으로 해줄 수 있습니다. 하지만, **comprehension 문법**을 사용하면 **쉽고 간결한 코딩이 가능**합니다."
      ]
    },
    {
      "cell_type": "markdown",
      "metadata": {
        "id": "hHsywfmA3x0u"
      },
      "source": [
        "## comprehension 예시"
      ]
    },
    {
      "cell_type": "code",
      "metadata": {
        "id": "AvtJ5HUg36sG"
      },
      "source": [
        "mylist = [1, 2, 3, 4, 5, 6, 7, 8, 9, 10]"
      ],
      "execution_count": 4,
      "outputs": []
    },
    {
      "cell_type": "markdown",
      "metadata": {
        "id": "n596iPJO4F6p"
      },
      "source": [
        "아래 문법이 바로 list comprehension 입니다. 한 줄로 해결해 버리는 것이 매력이에요"
      ]
    },
    {
      "cell_type": "code",
      "metadata": {
        "id": "OsWyGNsv39-m",
        "colab": {
          "base_uri": "https://localhost:8080/"
        },
        "outputId": "2e1be412-3952-421a-efbb-73999b607e56"
      },
      "source": [
        "even = [i for i in mylist if i % 2 == 0]\n",
        "even"
      ],
      "execution_count": 5,
      "outputs": [
        {
          "output_type": "execute_result",
          "data": {
            "text/plain": [
              "[2, 4, 6, 8, 10]"
            ]
          },
          "metadata": {},
          "execution_count": 5
        }
      ]
    },
    {
      "cell_type": "markdown",
      "metadata": {
        "id": "FgKIRVuZ4NyB"
      },
      "source": [
        "## STEP 1: 반복문 생성"
      ]
    },
    {
      "cell_type": "code",
      "metadata": {
        "id": "qB_ttUIH4R8W",
        "colab": {
          "base_uri": "https://localhost:8080/",
          "height": 141
        },
        "outputId": "81351be2-a7f6-4fd7-d2a2-98473f7e887e"
      },
      "source": [
        "even = [for i in mylist]"
      ],
      "execution_count": 6,
      "outputs": [
        {
          "output_type": "error",
          "ename": "SyntaxError",
          "evalue": "ignored",
          "traceback": [
            "\u001b[0;36m  File \u001b[0;32m\"<ipython-input-6-e69ef2323976>\"\u001b[0;36m, line \u001b[0;32m1\u001b[0m\n\u001b[0;31m    even = [for i in mylist]\u001b[0m\n\u001b[0m            ^\u001b[0m\n\u001b[0;31mSyntaxError\u001b[0m\u001b[0;31m:\u001b[0m invalid syntax\n"
          ]
        }
      ]
    },
    {
      "cell_type": "markdown",
      "metadata": {
        "id": "FaQoTdeH4a1j"
      },
      "source": [
        "반복문 안에서 변수를 맨 앞에 한 번더 선언해 주지 않는다면 당연히 에러가 나게 됩니다.\n",
        "\n",
        "`for i in mylist` 구문에서 반복문을 돌면서 i 값이 return 된다고 생각하고 그 변수를 list에 다시 넣어주는 원리입니다.\n",
        "\n",
        "즉, i를 for 문 맨 앞에 써주세요"
      ]
    },
    {
      "cell_type": "code",
      "metadata": {
        "id": "BB8RGrsU4g3m",
        "colab": {
          "base_uri": "https://localhost:8080/"
        },
        "outputId": "ec079470-ce6f-4de9-fc67-20d4ca9539ed"
      },
      "source": [
        "even = [i for i in mylist]\n",
        "even"
      ],
      "execution_count": 7,
      "outputs": [
        {
          "output_type": "execute_result",
          "data": {
            "text/plain": [
              "[1, 2, 3, 4, 5, 6, 7, 8, 9, 10]"
            ]
          },
          "metadata": {},
          "execution_count": 7
        }
      ]
    },
    {
      "cell_type": "markdown",
      "metadata": {
        "id": "1KsM88nu4xm3"
      },
      "source": [
        "## STEP 2: 조건 필터 추가"
      ]
    },
    {
      "cell_type": "markdown",
      "metadata": {
        "id": "0kmtcaiH47MP"
      },
      "source": [
        "조건문은 for ~ in 구문 **맨 뒤에 추가**하도록 합니다."
      ]
    },
    {
      "cell_type": "markdown",
      "metadata": {
        "id": "LjMHKjAz4_bd"
      },
      "source": [
        "**[i for i in mylist (이곳에 조건문)]**"
      ]
    },
    {
      "cell_type": "code",
      "metadata": {
        "id": "SAhBXVbK5Co0",
        "colab": {
          "base_uri": "https://localhost:8080/"
        },
        "outputId": "5cfcd1f3-c62e-46e8-ca49-faf53fbe211a"
      },
      "source": [
        "[i for i in mylist if i % 2 == 0]"
      ],
      "execution_count": 8,
      "outputs": [
        {
          "output_type": "execute_result",
          "data": {
            "text/plain": [
              "[2, 4, 6, 8, 10]"
            ]
          },
          "metadata": {},
          "execution_count": 8
        }
      ]
    },
    {
      "cell_type": "markdown",
      "metadata": {
        "id": "BDhyGq8a5HBm"
      },
      "source": [
        "자, 이제 `mylist`의 요소 중 짝수만 추출하여 리스트(list)로 만들어 주는 `list comprehension`이 완성되었습니다."
      ]
    },
    {
      "cell_type": "markdown",
      "metadata": {
        "id": "lYGfB5O05aj1"
      },
      "source": [
        "## STEP 3: 변수 값에 별도의 연산 추가"
      ]
    },
    {
      "cell_type": "markdown",
      "metadata": {
        "id": "REj6ihGX5gPV"
      },
      "source": [
        "STEP 2 까지 완성된 짝수만 담는 `list comprehension`을 그대로 가져옵니다."
      ]
    },
    {
      "cell_type": "code",
      "metadata": {
        "id": "MRlIoMbh5inm",
        "colab": {
          "base_uri": "https://localhost:8080/"
        },
        "outputId": "e8442316-cc26-4ebc-af0d-b34c6b03567e"
      },
      "source": [
        "even = [i for i in mylist if i % 2 == 0]\n",
        "even"
      ],
      "execution_count": 9,
      "outputs": [
        {
          "output_type": "execute_result",
          "data": {
            "text/plain": [
              "[2, 4, 6, 8, 10]"
            ]
          },
          "metadata": {},
          "execution_count": 9
        }
      ]
    },
    {
      "cell_type": "markdown",
      "metadata": {
        "id": "RG87dTvZ5lGm"
      },
      "source": [
        "`even` 변수에는 현재 **[2, 4, 6, 8, 10]** 요소가 존재합니다.\n",
        "\n",
        "**모든 값에 제곱** 를 해보도록 하겠습니다.\n",
        "\n",
        "- `i` 변수에 제곱 연산을 추가합니다."
      ]
    },
    {
      "cell_type": "code",
      "metadata": {
        "id": "AMqXNzq05sQN",
        "colab": {
          "base_uri": "https://localhost:8080/"
        },
        "outputId": "9d4466a1-e4d4-459a-9dac-48ec35bf102d"
      },
      "source": [
        "even = [i**2 for i in mylist if i % 2 == 0]\n",
        "even"
      ],
      "execution_count": 10,
      "outputs": [
        {
          "output_type": "execute_result",
          "data": {
            "text/plain": [
              "[4, 16, 36, 64, 100]"
            ]
          },
          "metadata": {},
          "execution_count": 10
        }
      ]
    },
    {
      "cell_type": "markdown",
      "metadata": {
        "id": "Se8e4D966Gp3"
      },
      "source": [
        "## Set Comprehension\n",
        "\n",
        "- `set comprehension`은 comprehension 문법을 세트(set)로 생성합니다.\n",
        "- 괄호를 {}로 생성하면 `set comprehension`이 완성됩니다."
      ]
    },
    {
      "cell_type": "code",
      "metadata": {
        "id": "OOrjKYY76Gp3",
        "colab": {
          "base_uri": "https://localhost:8080/"
        },
        "outputId": "d7cf24d6-14cd-47e3-91ec-071376d63e8e"
      },
      "source": [
        "set_even = {i**2 for i in mylist if i % 2 == 0}\n",
        "set_even"
      ],
      "execution_count": 11,
      "outputs": [
        {
          "output_type": "execute_result",
          "data": {
            "text/plain": [
              "{4, 16, 36, 64, 100}"
            ]
          },
          "metadata": {},
          "execution_count": 11
        }
      ]
    },
    {
      "cell_type": "markdown",
      "metadata": {
        "id": "zPCoVvgE6Gp3"
      },
      "source": [
        "## Dict Comprehension\n",
        "\n",
        "- `dict comprehension`은 comprehension 문법을 활용하여 딕셔너리(dictionary)를 생성합니다.\n",
        "- 괄호는 {}로 생성하고, key:value 형식을 반드시 지정합니다."
      ]
    },
    {
      "cell_type": "code",
      "metadata": {
        "id": "E_PMdokt6Gp3",
        "colab": {
          "base_uri": "https://localhost:8080/"
        },
        "outputId": "075875a1-52f4-4da5-f265-361e653dd038"
      },
      "source": [
        "dict_even = {i:i**2 for i in mylist if i % 2 == 0}\n",
        "dict_even"
      ],
      "execution_count": 12,
      "outputs": [
        {
          "output_type": "execute_result",
          "data": {
            "text/plain": [
              "{2: 4, 4: 16, 6: 36, 8: 64, 10: 100}"
            ]
          },
          "metadata": {},
          "execution_count": 12
        }
      ]
    }
  ]
}