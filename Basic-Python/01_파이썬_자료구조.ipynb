{
  "nbformat": 4,
  "nbformat_minor": 0,
  "metadata": {
    "colab": {
      "provenance": [],
      "include_colab_link": true
    },
    "kernelspec": {
      "display_name": "Python 3",
      "language": "python",
      "name": "python3"
    },
    "language_info": {
      "codemirror_mode": {
        "name": "ipython",
        "version": 3
      },
      "file_extension": ".py",
      "mimetype": "text/x-python",
      "name": "python",
      "nbconvert_exporter": "python",
      "pygments_lexer": "ipython3",
      "version": "3.6.9"
    }
  },
  "cells": [
    {
      "cell_type": "markdown",
      "metadata": {
        "id": "view-in-github",
        "colab_type": "text"
      },
      "source": [
        "<a href=\"https://colab.research.google.com/github/gimbabheaven/2023-Basic_Python/blob/master/01_%ED%8C%8C%EC%9D%B4%EC%8D%AC_%EC%9E%90%EB%A3%8C%EA%B5%AC%EC%A1%B0.ipynb\" target=\"_parent\"><img src=\"https://colab.research.google.com/assets/colab-badge.svg\" alt=\"Open In Colab\"/></a>"
      ]
    },
    {
      "cell_type": "markdown",
      "metadata": {
        "id": "y6_ft113cFUb"
      },
      "source": [
        "## 파이썬의 철학"
      ]
    },
    {
      "cell_type": "code",
      "metadata": {
        "id": "5ySr_77AcFUb"
      },
      "source": [
        "import this"
      ],
      "execution_count": null,
      "outputs": []
    },
    {
      "cell_type": "markdown",
      "metadata": {
        "id": "0aabSnY6jFjM"
      },
      "source": [
        "## print (출력)"
      ]
    },
    {
      "cell_type": "markdown",
      "metadata": {
        "id": "awBY0WQUjIT5"
      },
      "source": [
        "- 첫 단원에서는 **기본 print() 의 출력**만 배웁니다.\n",
        "- 향후 실습 진행을 위한 정도만 배우고, 나중에 문자열 포맷팅에서 더 자세히 다룹니다."
      ]
    },
    {
      "cell_type": "code",
      "metadata": {
        "id": "7s3bLU2LjZ8j"
      },
      "source": [
        "print('오늘 파이썬 배우기 좋은 날이네!')"
      ],
      "execution_count": null,
      "outputs": []
    },
    {
      "cell_type": "code",
      "metadata": {
        "id": "Ux7c-OupjXWA"
      },
      "source": [
        "print(\"오늘은\", \"일요일\")"
      ],
      "execution_count": null,
      "outputs": []
    },
    {
      "cell_type": "code",
      "metadata": {
        "id": "kFtjObXhjZkO"
      },
      "source": [
        "print(1, 2, 3, 4)"
      ],
      "execution_count": null,
      "outputs": []
    },
    {
      "cell_type": "markdown",
      "metadata": {
        "id": "Lz5PVaZTjlFB"
      },
      "source": [
        "**Jupyter Notebook** 셀에서 맨 끝에 위치한 변수, 문자열, 숫자등은 자동으로 출력합니다.\n",
        "\n",
        "3.14, '안녕', 100 이렇게 3개의 값이 있지만, 항상 가장 마지막만 출력됩니다.`ㅡ"
      ]
    },
    {
      "cell_type": "code",
      "metadata": {
        "id": "i_1eYKiljvqh"
      },
      "source": [
        "3.14\n",
        "'안녕'\n",
        "100\n",
        "\n",
        "# 중간에 위치한 문자열 등을 출력하고 싶다면 print()이용\n",
        "# 마지막에 위치한 문자열 등은 print()가 없어도 출력됨\n",
        "3.14\n",
        "print('안녕')\n",
        "100"
      ],
      "execution_count": null,
      "outputs": []
    },
    {
      "cell_type": "markdown",
      "metadata": {
        "id": "DhRp7joQQWjC"
      },
      "source": [
        "## 변수 (Variable)"
      ]
    },
    {
      "cell_type": "markdown",
      "metadata": {
        "id": "jYy2_H0LTTV1"
      },
      "source": [
        "변수는 **데이터를 담는 그릇**이라고 생각하시면 됩니다.\n",
        "\n",
        "변수라는 그릇에 정수를 담을 수도 있고, 긴 글을 담을 수도 있고, file을 담을 수도 있습니다. 우리가 재사용 하기 쉽게 **별명**을 지정해 줬다라고 쉽게 생각하시기 바랍니다."
      ]
    },
    {
      "cell_type": "markdown",
      "metadata": {
        "id": "pXEzU0KYQlFq"
      },
      "source": [
        "### 변수의 이름 규칙 (Rule)\n",
        "\n",
        "다음의 **문자만 사용**할 수 있습니다.\n",
        "- 소문자(a~z)\n",
        "- 대문자(A~Z)\n",
        "- 숫자(0~9)\n",
        "- 한글도 가능\n",
        "- 특수기호는 언더바(_) 만 허용\n",
        "\n",
        "다음의 **규칙**을 가집니다.\n",
        "- 대소 문자를 구분합니다.\n",
        "- 숫자는 맨 처음에 올 수 없습니다.\n",
        "- 예약어(keyword)는 사용할 수 없습니다. (def, if, del, import, return 등등)"
      ]
    },
    {
      "cell_type": "markdown",
      "metadata": {
        "id": "bOx6AZblQ7N5"
      },
      "source": [
        "case 1. 알파벳 (가능) / 대소문자 모두 가능 /심지어 **한글도 가능하나 사용하는 것은 비추**!"
      ]
    },
    {
      "cell_type": "code",
      "metadata": {
        "id": "TIK6Qp5RQ6-k"
      },
      "source": [
        "a = 1"
      ],
      "execution_count": null,
      "outputs": []
    },
    {
      "cell_type": "code",
      "metadata": {
        "id": "Wxpjs5SbSFdV"
      },
      "source": [
        "A = 1"
      ],
      "execution_count": null,
      "outputs": []
    },
    {
      "cell_type": "code",
      "metadata": {
        "id": "Pri05QNBSHD_"
      },
      "source": [
        "변수 = 1"
      ],
      "execution_count": null,
      "outputs": []
    },
    {
      "cell_type": "code",
      "metadata": {
        "id": "FKfXqeQoSIXU",
        "colab": {
          "base_uri": "https://localhost:8080/"
        },
        "outputId": "bae681f9-0851-42e3-dbaa-1213ec000fa1"
      },
      "source": [
        "변수"
      ],
      "execution_count": null,
      "outputs": [
        {
          "output_type": "execute_result",
          "data": {
            "text/plain": [
              "1"
            ]
          },
          "metadata": {},
          "execution_count": 10
        }
      ]
    },
    {
      "cell_type": "markdown",
      "metadata": {
        "id": "nEyz3D-8Quh5"
      },
      "source": [
        "case 2. 알파벳 + 숫자 (가능)"
      ]
    },
    {
      "cell_type": "code",
      "metadata": {
        "id": "XJZFGL3oQk87"
      },
      "source": [
        "a1 = 1"
      ],
      "execution_count": null,
      "outputs": []
    },
    {
      "cell_type": "markdown",
      "metadata": {
        "id": "DMODcJQnRJQU"
      },
      "source": [
        "case 3. 알파벳 + 언더바(_) (가능)"
      ]
    },
    {
      "cell_type": "code",
      "metadata": {
        "id": "iLZ6Bp8PRaay"
      },
      "source": [
        "a_ = 1"
      ],
      "execution_count": null,
      "outputs": []
    },
    {
      "cell_type": "markdown",
      "metadata": {
        "id": "yfz1ox-5Rb0I"
      },
      "source": [
        "case 4. 언더바(_) + 알파벳 (가능))"
      ]
    },
    {
      "cell_type": "code",
      "metadata": {
        "id": "gXKzcmybRizo"
      },
      "source": [
        "_a = 1"
      ],
      "execution_count": null,
      "outputs": []
    },
    {
      "cell_type": "markdown",
      "metadata": {
        "id": "OrfMZBODQkyU"
      },
      "source": [
        "case 5. 숫자 + 알파벳 (불가능)"
      ]
    },
    {
      "cell_type": "code",
      "metadata": {
        "id": "Po0D-oA_QWLq"
      },
      "source": [
        "1a = 1"
      ],
      "execution_count": null,
      "outputs": []
    },
    {
      "cell_type": "markdown",
      "metadata": {
        "id": "cVC_51UAQ4_E"
      },
      "source": [
        "case 6. 특수문자 (불가능)"
      ]
    },
    {
      "cell_type": "code",
      "metadata": {
        "id": "1R5QFrVcRsip"
      },
      "source": [
        "* = 7"
      ],
      "execution_count": null,
      "outputs": []
    },
    {
      "cell_type": "markdown",
      "metadata": {
        "id": "DApK72LyRuWk"
      },
      "source": [
        "case 7. 언더바를 제외한 특수문자 (불가능)"
      ]
    },
    {
      "cell_type": "code",
      "metadata": {
        "id": "ib-k4vjZRuKR"
      },
      "source": [
        "a$ = 6"
      ],
      "execution_count": null,
      "outputs": []
    },
    {
      "cell_type": "markdown",
      "metadata": {
        "id": "C4N7rPjenZfj"
      },
      "source": [
        "case 8. 변수의 이름 사이의 공백 (불가능)"
      ]
    },
    {
      "cell_type": "code",
      "metadata": {
        "id": "t0noa6EOngJc"
      },
      "source": [
        "a b = 6"
      ],
      "execution_count": null,
      "outputs": []
    },
    {
      "cell_type": "markdown",
      "metadata": {
        "id": "Zi16utkrSWUB"
      },
      "source": [
        "주로 변수는 **소문자 알파벳으로 생성**하고, 필요시 **언더바**나 **숫자를 붙히는 방식**이 일반적입니다."
      ]
    },
    {
      "cell_type": "code",
      "metadata": {
        "id": "7um-fqf7R7gl"
      },
      "source": [
        "test = 10"
      ],
      "execution_count": null,
      "outputs": []
    },
    {
      "cell_type": "code",
      "metadata": {
        "id": "niBpyRtkSmIq"
      },
      "source": [
        "test01 = 20"
      ],
      "execution_count": null,
      "outputs": []
    },
    {
      "cell_type": "code",
      "metadata": {
        "id": "01krOD1tSprV"
      },
      "source": [
        "test_01 = 30"
      ],
      "execution_count": null,
      "outputs": []
    },
    {
      "cell_type": "markdown",
      "metadata": {
        "id": "e3jWuNkIFf52"
      },
      "source": [
        "## 데이터 타입 (Data Type)\n",
        "\n",
        "자료형태(자료형), 자료구조라고도 불리웁니다."
      ]
    },
    {
      "cell_type": "markdown",
      "metadata": {
        "id": "XG1zmhr-GLBP"
      },
      "source": [
        "**주요 데이터 타입(type)**\n",
        "\n",
        "1. `int` (정수): Integer(정수)의 약어이며, 정수를 나타내는 자료형입니다.\n",
        "2. `float` (실수): Floating point의 약어이며, 소수점이 있는 숫자를 나타내는 자료형입니다.\n",
        "3. `str` (문자열): 문자를 나타내는 자료형입니다. 작은 따옴표 혹은 큰 따옴표로 감싸져 있습니다.\n",
        "4. `bool` (참/거짓): 참 또는 거짓을 나타내는 자료형입니다. True, False에서 T와 F는 반드시 대문자로 표기해야 합니다."
      ]
    },
    {
      "cell_type": "markdown",
      "metadata": {
        "id": "YBYZV7sUvqG9"
      },
      "source": [
        "type()"
      ]
    },
    {
      "cell_type": "markdown",
      "metadata": {
        "id": "HcxiywnGvrky"
      },
      "source": [
        "type 함수를 활용하여 데이터의 타입을 알아 볼 수 있습니다."
      ]
    },
    {
      "cell_type": "code",
      "metadata": {
        "id": "jCaILKrVvyC3",
        "colab": {
          "base_uri": "https://localhost:8080/"
        },
        "outputId": "d98fda96-9534-4220-88cc-746801d72620"
      },
      "source": [
        "type(1)"
      ],
      "execution_count": 1,
      "outputs": [
        {
          "output_type": "execute_result",
          "data": {
            "text/plain": [
              "int"
            ]
          },
          "metadata": {},
          "execution_count": 1
        }
      ]
    },
    {
      "cell_type": "code",
      "metadata": {
        "id": "oq8Q46j4vzFc",
        "colab": {
          "base_uri": "https://localhost:8080/"
        },
        "outputId": "62b300b6-422f-4dd5-ea48-dfad193c5858"
      },
      "source": [
        "type(3.14)"
      ],
      "execution_count": 2,
      "outputs": [
        {
          "output_type": "execute_result",
          "data": {
            "text/plain": [
              "float"
            ]
          },
          "metadata": {},
          "execution_count": 2
        }
      ]
    },
    {
      "cell_type": "code",
      "metadata": {
        "id": "rvpoQejsv0eT"
      },
      "source": [
        "type(\"안녕\")"
      ],
      "execution_count": null,
      "outputs": []
    },
    {
      "cell_type": "code",
      "metadata": {
        "id": "was4wayTv2G5"
      },
      "source": [
        "type(True)"
      ],
      "execution_count": null,
      "outputs": []
    },
    {
      "cell_type": "markdown",
      "metadata": {
        "id": "QHYQ09XIGg1_"
      },
      "source": [
        "## int (정수)\n",
        "\n",
        "Integer(정수)의 약어이며, 정수를 나타내는 자료형입니다."
      ]
    },
    {
      "cell_type": "code",
      "metadata": {
        "id": "y1cPV_XxFrkb"
      },
      "source": [
        "a = 1"
      ],
      "execution_count": null,
      "outputs": []
    },
    {
      "cell_type": "code",
      "metadata": {
        "id": "5jgHwf8wyeLZ"
      },
      "source": [
        "print(a)"
      ],
      "execution_count": null,
      "outputs": []
    },
    {
      "cell_type": "markdown",
      "metadata": {
        "id": "rg6q9SSXyjg1"
      },
      "source": [
        "**type 확인**"
      ]
    },
    {
      "cell_type": "code",
      "metadata": {
        "id": "At5R-m--FuuR"
      },
      "source": [
        "type(a)"
      ],
      "execution_count": null,
      "outputs": []
    },
    {
      "cell_type": "markdown",
      "metadata": {
        "id": "qOJu5f5kGjpf"
      },
      "source": [
        "## float (실수)\n",
        "\n",
        "Floating point의 약어이며, 소수점이 있는 숫자를 나타내는 자료형입니다."
      ]
    },
    {
      "cell_type": "code",
      "metadata": {
        "id": "4N-NaYDdGlTF"
      },
      "source": [
        "a = 3.14"
      ],
      "execution_count": null,
      "outputs": []
    },
    {
      "cell_type": "code",
      "metadata": {
        "id": "9wJn_P-roVh9"
      },
      "source": [
        "print(a)"
      ],
      "execution_count": null,
      "outputs": []
    },
    {
      "cell_type": "markdown",
      "metadata": {
        "id": "YDnumuaTyZ6Z"
      },
      "source": [
        "**type 확인**"
      ]
    },
    {
      "cell_type": "code",
      "metadata": {
        "id": "brYxR59nybX0"
      },
      "source": [
        "type(a)"
      ],
      "execution_count": null,
      "outputs": []
    },
    {
      "cell_type": "markdown",
      "metadata": {
        "id": "5sc68iMeGpJO"
      },
      "source": [
        "## str (문자열)\n",
        "\n",
        "문자를 나타내는 자료형입니다. 작은 따옴표 혹은 큰 따옴표로 감싸져 있습니다."
      ]
    },
    {
      "cell_type": "markdown",
      "metadata": {
        "id": "oDBZSyefxH2_"
      },
      "source": [
        "**작은 따옴표 '  '** 사이에 문자를 입력한 경우"
      ]
    },
    {
      "cell_type": "code",
      "metadata": {
        "id": "cosCc_J0Fv8l"
      },
      "source": [
        "word = '안녕하세요'"
      ],
      "execution_count": null,
      "outputs": []
    },
    {
      "cell_type": "code",
      "metadata": {
        "id": "Cr20488IxmXD"
      },
      "source": [
        "word"
      ],
      "execution_count": null,
      "outputs": []
    },
    {
      "cell_type": "markdown",
      "metadata": {
        "id": "ZFyH-jAdcFUm"
      },
      "source": [
        "**type 확인**"
      ]
    },
    {
      "cell_type": "code",
      "metadata": {
        "id": "p8Sm3D0BcFUm"
      },
      "source": [
        "type(word)"
      ],
      "execution_count": null,
      "outputs": []
    },
    {
      "cell_type": "markdown",
      "metadata": {
        "id": "JMnmYcx1xMPh"
      },
      "source": [
        "**큰 따옴표 \"  \"** 사이에 문자를 입력한 경우"
      ]
    },
    {
      "cell_type": "code",
      "metadata": {
        "id": "1S7b3MedofHY"
      },
      "source": [
        "word = \"안녕하세요\""
      ],
      "execution_count": null,
      "outputs": []
    },
    {
      "cell_type": "code",
      "source": [
        "type(word)"
      ],
      "metadata": {
        "colab": {
          "base_uri": "https://localhost:8080/",
          "height": 166
        },
        "id": "47rDOdee3eCn",
        "outputId": "8364adbf-05aa-4f7e-ac81-03fee8a51879"
      },
      "execution_count": 3,
      "outputs": [
        {
          "output_type": "error",
          "ename": "NameError",
          "evalue": "ignored",
          "traceback": [
            "\u001b[0;31m---------------------------------------------------------------------------\u001b[0m",
            "\u001b[0;31mNameError\u001b[0m                                 Traceback (most recent call last)",
            "\u001b[0;32m<ipython-input-3-677ae5b185a7>\u001b[0m in \u001b[0;36m<cell line: 1>\u001b[0;34m()\u001b[0m\n\u001b[0;32m----> 1\u001b[0;31m \u001b[0mtype\u001b[0m\u001b[0;34m(\u001b[0m\u001b[0mword\u001b[0m\u001b[0;34m)\u001b[0m\u001b[0;34m\u001b[0m\u001b[0;34m\u001b[0m\u001b[0m\n\u001b[0m",
            "\u001b[0;31mNameError\u001b[0m: name 'word' is not defined"
          ]
        }
      ]
    },
    {
      "cell_type": "code",
      "metadata": {
        "id": "1b-NCWmwxlc-"
      },
      "source": [
        "word"
      ],
      "execution_count": null,
      "outputs": []
    },
    {
      "cell_type": "markdown",
      "metadata": {
        "id": "l4mipCwpcFUm"
      },
      "source": [
        "**여러 줄에 입력하고 싶을 때는 어떻게 해야하나요?**"
      ]
    },
    {
      "cell_type": "markdown",
      "metadata": {
        "id": "z867VOtKxpE8"
      },
      "source": [
        "**작은 따옴표 '''  '''** 3개를 연속해서 사용한 경우\n",
        "\n",
        "- 작은 따옴표나 큰 따옴표 3개를 연속해서 사용시 여러 줄에 나누어 문장을 입력할 수 있습니다."
      ]
    },
    {
      "cell_type": "code",
      "metadata": {
        "id": "Jw4PhisixyKm"
      },
      "source": [
        "word = '''안녕하세요\n",
        "반\n",
        "갑\n",
        "습\n",
        "니다.\n",
        "'''"
      ],
      "execution_count": 4,
      "outputs": []
    },
    {
      "cell_type": "code",
      "metadata": {
        "id": "ke7J6qhox2Kg",
        "colab": {
          "base_uri": "https://localhost:8080/"
        },
        "outputId": "17d2cf40-edad-4f47-8ded-bcd1d8e54cfe"
      },
      "source": [
        "print(word)"
      ],
      "execution_count": 5,
      "outputs": [
        {
          "output_type": "stream",
          "name": "stdout",
          "text": [
            "안녕하세요\n",
            "반\n",
            "갑\n",
            "습\n",
            "니다.\n",
            "\n"
          ]
        }
      ]
    },
    {
      "cell_type": "markdown",
      "metadata": {
        "id": "DxZ6aOJDxWMo"
      },
      "source": [
        "**큰 따옴표 \"\"\"  \"\"\"** 3개를 연속해서 사용한 경우"
      ]
    },
    {
      "cell_type": "code",
      "metadata": {
        "id": "n78ln2Haxbih"
      },
      "source": [
        "word = \"\"\"안녕하세요\n",
        "반\n",
        "갑\n",
        "습\n",
        "니다.\n",
        "\"\"\""
      ],
      "execution_count": null,
      "outputs": []
    },
    {
      "cell_type": "code",
      "metadata": {
        "id": "pbbnjFhlxj5e"
      },
      "source": [
        "print(word)"
      ],
      "execution_count": null,
      "outputs": []
    },
    {
      "cell_type": "markdown",
      "metadata": {
        "id": "cHsbWm-2yCUU"
      },
      "source": [
        "**type 확인**"
      ]
    },
    {
      "cell_type": "code",
      "metadata": {
        "id": "8h_mSzprGr0M"
      },
      "source": [
        "type(word)"
      ],
      "execution_count": null,
      "outputs": []
    },
    {
      "cell_type": "markdown",
      "metadata": {
        "id": "v867uiHyF8nE"
      },
      "source": [
        "## bool (참/거짓)\n",
        "\n",
        "참 또는 거짓을 나타내는 자료형입니다. True, False에서 T와 F는 **반드시 대문자로 표기**해야 합니다."
      ]
    },
    {
      "cell_type": "code",
      "metadata": {
        "id": "cj28ZTzLQNrV"
      },
      "source": [
        "a = False"
      ],
      "execution_count": 6,
      "outputs": []
    },
    {
      "cell_type": "code",
      "metadata": {
        "id": "nJayiV8HQP2S",
        "colab": {
          "base_uri": "https://localhost:8080/"
        },
        "outputId": "7fd26003-a97e-4c13-9bd0-b8f0d74df41c"
      },
      "source": [
        "print(a)"
      ],
      "execution_count": 7,
      "outputs": [
        {
          "output_type": "stream",
          "name": "stdout",
          "text": [
            "False\n"
          ]
        }
      ]
    },
    {
      "cell_type": "markdown",
      "metadata": {
        "id": "7jUYm08YcFUo"
      },
      "source": [
        "**type 확인**"
      ]
    },
    {
      "cell_type": "code",
      "metadata": {
        "id": "BjqVUKfmcFUo",
        "colab": {
          "base_uri": "https://localhost:8080/"
        },
        "outputId": "6de6536c-fb6d-41e8-ce5f-de07cf188d8f"
      },
      "source": [
        "type(False)"
      ],
      "execution_count": 8,
      "outputs": [
        {
          "output_type": "execute_result",
          "data": {
            "text/plain": [
              "bool"
            ]
          },
          "metadata": {},
          "execution_count": 8
        }
      ]
    },
    {
      "cell_type": "markdown",
      "metadata": {
        "id": "54k40G11awDe"
      },
      "source": [
        "* 정수 1은 `True`\n",
        "* 정수 0은 `False`"
      ]
    },
    {
      "cell_type": "markdown",
      "metadata": {
        "id": "oea4i98lcFUp"
      },
      "source": [
        "비교 연산자는 추후에 배우게 됩니다.\n",
        "\n",
        "파이썬에서는 **\"같다\"** 비교를 **\"==\"** 기호로 합니다."
      ]
    },
    {
      "cell_type": "code",
      "metadata": {
        "id": "corNodwUyMDM",
        "colab": {
          "base_uri": "https://localhost:8080/"
        },
        "outputId": "d2dcd35c-3a02-4e2f-c5f3-742f173b608d"
      },
      "source": [
        "1 == True"
      ],
      "execution_count": 9,
      "outputs": [
        {
          "output_type": "execute_result",
          "data": {
            "text/plain": [
              "True"
            ]
          },
          "metadata": {},
          "execution_count": 9
        }
      ]
    },
    {
      "cell_type": "code",
      "metadata": {
        "id": "-liXhXbSQQUj"
      },
      "source": [
        "0 == False"
      ],
      "execution_count": null,
      "outputs": []
    },
    {
      "cell_type": "markdown",
      "metadata": {
        "id": "lwifkFyyyRN9"
      },
      "source": [
        "**type 확인**"
      ]
    },
    {
      "cell_type": "code",
      "metadata": {
        "id": "ZMF44VAqyTuC"
      },
      "source": [
        "type(True)"
      ],
      "execution_count": null,
      "outputs": []
    },
    {
      "cell_type": "markdown",
      "metadata": {
        "id": "oBWsyhdR2Mc5"
      },
      "source": [
        "## 아무것도 아닌 None 타입"
      ]
    },
    {
      "cell_type": "markdown",
      "metadata": {
        "id": "G0DtMj4R2Vte"
      },
      "source": [
        "말 그래도 아무 것도 아닌 흔히 Null 값을 넣는다고도 합니다.\n",
        "\n",
        "사전상 의미는<br>\n",
        "* **Null: Nullify (무효화하다)**\n",
        "라는 뜻을 가지고 있다네요~\n",
        "\n",
        "python에서는 **None** 입니다!"
      ]
    },
    {
      "cell_type": "code",
      "metadata": {
        "id": "rFrHjjC22MMA"
      },
      "source": [
        "a = None"
      ],
      "execution_count": 10,
      "outputs": []
    },
    {
      "cell_type": "markdown",
      "metadata": {
        "id": "uEnzzXN9cFUq"
      },
      "source": [
        "**type 확인**"
      ]
    },
    {
      "cell_type": "code",
      "metadata": {
        "id": "ABzXxy-EpVll",
        "colab": {
          "base_uri": "https://localhost:8080/"
        },
        "outputId": "3885d3c1-de80-4eba-d090-37ba0716849b"
      },
      "source": [
        "type(a)"
      ],
      "execution_count": 11,
      "outputs": [
        {
          "output_type": "execute_result",
          "data": {
            "text/plain": [
              "NoneType"
            ]
          },
          "metadata": {},
          "execution_count": 11
        }
      ]
    },
    {
      "cell_type": "code",
      "metadata": {
        "id": "PpO_s24z2R5u",
        "colab": {
          "base_uri": "https://localhost:8080/"
        },
        "outputId": "d0a6e0ae-6736-46eb-88d0-cd61f451eb3d"
      },
      "source": [
        "print(a)"
      ],
      "execution_count": 12,
      "outputs": [
        {
          "output_type": "stream",
          "name": "stdout",
          "text": [
            "None\n"
          ]
        }
      ]
    },
    {
      "cell_type": "markdown",
      "metadata": {
        "id": "tkwBhMqAGq9S"
      },
      "source": [
        "# 타입 변환"
      ]
    },
    {
      "cell_type": "markdown",
      "metadata": {
        "id": "Gu3kD-3AcFUq"
      },
      "source": [
        "`int`를 `float`로 변환한 경우"
      ]
    },
    {
      "cell_type": "code",
      "metadata": {
        "id": "34hJc-g8GqlH"
      },
      "source": [
        "a = 1"
      ],
      "execution_count": 15,
      "outputs": []
    },
    {
      "cell_type": "code",
      "metadata": {
        "id": "ZsS9iQBWGu8n",
        "colab": {
          "base_uri": "https://localhost:8080/"
        },
        "outputId": "6aab8eba-8f28-4757-b393-45101df7869f"
      },
      "source": [
        "type(a)"
      ],
      "execution_count": 16,
      "outputs": [
        {
          "output_type": "execute_result",
          "data": {
            "text/plain": [
              "int"
            ]
          },
          "metadata": {},
          "execution_count": 16
        }
      ]
    },
    {
      "cell_type": "code",
      "metadata": {
        "id": "gPJc_onWGxHt",
        "colab": {
          "base_uri": "https://localhost:8080/"
        },
        "outputId": "7acb6bd2-6308-4ae9-84ab-4efa3e15f9c1"
      },
      "source": [
        "float(a)"
      ],
      "execution_count": 17,
      "outputs": [
        {
          "output_type": "execute_result",
          "data": {
            "text/plain": [
              "1.0"
            ]
          },
          "metadata": {},
          "execution_count": 17
        }
      ]
    },
    {
      "cell_type": "markdown",
      "metadata": {
        "id": "16xqQkl_cFUr"
      },
      "source": [
        "`float`를 `int`로 변환한 경우\n",
        "\n",
        "- float를 int로 변환시 반올림이 아닌 값이 버림되어 집니다. (소수점 이하 절삭)"
      ]
    },
    {
      "cell_type": "code",
      "metadata": {
        "id": "SBAX3lUzGyvJ"
      },
      "source": [
        "b = 3.99"
      ],
      "execution_count": 18,
      "outputs": []
    },
    {
      "cell_type": "code",
      "source": [
        "print(b)"
      ],
      "metadata": {
        "colab": {
          "base_uri": "https://localhost:8080/"
        },
        "id": "7zObPnOC4zEP",
        "outputId": "785ead7f-f17d-495c-9636-183bad450f5f"
      },
      "execution_count": 20,
      "outputs": [
        {
          "output_type": "stream",
          "name": "stdout",
          "text": [
            "3.99\n"
          ]
        }
      ]
    },
    {
      "cell_type": "code",
      "metadata": {
        "id": "LAcL_eO1G14L",
        "colab": {
          "base_uri": "https://localhost:8080/"
        },
        "outputId": "f119bf66-5a86-4b38-9f02-459c591ed554"
      },
      "source": [
        "int(b)"
      ],
      "execution_count": 21,
      "outputs": [
        {
          "output_type": "execute_result",
          "data": {
            "text/plain": [
              "3"
            ]
          },
          "metadata": {},
          "execution_count": 21
        }
      ]
    },
    {
      "cell_type": "markdown",
      "metadata": {
        "id": "zKIcstZVcFUr"
      },
      "source": [
        "`bool`을 `int`로 변환한 경우"
      ]
    },
    {
      "cell_type": "code",
      "metadata": {
        "id": "3p_Q1mw5G4Va"
      },
      "source": [
        "c = True"
      ],
      "execution_count": null,
      "outputs": []
    },
    {
      "cell_type": "code",
      "metadata": {
        "id": "gJ2Ahcc1G8JW"
      },
      "source": [
        "int(c)"
      ],
      "execution_count": null,
      "outputs": []
    },
    {
      "cell_type": "code",
      "metadata": {
        "id": "3PUPM9GiG9mw"
      },
      "source": [
        "d = False"
      ],
      "execution_count": null,
      "outputs": []
    },
    {
      "cell_type": "code",
      "metadata": {
        "id": "Rh3IZO91G-_t"
      },
      "source": [
        "int(d)"
      ],
      "execution_count": null,
      "outputs": []
    },
    {
      "cell_type": "markdown",
      "metadata": {
        "id": "FUtjn3GOcFUs"
      },
      "source": [
        "`bool`을 `float`로 변환한 경우"
      ]
    },
    {
      "cell_type": "code",
      "metadata": {
        "id": "nTFtfEojHBOm",
        "colab": {
          "base_uri": "https://localhost:8080/"
        },
        "outputId": "b6c450ab-f6c7-4eef-cd7b-903c0cbf2082"
      },
      "source": [
        "float(True)"
      ],
      "execution_count": 22,
      "outputs": [
        {
          "output_type": "execute_result",
          "data": {
            "text/plain": [
              "1.0"
            ]
          },
          "metadata": {},
          "execution_count": 22
        }
      ]
    },
    {
      "cell_type": "markdown",
      "metadata": {
        "id": "ux57MmP0cFUs"
      },
      "source": [
        "파이썬에서 **0이 아닌 값은 모두 True로 간주**한다."
      ]
    },
    {
      "cell_type": "code",
      "metadata": {
        "id": "YMQY1HTicFUt"
      },
      "source": [
        "bool(1)"
      ],
      "execution_count": null,
      "outputs": []
    },
    {
      "cell_type": "code",
      "metadata": {
        "id": "UuWFM0UVcFUt",
        "colab": {
          "base_uri": "https://localhost:8080/"
        },
        "outputId": "69fd8da4-5bf7-41e6-e871-931496bb2e3a"
      },
      "source": [
        "bool(-10)"
      ],
      "execution_count": 23,
      "outputs": [
        {
          "output_type": "execute_result",
          "data": {
            "text/plain": [
              "True"
            ]
          },
          "metadata": {},
          "execution_count": 23
        }
      ]
    },
    {
      "cell_type": "code",
      "metadata": {
        "id": "AMjQCjZ8cFUt",
        "colab": {
          "base_uri": "https://localhost:8080/"
        },
        "outputId": "c9117843-5ab0-4633-aa36-ac10d044f620"
      },
      "source": [
        "bool(3.14)"
      ],
      "execution_count": 24,
      "outputs": [
        {
          "output_type": "execute_result",
          "data": {
            "text/plain": [
              "True"
            ]
          },
          "metadata": {},
          "execution_count": 24
        }
      ]
    },
    {
      "cell_type": "code",
      "metadata": {
        "id": "sECW3peAcFUt",
        "colab": {
          "base_uri": "https://localhost:8080/"
        },
        "outputId": "c40f1c7d-1d3f-4415-b942-13673ccc45d2"
      },
      "source": [
        "bool(0)"
      ],
      "execution_count": 25,
      "outputs": [
        {
          "output_type": "execute_result",
          "data": {
            "text/plain": [
              "False"
            ]
          },
          "metadata": {},
          "execution_count": 25
        }
      ]
    },
    {
      "cell_type": "code",
      "metadata": {
        "id": "OaF3Mq7IcFUt"
      },
      "source": [
        "bool(0.0)"
      ],
      "execution_count": null,
      "outputs": []
    },
    {
      "cell_type": "markdown",
      "metadata": {
        "id": "T_A32Do8cFUt"
      },
      "source": [
        "## 연습문제"
      ]
    },
    {
      "cell_type": "markdown",
      "metadata": {
        "id": "rEVoUwp0cFUu"
      },
      "source": [
        "다음과 같이 출력 되도록 코드를 작성하세요"
      ]
    },
    {
      "cell_type": "markdown",
      "metadata": {
        "id": "dkt2mXNUcFUu"
      },
      "source": [
        "### Q1: Type 확인"
      ]
    },
    {
      "cell_type": "code",
      "metadata": {
        "id": "zSxjHyFycFUu"
      },
      "source": [
        "a = 3.14"
      ],
      "execution_count": 27,
      "outputs": []
    },
    {
      "cell_type": "markdown",
      "metadata": {
        "id": "ZN9iLle9cFUu"
      },
      "source": [
        "타입을 확인해 주세요"
      ]
    },
    {
      "cell_type": "code",
      "metadata": {
        "id": "0tFToaW3cFUu",
        "colab": {
          "base_uri": "https://localhost:8080/"
        },
        "outputId": "650a8985-d9b3-4bef-adc7-7fd2ffa5b358"
      },
      "source": [
        "type(a)\n"
      ],
      "execution_count": 28,
      "outputs": [
        {
          "output_type": "execute_result",
          "data": {
            "text/plain": [
              "float"
            ]
          },
          "metadata": {},
          "execution_count": 28
        }
      ]
    },
    {
      "cell_type": "markdown",
      "metadata": {
        "id": "icd9ggFRcFUu"
      },
      "source": [
        "<p><strong>[출력 결과]</strong></p><pre>float</pre>"
      ]
    },
    {
      "cell_type": "markdown",
      "metadata": {
        "id": "HGS3-WsecFUu"
      },
      "source": [
        "### Q2: Type 변경"
      ]
    },
    {
      "cell_type": "code",
      "metadata": {
        "id": "kpICi6grcFUv"
      },
      "source": [
        "a = 1"
      ],
      "execution_count": 29,
      "outputs": []
    },
    {
      "cell_type": "markdown",
      "metadata": {
        "id": "J9OHEI7ocFUv"
      },
      "source": [
        "타입을 변경해 주세요"
      ]
    },
    {
      "cell_type": "code",
      "metadata": {
        "id": "Ehp-QfswcFUv",
        "colab": {
          "base_uri": "https://localhost:8080/"
        },
        "outputId": "51514638-d35d-4650-fbdd-b3feee38506c"
      },
      "source": [
        "float(a)"
      ],
      "execution_count": 30,
      "outputs": [
        {
          "output_type": "execute_result",
          "data": {
            "text/plain": [
              "1.0"
            ]
          },
          "metadata": {},
          "execution_count": 30
        }
      ]
    },
    {
      "cell_type": "markdown",
      "metadata": {
        "id": "cnsGggHvcFUv"
      },
      "source": [
        "<p><strong>[출력 결과]</strong></p><pre>1.0</pre>"
      ]
    },
    {
      "cell_type": "markdown",
      "metadata": {
        "id": "z_4fJfIKcFUv"
      },
      "source": [
        "### Q3: Type 변경"
      ]
    },
    {
      "cell_type": "code",
      "metadata": {
        "id": "ihCZBHYmcFUv"
      },
      "source": [
        "a = 1"
      ],
      "execution_count": 31,
      "outputs": []
    },
    {
      "cell_type": "markdown",
      "metadata": {
        "id": "HbYXBP-BcFUv"
      },
      "source": [
        "타입을 변경해 주세요"
      ]
    },
    {
      "cell_type": "code",
      "metadata": {
        "id": "AlF4vYEacFUw",
        "colab": {
          "base_uri": "https://localhost:8080/"
        },
        "outputId": "f4e67b45-d26a-40bb-cbc5-f5a2150926cb"
      },
      "source": [
        "bool(a)"
      ],
      "execution_count": 32,
      "outputs": [
        {
          "output_type": "execute_result",
          "data": {
            "text/plain": [
              "True"
            ]
          },
          "metadata": {},
          "execution_count": 32
        }
      ]
    },
    {
      "cell_type": "markdown",
      "metadata": {
        "id": "rv0xc-6zcFUw"
      },
      "source": [
        "<p><strong>[출력 결과]</strong></p><pre>True</pre>"
      ]
    },
    {
      "cell_type": "markdown",
      "metadata": {
        "id": "rAknzzhDcFUw"
      },
      "source": [
        "### Q4: 타입 변경"
      ]
    },
    {
      "cell_type": "code",
      "metadata": {
        "id": "H4fkV9KKcFUw"
      },
      "source": [
        "a = False"
      ],
      "execution_count": 35,
      "outputs": []
    },
    {
      "cell_type": "markdown",
      "metadata": {
        "id": "6CFpqc8FcFUw"
      },
      "source": [
        "타입을 변경해 주세요"
      ]
    },
    {
      "cell_type": "code",
      "metadata": {
        "id": "waDKfD8ncFUw",
        "colab": {
          "base_uri": "https://localhost:8080/"
        },
        "outputId": "79a14562-7946-45bb-d560-bc3627c073c9"
      },
      "source": [
        "int(a)"
      ],
      "execution_count": 36,
      "outputs": [
        {
          "output_type": "execute_result",
          "data": {
            "text/plain": [
              "0"
            ]
          },
          "metadata": {},
          "execution_count": 36
        }
      ]
    },
    {
      "cell_type": "markdown",
      "metadata": {
        "id": "HxX7ZKIqcFUw"
      },
      "source": [
        "<p><strong>[출력 결과]</strong></p><pre>0</pre>"
      ]
    },
    {
      "cell_type": "markdown",
      "metadata": {
        "id": "F2C_ljA8cFUx"
      },
      "source": [
        "### Q5: 타입 변경"
      ]
    },
    {
      "cell_type": "code",
      "metadata": {
        "id": "UAKinAYbcFUx"
      },
      "source": [
        "a = 123"
      ],
      "execution_count": 37,
      "outputs": []
    },
    {
      "cell_type": "markdown",
      "metadata": {
        "id": "NhC88T6ccFUx"
      },
      "source": [
        "타입을 변경해 주세요"
      ]
    },
    {
      "cell_type": "code",
      "metadata": {
        "id": "QAwOjbQpcFUx",
        "colab": {
          "base_uri": "https://localhost:8080/",
          "height": 35
        },
        "outputId": "c161aa2f-5478-40a5-844a-967beda5eaf4"
      },
      "source": [
        "str(a)"
      ],
      "execution_count": 38,
      "outputs": [
        {
          "output_type": "execute_result",
          "data": {
            "text/plain": [
              "'123'"
            ],
            "application/vnd.google.colaboratory.intrinsic+json": {
              "type": "string"
            }
          },
          "metadata": {},
          "execution_count": 38
        }
      ]
    },
    {
      "cell_type": "markdown",
      "metadata": {
        "id": "wahiNPyUcFUx"
      },
      "source": [
        "<p><strong>[출력 결과]</strong></p><pre>'123'</pre>"
      ]
    }
  ]
}